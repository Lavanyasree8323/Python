{
 "cells": [
  {
   "cell_type": "markdown",
   "id": "3689c1c7",
   "metadata": {},
   "source": [
    "# DAY-2 (7-05-23)\n"
   ]
  },
  {
   "cell_type": "code",
   "execution_count": 2,
   "id": "c6b6c83b",
   "metadata": {},
   "outputs": [
    {
     "name": "stdout",
     "output_type": "stream",
     "text": [
      "\n",
      "Here is a list of the Python keywords.  Enter any keyword to get more help.\n",
      "\n",
      "False               class               from                or\n",
      "None                continue            global              pass\n",
      "True                def                 if                  raise\n",
      "and                 del                 import              return\n",
      "as                  elif                in                  try\n",
      "assert              else                is                  while\n",
      "async               except              lambda              with\n",
      "await               finally             nonlocal            yield\n",
      "break               for                 not                 \n",
      "\n",
      "None\n"
     ]
    }
   ],
   "source": [
    "print(help('keywords'))"
   ]
  },
  {
   "cell_type": "code",
   "execution_count": 3,
   "id": "8ce21268",
   "metadata": {},
   "outputs": [
    {
     "name": "stdout",
     "output_type": "stream",
     "text": [
      "3\n"
     ]
    }
   ],
   "source": [
    "#variables\n",
    "A=3\n",
    "print(A)"
   ]
  },
  {
   "cell_type": "code",
   "execution_count": 4,
   "id": "c63be859",
   "metadata": {},
   "outputs": [
    {
     "name": "stdout",
     "output_type": "stream",
     "text": [
      "<class 'int'>\n",
      "<class 'float'>\n"
     ]
    }
   ],
   "source": [
    "#implicit type conversion\n",
    "b=50\n",
    "print(type(b))\n",
    "c=5.5\n",
    "print(type(c))\n"
   ]
  },
  {
   "cell_type": "code",
   "execution_count": 5,
   "id": "9427012d",
   "metadata": {},
   "outputs": [
    {
     "name": "stdout",
     "output_type": "stream",
     "text": [
      "<class 'complex'>\n",
      "(1+2j)\n"
     ]
    }
   ],
   "source": [
    "#complex=real no+imaginary no\n",
    "d=1+2j\n",
    "print(type(d))\n",
    "print(d)\n"
   ]
  },
  {
   "cell_type": "code",
   "execution_count": 6,
   "id": "40d5fc16",
   "metadata": {},
   "outputs": [
    {
     "name": "stdout",
     "output_type": "stream",
     "text": [
      "comment\n",
      "<class 'str'>\n"
     ]
    }
   ],
   "source": [
    "#string=collection of charecters enclosed within a single,double or triple quotation\n",
    "e='comment'\n",
    "print(e)\n",
    "print(type(e))\n"
   ]
  },
  {
   "cell_type": "code",
   "execution_count": 7,
   "id": "8e19d21c",
   "metadata": {},
   "outputs": [
    {
     "name": "stdout",
     "output_type": "stream",
     "text": [
      "2.0\n",
      "(2+0j)\n"
     ]
    }
   ],
   "source": [
    "f=2\n",
    "print(float(f))\n",
    "print(complex(f))\n"
   ]
  },
  {
   "cell_type": "markdown",
   "id": "a8c5bd54",
   "metadata": {},
   "source": [
    "# DAY-3(02-06-2023)\n"
   ]
  },
  {
   "cell_type": "code",
   "execution_count": 8,
   "id": "828f8962",
   "metadata": {},
   "outputs": [
    {
     "name": "stdout",
     "output_type": "stream",
     "text": [
      "[]\n",
      "<class 'list'>\n"
     ]
    }
   ],
   "source": [
    "#data typing\n",
    "#mutable data typing\n",
    "#list\n",
    "g=[]\n",
    "print(g)\n",
    "print(type(g))\n"
   ]
  },
  {
   "cell_type": "code",
   "execution_count": 9,
   "id": "816db95d",
   "metadata": {},
   "outputs": [
    {
     "name": "stdout",
     "output_type": "stream",
     "text": [
      "[5]\n"
     ]
    }
   ],
   "source": [
    "#append=we can add only one element @ a time\n",
    "g.append(5)\n",
    "print(g)\n"
   ]
  },
  {
   "cell_type": "code",
   "execution_count": 10,
   "id": "bcfe49d4",
   "metadata": {},
   "outputs": [
    {
     "name": "stdout",
     "output_type": "stream",
     "text": [
      "[5, 1, 2, 3, 4, 6]\n"
     ]
    }
   ],
   "source": [
    "#extend-add more element @ a time\n",
    "g.extend([1,2,3,4,6])\n",
    "print(g)\n"
   ]
  },
  {
   "cell_type": "code",
   "execution_count": 11,
   "id": "f90aa4bc",
   "metadata": {},
   "outputs": [
    {
     "name": "stdout",
     "output_type": "stream",
     "text": [
      "[1, 2, 3, 4, 5, 6, 7.8, (9+1j), 8, 7]\n",
      "10\n",
      "1\n"
     ]
    }
   ],
   "source": [
    "g=[1,2,3,4,5,6,7.8,9+1j,8,7]\n",
    "print(g)\n",
    "print(len(g))\n",
    "print(g.count(7))\n"
   ]
  },
  {
   "cell_type": "code",
   "execution_count": 12,
   "id": "755e82b6",
   "metadata": {},
   "outputs": [
    {
     "name": "stdout",
     "output_type": "stream",
     "text": [
      "2\n"
     ]
    }
   ],
   "source": [
    "g=[1,2,3,4,5,6,7.8,9+1j,8,7,7]\n",
    "print(g.count(7))\n"
   ]
  },
  {
   "cell_type": "code",
   "execution_count": 13,
   "id": "c7348aca",
   "metadata": {},
   "outputs": [
    {
     "name": "stdout",
     "output_type": "stream",
     "text": [
      "[1, 2, 3, 4, 5, 50, 6, 7.8, (9+1j), 8, 7, 7]\n"
     ]
    }
   ],
   "source": [
    "#insert-inbetween add element\n",
    "g=[1,2,3,4,5,6,7.8,9+1j,8,7,7]\n",
    "g.insert(5,50)\n",
    "print(g)\n"
   ]
  },
  {
   "cell_type": "code",
   "execution_count": 14,
   "id": "334da7fa",
   "metadata": {},
   "outputs": [
    {
     "name": "stdout",
     "output_type": "stream",
     "text": [
      "[1, 2, 3, 24, 5, 6, 7.8, (9+1j), 8, 7, 7]\n"
     ]
    }
   ],
   "source": [
    "#replacing the list element\n",
    "g=[1,2,3,4,5,6,7.8,9+1j,8,7,7]\n",
    "g[3]=24\n",
    "print(g)\n"
   ]
  },
  {
   "cell_type": "code",
   "execution_count": 15,
   "id": "0504decb",
   "metadata": {},
   "outputs": [
    {
     "name": "stdout",
     "output_type": "stream",
     "text": [
      "8\n"
     ]
    }
   ],
   "source": [
    "#identify index\n",
    "g=[1,2,3,4,5,6,7.8,9+1j,8,7,7]\n",
    "print(g.index(8))\n"
   ]
  },
  {
   "cell_type": "code",
   "execution_count": 16,
   "id": "3516c8a3",
   "metadata": {},
   "outputs": [
    {
     "name": "stdout",
     "output_type": "stream",
     "text": [
      "8\n",
      "1\n",
      "50.8\n"
     ]
    }
   ],
   "source": [
    "#sum, max , min\n",
    "g=[1,2,3,4,5,6,7.8,8,7,7]\n",
    "print(max(g))\n",
    "print(min(g))\n",
    "g=[1,2,3,4,5,6,7.8,8,7,7]\n",
    "print(sum(g))\n"
   ]
  },
  {
   "cell_type": "code",
   "execution_count": 17,
   "id": "77d33e08",
   "metadata": {},
   "outputs": [
    {
     "name": "stdout",
     "output_type": "stream",
     "text": [
      "[1, 2, 3, 4, 5, 6, 7, 7, 7.8, 8]\n",
      "[8, 7.8, 7, 7, 6, 5, 4, 3, 2, 1]\n"
     ]
    }
   ],
   "source": [
    "#sort-ascending result\n",
    "g=[1,2,3,4,5,6,7.8,8,7,7]\n",
    "g.sort()\n",
    "print(g)\n",
    "g.reverse()\n",
    "print(g)\n",
    "\n"
   ]
  },
  {
   "cell_type": "markdown",
   "id": "29a78154",
   "metadata": {},
   "source": [
    "# DAY-4(04-06-2023)\n"
   ]
  },
  {
   "cell_type": "code",
   "execution_count": 18,
   "id": "7e4e9c76",
   "metadata": {},
   "outputs": [
    {
     "name": "stdout",
     "output_type": "stream",
     "text": [
      "['apple', 'mamgo', 'banana', 'orangr', 'grapes']\n",
      "<class 'list'>\n",
      "5\n",
      "['apple', 'mango', 'banana', 'orangr', 'mango', 'grapes', 'watermelon']\n",
      "2\n",
      "orangr\n",
      "apple\n"
     ]
    }
   ],
   "source": [
    "#list-string\n",
    "fruits=['apple','mamgo','banana','orangr','grapes']\n",
    "print(fruits)\n",
    "print(type(fruits))\n",
    "print(len(fruits))\n",
    "fruits=['apple','mango','banana','orangr','mango','grapes']\n",
    "fruits.append('watermelon')\n",
    "print(fruits)\n",
    "print(fruits.count('mango'))\n",
    "fruits=['apple','mango','banana','orangr','mango','grapes']\n",
    "print(max(fruits))\n",
    "print(min(fruits))\n"
   ]
  },
  {
   "cell_type": "markdown",
   "id": "338de7e8",
   "metadata": {},
   "source": [
    "# DAY-5 (10-06-2023)\n"
   ]
  },
  {
   "cell_type": "code",
   "execution_count": 19,
   "id": "57feab41",
   "metadata": {},
   "outputs": [
    {
     "name": "stdout",
     "output_type": "stream",
     "text": [
      "[1, 2, 3, 6, 78, 99, 77, 77, 95]\n"
     ]
    }
   ],
   "source": [
    "#list\n",
    "h=[1,2,3,6,78,99,77,77,95]\n",
    "print(h)\n"
   ]
  },
  {
   "cell_type": "code",
   "execution_count": 20,
   "id": "6f8b9df1",
   "metadata": {},
   "outputs": [
    {
     "name": "stdout",
     "output_type": "stream",
     "text": [
      "[1, 2, 3, 6, 78, 99, 77, 77, 95]\n",
      "[1, 2, 3, 6, 78, 99, 77, 77, 95, 93]\n"
     ]
    }
   ],
   "source": [
    "#copy\n",
    "hi=h.copy()\n",
    "print(hi)\n",
    "h.append(93)\n",
    "print(h)\n"
   ]
  },
  {
   "cell_type": "code",
   "execution_count": 21,
   "id": "8847ebd0",
   "metadata": {},
   "outputs": [
    {
     "name": "stdout",
     "output_type": "stream",
     "text": [
      "77\n",
      "77\n"
     ]
    }
   ],
   "source": [
    "#how to access the list element-using index position\n",
    "h=[1, 2, 3, 6, 78, 99, 77, 77, 95, 93]\n",
    "print(h[7])\n",
    "print(h[-3])\n"
   ]
  },
  {
   "cell_type": "code",
   "execution_count": 22,
   "id": "d412d78f",
   "metadata": {},
   "outputs": [
    {
     "name": "stdout",
     "output_type": "stream",
     "text": [
      "[1, 2, 3]\n",
      "[1, 2, 3, 6, 78, 99, 77, 77, 95]\n",
      "[77, 95, 93]\n"
     ]
    }
   ],
   "source": [
    "#slicing-[start value:end value(n-1)]\n",
    "h=[1, 2, 3, 6, 78, 99, 77, 77, 95, 93]\n",
    "print(h[0:3])\n",
    "print(h[:9])\n",
    "print(h[7:])\n",
    "h=[1, 2, 3, 6, 78, 99, 77, 77, 95, 93]\n"
   ]
  },
  {
   "cell_type": "code",
   "execution_count": 23,
   "id": "676c87ab",
   "metadata": {},
   "outputs": [
    {
     "name": "stdout",
     "output_type": "stream",
     "text": [
      "[6, 77, 93]\n",
      "[1, 2, 3, 6, 78, 99, 77, 77]\n"
     ]
    }
   ],
   "source": [
    "#[start value:end value(n-1):step value]\n",
    "print(h[3:10:3])\n",
    "print(h[:-2])\n"
   ]
  },
  {
   "cell_type": "code",
   "execution_count": 24,
   "id": "38ee57ea",
   "metadata": {},
   "outputs": [
    {
     "name": "stdout",
     "output_type": "stream",
     "text": [
      "[93, 95, 77, 77, 99, 78, 6, 3, 2, 1]\n"
     ]
    }
   ],
   "source": [
    "#reverse order of execution\n",
    "print(h[::-1])\n"
   ]
  },
  {
   "cell_type": "code",
   "execution_count": 25,
   "id": "29a0d315",
   "metadata": {},
   "outputs": [
    {
     "name": "stdout",
     "output_type": "stream",
     "text": [
      "[1, 2, 6, 78, 99, 77, 77, 95, 93]\n"
     ]
    }
   ],
   "source": [
    "#how to delete the list element\n",
    "h=[1, 2, 3, 6, 78, 99, 77, 77, 95, 93]\n",
    "del h[2]\n",
    "print(h)\n"
   ]
  },
  {
   "cell_type": "code",
   "execution_count": 26,
   "id": "6248ab9d",
   "metadata": {},
   "outputs": [
    {
     "name": "stdout",
     "output_type": "stream",
     "text": [
      "[1, 2, 3, 6, 78, 99, 77, 77, 95]\n",
      "[1, 2, 3, 6, 78, 99, 77, 95]\n",
      "[1, 2, 3, 6, 99, 77, 95]\n",
      "[]\n"
     ]
    }
   ],
   "source": [
    "#stack- push and pop method\n",
    "#last in first out\n",
    "h=[1, 2, 3, 6, 78, 99, 77, 77, 95, 93]\n",
    "h.pop()\n",
    "print(h)\n",
    "h.pop(7)\n",
    "print(h)\n",
    "h.remove(78)\n",
    "print(h)\n",
    "h.clear()\n",
    "print(h)\n"
   ]
  },
  {
   "cell_type": "code",
   "execution_count": 29,
   "id": "4d444918",
   "metadata": {},
   "outputs": [
    {
     "name": "stdout",
     "output_type": "stream",
     "text": [
      "[20, 30, 40, 50]\n",
      "[20, 30, 40, 50, [60, 70, 80, 90, 100]]\n",
      "[60, 70, 80, 90, 100]\n",
      "80\n"
     ]
    }
   ],
   "source": [
    "#nested list-list inside another list\n",
    "h=[20,30,40,50]\n",
    "print(h)\n",
    "h.append([60,70,80,90,100])\n",
    "print(h)\n",
    "print(h[4])\n",
    "print(h[4][2])\n",
    "\n"
   ]
  },
  {
   "cell_type": "markdown",
   "id": "27101b48",
   "metadata": {},
   "source": [
    "# DAY-6 (11-06-2023)\n"
   ]
  },
  {
   "cell_type": "code",
   "execution_count": 30,
   "id": "6ed8fbbe",
   "metadata": {},
   "outputs": [
    {
     "name": "stdout",
     "output_type": "stream",
     "text": [
      "{'name': 'Lavanya Sree', 'ID': 8323, 'age': 20, 'degree': 'BSc AZB'}\n",
      "<class 'dict'>\n"
     ]
    }
   ],
   "source": [
    "#Dictionary-mutable data type\n",
    "#{key-value}-item\n",
    "d={'name':'Lavanya Sree','ID':8323,'age':20,'degree':'BSc AZB'}\n",
    "print(d)\n",
    "print(type(d))\n"
   ]
  },
  {
   "cell_type": "code",
   "execution_count": 31,
   "id": "54726ba2",
   "metadata": {},
   "outputs": [
    {
     "name": "stdout",
     "output_type": "stream",
     "text": [
      "Lavanya Sree\n",
      "{'name': 'Lavanya Sree', 'ID': 8323, 'age': 20, 'degree': 'BSc AZB', 'native': 'chennai'}\n",
      "<class 'dict'>\n",
      "{'name': 'Lavanya Sree'}\n",
      "None\n",
      "{'name': 'Lavanya Sree', 'ID': 8323, 'age': 20, 'degree': 'BSc AZB', 'native': 'chennai'}\n",
      "dict_keys(['name', 'ID', 'age', 'degree', 'native'])\n",
      "dict_values(['Lavanya Sree', 8323, 20, 'BSc AZB', 'chennai'])\n",
      "dict_items([('name', 'Lavanya Sree'), ('ID', 8323), ('age', 20), ('degree', 'BSc AZB'), ('native', 'chennai')])\n",
      "my name is: Lavanya Sree\n",
      "i have completed BSc AZB\n"
     ]
    }
   ],
   "source": [
    "#how to access the value-using key\n",
    "print(d['name'])\n",
    "d['native']='chennai'\n",
    "print(d)\n",
    "d={}\n",
    "print(type(d))\n",
    "d['name']='Lavanya Sree'\n",
    "print(d)\n",
    "print(d.update({'ID':8323,'age':20,'degree':'BSc AZB','native':'chennai'}))\n",
    "print(d)\n",
    "print(d.keys())\n",
    "print(d.values())\n",
    "print(d.items())\n",
    "d={'name': 'Lavanya Sree', 'ID': 8323, 'age': 20, 'degree': 'BSc AZB', 'native': 'chennai'}\n",
    "print('my name is:',d['name'])\n",
    "print('i have completed',d.get('degree'))\n"
   ]
  },
  {
   "cell_type": "code",
   "execution_count": 32,
   "id": "5fd3f6c7",
   "metadata": {},
   "outputs": [
    {
     "name": "stdout",
     "output_type": "stream",
     "text": [
      "{'name': 'Lavanya Sree', 'age': 20, 'degree': 'BSc AZB', 'native': 'chennai'}\n",
      "{'name': 'Lavanya Sree', 'degree': 'BSc AZB', 'native': 'chennai'}\n",
      "{}\n",
      "5\n"
     ]
    }
   ],
   "source": [
    "#how to delete dictionary element\n",
    "del d['ID']\n",
    "print(d)\n",
    "d.pop('age')\n",
    "print(d)\n",
    "d.clear()\n",
    "print(d)\n",
    "d={'name': 'Lavanya Sree', 'ID': 8323, 'age': 20, 'degree': 'BSc AZB', 'native': 'chennai'}\n",
    "print(len(d))\n"
   ]
  },
  {
   "cell_type": "code",
   "execution_count": 33,
   "id": "c0a5fa06",
   "metadata": {},
   "outputs": [
    {
     "name": "stdout",
     "output_type": "stream",
     "text": [
      "set()\n",
      "<class 'set'>\n"
     ]
    }
   ],
   "source": [
    "#set-within curly braces,NO duplicate value allowed\n",
    "s=set()# empty set decleration\n",
    "print(s)\n",
    "print(type(s))\n"
   ]
  },
  {
   "cell_type": "code",
   "execution_count": 34,
   "id": "004f07cf",
   "metadata": {},
   "outputs": [
    {
     "name": "stdout",
     "output_type": "stream",
     "text": [
      "{7}\n",
      "{1, 3, 5, 6, 7, 9, 'L'}\n",
      "{7, 25, 12, 13, 14}\n",
      "5\n",
      "71\n",
      "25\n",
      "7\n"
     ]
    }
   ],
   "source": [
    "#Add- we can add only one element at a time\n",
    "s.add(7)\n",
    "print(s)\n",
    "s.update({1,5,6,3,'L',9})\n",
    "print(s)\n",
    "p={7,12,13,14,25}\n",
    "print(p)\n",
    "print(len(p))\n",
    "print(sum(p))\n",
    "print(max(p))\n",
    "print(min(p))"
   ]
  },
  {
   "cell_type": "code",
   "execution_count": 35,
   "id": "2d8eca04",
   "metadata": {},
   "outputs": [
    {
     "name": "stdout",
     "output_type": "stream",
     "text": [
      "{1, 3, 5, 6, 7, 9, 12, 13, 14, 25, 'L'}\n",
      "{1, 3, 5, 6, 9, 'L'}\n",
      "{7}\n",
      "{1, 3, 5, 6, 9, 12, 13, 14, 25, 'L'}\n"
     ]
    }
   ],
   "source": [
    "#union(|)\n",
    "print(s|p)\n",
    "#difference(-)\n",
    "print(s-p)\n",
    "#intersection(&)\n",
    "print(s&p)\n",
    "#symmetric_difference(^)\n",
    "print(s^p)\n",
    "#how to delete the set element\n",
    "#NO del is used\n",
    "s={1, 'L', 3, 5, 6, 7, 9}\n",
    "p={7,12,13,14,25}\n"
   ]
  },
  {
   "cell_type": "code",
   "execution_count": 36,
   "id": "bf6d6c75",
   "metadata": {},
   "outputs": [
    {
     "name": "stdout",
     "output_type": "stream",
     "text": [
      "{3, 5, 6, 7, 9, 'L'}\n",
      "{3, 5, 6, 7, 'L'}\n",
      "set()\n"
     ]
    }
   ],
   "source": [
    "s={1, 'L', 3, 5, 6, 7, 9}\n",
    "s.pop()\n",
    "print(s)\n",
    "s.remove(9)\n",
    "print(s)\n",
    "s.clear()\n",
    "print(s)\n",
    "\n"
   ]
  },
  {
   "cell_type": "markdown",
   "id": "e9530232",
   "metadata": {},
   "source": [
    "# DAY-7(17-06-2023)\n"
   ]
  },
  {
   "cell_type": "code",
   "execution_count": 38,
   "id": "dd2f9b17",
   "metadata": {},
   "outputs": [
    {
     "name": "stdout",
     "output_type": "stream",
     "text": [
      "(10, 20, 30, 50, 70, 77, 95)\n",
      "<class 'tuple'>\n"
     ]
    }
   ],
   "source": [
    "#immutable data type\n",
    "#tuple-store immutable dsta type within a curve bracket().NO duplicate is allowed\n",
    "t=(10,20,30,50,70,77,95)\n",
    "print(t)\n",
    "print(type(t))\n"
   ]
  },
  {
   "cell_type": "code",
   "execution_count": 39,
   "id": "c5d05c09",
   "metadata": {},
   "outputs": [
    {
     "name": "stdout",
     "output_type": "stream",
     "text": [
      "30\n",
      "8\n",
      "2\n",
      "3\n",
      "422\n",
      "95\n",
      "10\n"
     ]
    }
   ],
   "source": [
    "#how to access the tuple element-using index position\n",
    "t=(10,20,30,50,70,70,77,95)\n",
    "print(t[2])\n",
    "print(len(t))\n",
    "print(t.count(70))\n",
    "print(t.index(50))\n",
    "print(sum(t))\n",
    "print(max(t))\n",
    "print(min(t))\n"
   ]
  },
  {
   "cell_type": "code",
   "execution_count": 40,
   "id": "72ed941f",
   "metadata": {},
   "outputs": [
    {
     "name": "stdout",
     "output_type": "stream",
     "text": [
      "(10, 20, 30, 50, 70, 70, 77, 95, 99, 89, 99, 100, 97)\n"
     ]
    }
   ],
   "source": [
    "#concatenation(-,+)\n",
    "t=(10,20,30,50,70,70,77,95)\n",
    "t1=t+(99,89,99,100,97)\n",
    "print(t1)\n"
   ]
  },
  {
   "cell_type": "code",
   "execution_count": 41,
   "id": "121fad85",
   "metadata": {},
   "outputs": [
    {
     "name": "stdout",
     "output_type": "stream",
     "text": [
      "95\n",
      "70\n"
     ]
    }
   ],
   "source": [
    "# how to access the tuple element-using index position\n",
    "print(t[7])\n",
    "print(t[-3])\n"
   ]
  },
  {
   "cell_type": "code",
   "execution_count": 2,
   "id": "83bfe323",
   "metadata": {},
   "outputs": [
    {
     "name": "stdout",
     "output_type": "stream",
     "text": [
      "(10, 20, 30, 50, 70, 70, 77)\n",
      "(10, 20, 30, 50, 70)\n",
      "(95,)\n",
      "(95, 77, 70, 70, 50, 30, 20, 10)\n",
      "(10, 20, 30, 50, 70)\n",
      "(20, 50, 70, 95)\n"
     ]
    }
   ],
   "source": [
    "#slicing-pop\n",
    "t=(10,20,30,50,70,70,77,95)\n",
    "print(t[0:7])\n",
    "print(t[:5])\n",
    "print(t[7:])\n",
    "print(t[::-1])\n",
    "print(t[:-3])\n",
    "print(t[1:9:2])\n"
   ]
  },
  {
   "cell_type": "code",
   "execution_count": 43,
   "id": "f514ce8c",
   "metadata": {},
   "outputs": [
    {
     "name": "stdout",
     "output_type": "stream",
     "text": [
      "Lavanya Sree\n",
      "<class 'str'>\n",
      "combaining the string: Lavanya Sree Pellakuri\n"
     ]
    }
   ],
   "source": [
    "#string-immutable data type\n",
    "#collection of charecters surrounded by quotations(1,2,3)\n",
    "s='Lavanya Sree'\n",
    "print(s)\n",
    "print(type(s))\n",
    "s1=' Pellakuri'\n",
    "print('combaining the string:',s+s1)\n"
   ]
  },
  {
   "cell_type": "code",
   "execution_count": 44,
   "id": "7e3f0b18",
   "metadata": {},
   "outputs": [
    {
     "name": "stdout",
     "output_type": "stream",
     "text": [
      "LAVANYA SREE\n",
      "True\n",
      "False\n"
     ]
    }
   ],
   "source": [
    "#string-space is also a charecter\n",
    "s='Lavanya Sree'\n",
    "print(s.upper())\n",
    "s='LAVANYA SREE'\n",
    "print(s.isupper())\n",
    "print(s.islower())\n"
   ]
  },
  {
   "cell_type": "code",
   "execution_count": 45,
   "id": "81539a12",
   "metadata": {},
   "outputs": [
    {
     "name": "stdout",
     "output_type": "stream",
     "text": [
      "Lavanya Sree\n",
      "True\n",
      "Lavanya Sree\n"
     ]
    }
   ],
   "source": [
    "#title- each word starting letter turn capital\n",
    "s='Lavanya sree'\n",
    "print(s.title())\n",
    "s='Lavanya Sree'\n",
    "print(s.istitle())\n",
    "s='Lavanya Sree'\n",
    "print(s)\n"
   ]
  },
  {
   "cell_type": "code",
   "execution_count": 46,
   "id": "64de177c",
   "metadata": {},
   "outputs": [
    {
     "name": "stdout",
     "output_type": "stream",
     "text": [
      "y\n",
      " \n",
      "<class 'str'>\n",
      "12\n",
      "3\n",
      "4\n",
      " \n"
     ]
    }
   ],
   "source": [
    "print(max(s))\n",
    "print(min(s))\n",
    "print(type(s))\n",
    "print(len(s))\n",
    "print(s.count('a'))\n",
    "print(s.index('n'))\n",
    "print(s[7])\n"
   ]
  },
  {
   "cell_type": "code",
   "execution_count": 47,
   "id": "57e35bfd",
   "metadata": {},
   "outputs": [
    {
     "name": "stdout",
     "output_type": "stream",
     "text": [
      "ya Sre\n",
      "Lavanya\n",
      "anya Sree\n",
      "Lavanya\n",
      "eerS aynavaL\n"
     ]
    }
   ],
   "source": [
    "#slicing-pop\n",
    "s='Lavanya Sree'\n",
    "print(s[5:-1])\n",
    "print(s[:-5])\n",
    "print(s[3:])\n",
    "print(s[0:7])\n",
    "print(s[::-1])\n"
   ]
  },
  {
   "cell_type": "code",
   "execution_count": 48,
   "id": "aca45a55",
   "metadata": {},
   "outputs": [
    {
     "name": "stdout",
     "output_type": "stream",
     "text": [
      "#######Lavanya Sree######\n",
      "###Lavanya Sree##\n",
      "%%%%%%Lavanya Sree\n",
      "Lavanya Sree!!!!!!!!!!!!!!!\n",
      "True\n",
      "True\n",
      "False\n"
     ]
    }
   ],
   "source": [
    "# center,rjust(right),ljust(left)\n",
    "s='Lavanya Sree'\n",
    "print(s.center(25,'#'))\n",
    "print(s.center(17,'#'))\n",
    "print(s.rjust(18,'%'))\n",
    "print(s.ljust(27,'!'))\n",
    "print(s.startswith('L'))\n",
    "print(s.endswith('e'))\n",
    "print(s.endswith('E'))\n"
   ]
  },
  {
   "cell_type": "code",
   "execution_count": 49,
   "id": "05946586",
   "metadata": {},
   "outputs": [
    {
     "name": "stdout",
     "output_type": "stream",
     "text": [
      "asdfg\n",
      "['j', 'k', 'l']\n"
     ]
    }
   ],
   "source": [
    "#join\n",
    "s='a','s','d','f','g'\n",
    "print(''.join(s))\n",
    "s='j,k,l'\n",
    "print(s.split(','))\n"
   ]
  },
  {
   "cell_type": "code",
   "execution_count": 50,
   "id": "2030babd",
   "metadata": {},
   "outputs": [],
   "source": [
    "#ASCII-American Standard Code Information Interchange\n",
    "#small letter-high value\n",
    "#capital letter-low value\n",
    "#space is also a cherecter - lowest value\n",
    "# from letter to find number(ord is key)\n",
    "#from number to find letter (chr is key)\n"
   ]
  },
  {
   "cell_type": "code",
   "execution_count": 51,
   "id": "e9519f5b",
   "metadata": {},
   "outputs": [
    {
     "name": "stdout",
     "output_type": "stream",
     "text": [
      "108\n",
      "83\n",
      "74\n",
      "75\n",
      "107\n",
      "106\n",
      "76\n",
      "d\n",
      "2\n",
      "F\n",
      "ª\n",
      "Ϩ\n",
      "¾\n",
      "-\n",
      "\u000b\n",
      "\n",
      "M\n"
     ]
    }
   ],
   "source": [
    "print(ord('l'))\n",
    "print(ord('S'))\n",
    "print(ord('J'))\n",
    "print(ord('K'))\n",
    "print(ord('k'))\n",
    "print(ord('j'))\n",
    "print(ord('L'))\n",
    "print(chr(100))\n",
    "print(chr(50))\n",
    "print(chr(70))\n",
    "print(chr(170))\n",
    "print(chr(1000))\n",
    "print(chr(190))\n",
    "print(chr(45))\n",
    "print(chr(11))\n",
    "print(chr(77))\n"
   ]
  },
  {
   "cell_type": "code",
   "execution_count": 52,
   "id": "d1212241",
   "metadata": {},
   "outputs": [
    {
     "name": "stdout",
     "output_type": "stream",
     "text": [
      "avanya\n",
      "Lavanya Sr\n",
      "Lavanya\n",
      " Sree\n",
      "ree\n",
      "eerS aynavaL\n",
      "LAVANYA SREE\n",
      "True\n"
     ]
    }
   ],
   "source": [
    "s='Lavanya Sree'\n",
    "print(s[1:7])\n",
    "print(s[:10])\n",
    "print(s[:-5])\n",
    "print(s[7:])\n",
    "print(s[-3:])\n",
    "print(s[::-1])\n",
    "print(s.upper())\n",
    "print(s.istitle())\n"
   ]
  },
  {
   "cell_type": "markdown",
   "id": "e20b65b1",
   "metadata": {},
   "source": [
    "# DAY -8 (18-06-2023)\n"
   ]
  },
  {
   "cell_type": "code",
   "execution_count": 28,
   "id": "7be44ffa",
   "metadata": {},
   "outputs": [
    {
     "name": "stdout",
     "output_type": "stream",
     "text": [
      "{'name': 'Lavanya Sree', 'ID': 8323, 'age': 20, 'degree': 'BSc AZB'}\n",
      "<class 'dict'>\n"
     ]
    }
   ],
   "source": [
    "#DAY-6 (11-06-2023)\n",
    "\n",
    "#Dictionary-mutable data type\n",
    "#{key-value}\n",
    "d={'name':'Lavanya Sree','ID':8323,'age':20,'degree':'BSc AZB'}\n",
    "print(d)\n",
    "print(type(d))\n"
   ]
  },
  {
   "cell_type": "code",
   "execution_count": 54,
   "id": "baa8bf3a",
   "metadata": {},
   "outputs": [
    {
     "name": "stdout",
     "output_type": "stream",
     "text": [
      "enter your name:Lavanya Sree P\n",
      "enter your degree:BSc\n",
      "my name is Lavanya Sree P have completed BSc\n",
      "enter your name:Lavanya Sree P\n",
      "enter your degree:BSc AZB\n",
      "enter your age:18\n",
      "enter your native:Chennai\n",
      "enter your ID:8323\n",
      "enter your gender:female\n",
      "enter your phone no:6374929393\n",
      "my name is Lavanya Sree P from Chennai I am 18 years old female I have completed BSc AZB my ID is 8323 my phone no is 6374929393\n",
      "my name is Lavanya Sree P from Chennai I am 18 years old female T have completed BSc AZB my ID is 8323 my phone no is 6374929393\n"
     ]
    }
   ],
   "source": [
    "#input output function\n",
    "name =input('enter your name:')\n",
    "degree=input('enter your degree:')\n",
    "print('my name is',name,'have completed',degree)\n",
    "name =input('enter your name:')\n",
    "degree=input('enter your degree:')\n",
    "age=input('enter your age:')\n",
    "native=input('enter your native:')\n",
    "ID= input('enter your ID:')\n",
    "gender=input('enter your gender:')\n",
    "phoneNo=input('enter your phone no:')\n",
    "print('my name is',name,'from',native,'I am',age,'years old',gender,'I have completed',degree,'my ID is',ID,'my phone no is',phoneNo)\n",
    "#string formatting(f)in {}\n",
    "print(f'my name is {name} from {native} I am {age} years old {gender} T have completed {degree} my ID is {ID} my phone no is {phoneNo}')\n"
   ]
  },
  {
   "cell_type": "code",
   "execution_count": 55,
   "id": "80e65f8e",
   "metadata": {},
   "outputs": [
    {
     "name": "stdout",
     "output_type": "stream",
     "text": [
      "enter your number x:5\n",
      "enter your number y:7\n",
      "the value of 5 and 7\n",
      "the value of 5 and 7 is 57\n",
      "enter your number x:5\n",
      "enter your number y:7\n",
      "the value of 5 and 7 is 12\n"
     ]
    }
   ],
   "source": [
    "x=input('enter your number x:')\n",
    "y=input('enter your number y:')\n",
    "print('the value of {} and {}'.format(x,y))\n",
    "print(f'the value of {x} and {y} is {x+y}')\n",
    "x=int (input('enter your number x:'))\n",
    "y=int (input('enter your number y:'))\n",
    "print(f'the value of {x} and {y} is {x+y}')\n"
   ]
  },
  {
   "cell_type": "code",
   "execution_count": 56,
   "id": "0ca857c7",
   "metadata": {},
   "outputs": [
    {
     "name": "stdout",
     "output_type": "stream",
     "text": [
      "enter your number x:50\n",
      "enter your number y:5\n",
      "55\n",
      "45\n",
      "10.0\n",
      "10\n",
      "0\n",
      "312500000\n"
     ]
    }
   ],
   "source": [
    "# Operations in python\n",
    "# ARITHMETIC OPERATION(+,-,*,/,//- floor division(no decimel included in ans),%- modulus(remainder value is ans),**-exponential(x power y,power value calculated))\n",
    "x=int (input('enter your number x:'))\n",
    "y=int (input('enter your number y:'))\n",
    "print(x+y)\n",
    "print(x-y)\n",
    "print(x/y)\n",
    "print(x//y)\n",
    "print(x%y)\n",
    "print(x**y)\n"
   ]
  },
  {
   "cell_type": "markdown",
   "id": "d1107f5a",
   "metadata": {},
   "source": [
    "# DAY-9(24-06-2023)\n"
   ]
  },
  {
   "cell_type": "code",
   "execution_count": 58,
   "id": "0f5f7a02",
   "metadata": {},
   "outputs": [
    {
     "name": "stdout",
     "output_type": "stream",
     "text": [
      "enter your number x:55\n",
      "enter your number y:77\n",
      "enter your number z:57\n",
      "the value of z is: 132\n",
      "the value of z is: 187\n",
      "the value of z is: 110\n"
     ]
    }
   ],
   "source": [
    "#Assignment Operator-should put =before signs (=+,=-,=*,=**,=/,=//)\n",
    "x=int (input('enter your number x:'))\n",
    "y=int (input('enter your number y:'))\n",
    "z=int (input('enter your number z:'))\n",
    "z=x+y\n",
    "print('the value of z is:',z)\n",
    "z+=x #z=z+x\n",
    "print('the value of z is:',z)\n",
    "z-=y #z=z-x\n",
    "print('the value of z is:',z)\n"
   ]
  },
  {
   "cell_type": "code",
   "execution_count": 59,
   "id": "e87fa18a",
   "metadata": {},
   "outputs": [
    {
     "name": "stdout",
     "output_type": "stream",
     "text": [
      "enter your number x:55\n",
      "enter your number y:77\n",
      "enter your number z:75\n",
      "the value of z is: 4125\n",
      "the value of z is: 317625\n"
     ]
    }
   ],
   "source": [
    "x=int (input('enter your number x:'))\n",
    "y=int (input('enter your number y:'))\n",
    "z=int (input('enter your number z:'))\n",
    "z*=x #z=z*x\n",
    "print('the value of z is:',z)\n",
    "z*=y #z=z*y\n",
    "print('the value of z is:',z)\n"
   ]
  },
  {
   "cell_type": "code",
   "execution_count": 60,
   "id": "f0006b05",
   "metadata": {},
   "outputs": [
    {
     "name": "stdout",
     "output_type": "stream",
     "text": [
      "enter your number x:50\n",
      "enter your number y:10\n",
      "enter your number z:5\n",
      "the value of z is: 0.1\n",
      "the value of z is: 0.01\n"
     ]
    }
   ],
   "source": [
    "x=int (input('enter your number x:'))\n",
    "y=int (input('enter your number y:'))\n",
    "z=int (input('enter your number z:'))\n",
    "z/=x #z=z/x\n",
    "print('the value of z is:',z)\n",
    "z/=y #z=z/y\n",
    "print('the value of z is:',z)\n"
   ]
  },
  {
   "cell_type": "code",
   "execution_count": 61,
   "id": "56c4c148",
   "metadata": {},
   "outputs": [
    {
     "name": "stdout",
     "output_type": "stream",
     "text": [
      "enter your number x:5\n",
      "enter your number y:7\n",
      "enter your number z:4\n",
      "the value of z is: 0\n",
      "the value of z is: 0\n"
     ]
    }
   ],
   "source": [
    "x=int (input('enter your number x:'))\n",
    "y=int (input('enter your number y:'))\n",
    "z=int (input('enter your number z:'))\n",
    "z//=x #z=z//x\n",
    "print('the value of z is:',z)\n",
    "z//=y #z=z//y\n",
    "print('the value of z is:',z)\n"
   ]
  },
  {
   "cell_type": "code",
   "execution_count": 62,
   "id": "ba2e5bc7",
   "metadata": {},
   "outputs": [
    {
     "name": "stdout",
     "output_type": "stream",
     "text": [
      "enter your number x:50\n",
      "enter your number y:70\n",
      "enter your number z:5\n",
      "the value of z is: 5\n",
      "the value of z is: 5\n"
     ]
    }
   ],
   "source": [
    "x=int (input('enter your number x:'))\n",
    "y=int (input('enter your number y:'))\n",
    "z=int (input('enter your number z:'))\n",
    "z%=x #z=z%x\n",
    "print('the value of z is:',z)\n",
    "z%=y #z=z%y\n",
    "print('the value of z is:',z)\n"
   ]
  },
  {
   "cell_type": "code",
   "execution_count": 64,
   "id": "01f364f8",
   "metadata": {},
   "outputs": [
    {
     "name": "stdout",
     "output_type": "stream",
     "text": [
      "enter your number x:5\n",
      "enter your number y:3\n",
      "enter your number z:2\n",
      "the value of z is: 32\n",
      "the value of z is: 32768\n"
     ]
    }
   ],
   "source": [
    "x=int (input('enter your number x:'))\n",
    "y=int (input('enter your number y:'))\n",
    "z=int (input('enter your number z:'))\n",
    "z**=x #z=z**x\n",
    "print('the value of z is:',z)\n",
    "z**=y #z=z**y\n",
    "print('the value of z is:',z)\n"
   ]
  },
  {
   "cell_type": "code",
   "execution_count": 65,
   "id": "3a30e582",
   "metadata": {},
   "outputs": [
    {
     "name": "stdout",
     "output_type": "stream",
     "text": [
      "enter your number x:50\n",
      "enter your number y:70\n",
      "False\n",
      "True\n",
      "True\n",
      "True\n",
      "False\n",
      "False\n"
     ]
    }
   ],
   "source": [
    "#COMPARISON OPERATOR- ==-Equal,!=-not equal,<-less than,<=-less than or equal,>-greater than,>=-greater than or equal,\n",
    "x=int (input('enter your number x:'))\n",
    "y=int (input('enter your number y:'))\n",
    "print(x==y)\n",
    "print(x!=y)\n",
    "print(x<y)\n",
    "print(x<=y)\n",
    "print(x>y)\n",
    "print(x>=y)\n"
   ]
  },
  {
   "cell_type": "code",
   "execution_count": 66,
   "id": "bb41250c",
   "metadata": {
    "scrolled": true
   },
   "outputs": [
    {
     "name": "stdout",
     "output_type": "stream",
     "text": [
      "enter your number x:50\n",
      "enter your number y:70\n",
      "False\n",
      "True\n",
      "True\n",
      "True\n",
      "False\n",
      "False\n"
     ]
    }
   ],
   "source": [
    "#LOGICAL OPERATOR- AND(both satisfy),OR(any one satisfy)\n",
    "x=int (input('enter your number x:'))\n",
    "y=int (input('enter your number y:'))\n",
    "print(x==y and x!=y)\n",
    "print(x==y or x!=y)\n",
    "print(x<y and x<=y)\n",
    "print(x<y or x<=y)\n",
    "print(x>y and x>=y)\n",
    "print(x>y or x>=y)\n"
   ]
  },
  {
   "cell_type": "code",
   "execution_count": null,
   "id": "7177415a",
   "metadata": {},
   "outputs": [],
   "source": [
    "#BITWISE OPERATOR(1 0)-AND(&),OR(|),NOT(-),EX-OR(^)\n",
    "Number System\n",
    "Binary(0b)(bin)-2\n",
    "Octal-8\n",
    "Decimal-10\n",
    "Hexa Decimal-16\n",
    "2,8,10,16-Base value\n"
   ]
  },
  {
   "cell_type": "code",
   "execution_count": 68,
   "id": "df7bdf66",
   "metadata": {},
   "outputs": [
    {
     "name": "stdout",
     "output_type": "stream",
     "text": [
      "0b111\n",
      "0b1000110\n",
      "0b110010\n",
      "0b101\n",
      "0b111001\n"
     ]
    }
   ],
   "source": [
    "#CONVERT TO BINARY\n",
    "print(bin(7))\n",
    "print(bin(70))\n",
    "print(bin(50))\n",
    "print(bin(5))\n",
    "print(bin(57))\n"
   ]
  },
  {
   "cell_type": "code",
   "execution_count": 69,
   "id": "74932c0c",
   "metadata": {},
   "outputs": [
    {
     "name": "stdout",
     "output_type": "stream",
     "text": [
      "AND value is: 5\n",
      "OR value is: 7\n",
      "EX-OR value is: 2\n",
      "NOT value is: -6\n",
      "NOT value is: 6\n"
     ]
    }
   ],
   "source": [
    "x=5\n",
    "y=7\n",
    "print('AND value is:',x&y)\n",
    "print('OR value is:',x|y)\n",
    "print('EX-OR value is:',x^y)\n",
    "#NOT- tilde(~)\n",
    "x=5\n",
    "print('NOT value is:',~x)\n",
    "y=-7\n",
    "print('NOT value is:',~y)\n"
   ]
  },
  {
   "cell_type": "markdown",
   "id": "2bf25766",
   "metadata": {},
   "source": [
    "# DAY-10 (25-06-2023)\n"
   ]
  },
  {
   "cell_type": "code",
   "execution_count": 71,
   "id": "c11b85d6",
   "metadata": {},
   "outputs": [
    {
     "name": "stdout",
     "output_type": "stream",
     "text": [
      "True\n",
      "False\n",
      "False\n"
     ]
    }
   ],
   "source": [
    "#MEMBERSHIP OPERATOR-in, not in (list)\n",
    "l=['Lavanya sree','List','Set']\n",
    "print('Lavanya sree' in l)\n",
    "print('Lavanya Sree' in l)\n",
    "print('Set'not in l)\n"
   ]
  },
  {
   "cell_type": "code",
   "execution_count": 72,
   "id": "b77364a3",
   "metadata": {},
   "outputs": [
    {
     "name": "stdout",
     "output_type": "stream",
     "text": [
      "False\n",
      "140728243819496\n",
      "False\n",
      "True\n",
      "140728243819432\n",
      "140728243819496\n"
     ]
    }
   ],
   "source": [
    "#IDENTITY OPERATOR-is , is not\n",
    "a=5\n",
    "b=7\n",
    "e=7\n",
    "print(a is e)\n",
    "print(id(e))\n",
    "print(a is b)\n",
    "print(a is not b)\n",
    "print(id(a))\n",
    "print(id(b))\n"
   ]
  },
  {
   "cell_type": "code",
   "execution_count": 73,
   "id": "baf4922b",
   "metadata": {},
   "outputs": [
    {
     "name": "stdout",
     "output_type": "stream",
     "text": [
      "False\n",
      "2321671965568\n",
      "True\n",
      "2321688790656\n"
     ]
    }
   ],
   "source": [
    "c=[1,2,3]\n",
    "d=[1,2,3]\n",
    "print(c is d)\n",
    "print(id(c))\n",
    "print(c is not d)\n",
    "print(id(d))\n"
   ]
  },
  {
   "cell_type": "code",
   "execution_count": null,
   "id": "559ada6f",
   "metadata": {},
   "outputs": [],
   "source": [
    "# PROGRAM CONTROL FLOW\n",
    "#if statement\n",
    "syntax:\n",
    "    body of the statement\n",
    "    space in before\n"
   ]
  },
  {
   "cell_type": "code",
   "execution_count": 7,
   "id": "58240301",
   "metadata": {},
   "outputs": [
    {
     "name": "stdout",
     "output_type": "stream",
     "text": [
      "enter your number:76\n",
      "76 is a even number\n"
     ]
    }
   ],
   "source": [
    "#program to check whether the given value is odd or even\n",
    "n=int(input('enter your number:'))\n",
    "if n%2==0:\n",
    "    print(n,'is a even number')\n",
    "\n"
   ]
  },
  {
   "cell_type": "code",
   "execution_count": 75,
   "id": "3f479f4b",
   "metadata": {},
   "outputs": [
    {
     "name": "stdout",
     "output_type": "stream",
     "text": [
      "enter your number:7\n",
      "7 is a odd number\n"
     ]
    }
   ],
   "source": [
    "#if else statement\n",
    "n=int(input('enter your number:'))\n",
    "if n%2==0:\n",
    "        print(n,'is a even number')\n",
    "else:\n",
    "    print(n,'is a odd number')\n"
   ]
  },
  {
   "cell_type": "code",
   "execution_count": 8,
   "id": "9c1f6920",
   "metadata": {},
   "outputs": [
    {
     "name": "stdout",
     "output_type": "stream",
     "text": [
      "enter your age:20\n",
      "20 is eligible\n"
     ]
    }
   ],
   "source": [
    "#voting system program -age-above 18 eligible to vote\n",
    "age=int(input('enter your age:'))\n",
    "if age>=18:\n",
    "    print(age,'is eligible')\n",
    "else:\n",
    "    print(age,'is not eligible')\n"
   ]
  },
  {
   "cell_type": "code",
   "execution_count": 5,
   "id": "a3d2dc12",
   "metadata": {},
   "outputs": [
    {
     "name": "stdout",
     "output_type": "stream",
     "text": [
      "enter the year:2003\n",
      "2003 is not leap year\n"
     ]
    }
   ],
   "source": [
    "#to find the given year is leap year or not\n",
    "year=int(input('enter the year:'))\n",
    "if year%4==0:\n",
    "    print(year,'is leap year')\n",
    "else:\n",
    "    print(year,'is not leap year')\n"
   ]
  },
  {
   "cell_type": "code",
   "execution_count": 78,
   "id": "e8dca303",
   "metadata": {},
   "outputs": [
    {
     "name": "stdout",
     "output_type": "stream",
     "text": [
      "enter the string:'OPPO'\n",
      "'OPPO' is palindrome\n"
     ]
    }
   ],
   "source": [
    "#palindrome of a given number or string\n",
    "n=str(input('enter the string:'))\n",
    "if n==n[::-1]:\n",
    "    print(n,'is palindrome')\n",
    "else:\n",
    "    print(n,'is not palindrome')\n"
   ]
  },
  {
   "cell_type": "code",
   "execution_count": 79,
   "id": "465b745d",
   "metadata": {},
   "outputs": [
    {
     "name": "stdout",
     "output_type": "stream",
     "text": [
      "enter the number:'1001'\n",
      "'1001' is palindrome\n"
     ]
    }
   ],
   "source": [
    "n=str(input('enter the number:'))\n",
    "if n==n[::-1]:\n",
    "    print(n,'is palindrome')\n",
    "else:\n",
    "    print(n,'is not palindrome')\n",
    "\n"
   ]
  },
  {
   "cell_type": "code",
   "execution_count": 80,
   "id": "12cef43b",
   "metadata": {},
   "outputs": [
    {
     "name": "stdout",
     "output_type": "stream",
     "text": [
      "enter number a:5\n",
      "enter number b:7\n",
      "greater than is: True\n",
      "greater than equal to: True\n"
     ]
    }
   ],
   "source": [
    "#find the greater of two\n",
    "\n",
    "a=int(input('enter number a:'))\n",
    "b=int(input('enter number b:'))\n",
    "print('greater than is:',b>a)\n",
    "print('greater than equal to:',b>=a)\n",
    "\n"
   ]
  },
  {
   "cell_type": "code",
   "execution_count": 81,
   "id": "00c78430",
   "metadata": {},
   "outputs": [
    {
     "name": "stdout",
     "output_type": "stream",
     "text": [
      "enter number a:5\n",
      "enter number b:7\n",
      "less than is: False\n",
      "less than equal to: True\n"
     ]
    }
   ],
   "source": [
    "#find the lesser of two\n",
    "\n",
    "a=int(input('enter number a:'))\n",
    "b=int(input('enter number b:'))\n",
    "print('less than is:',b<a)\n",
    "print('less than equal to:',a<=b)\n"
   ]
  },
  {
   "cell_type": "code",
   "execution_count": 82,
   "id": "e3ddc48d",
   "metadata": {},
   "outputs": [
    {
     "name": "stdout",
     "output_type": "stream",
     "text": [
      "enter the word:O\n",
      "O is vowel\n"
     ]
    }
   ],
   "source": [
    "#find the particular charecter is vowel or not\n",
    "v=input('enter the word:')\n",
    "if (v=='a'or v=='e' or v=='i' or v=='o' or v=='u'):\n",
    "    print(v,'is vowel')\n",
    "elif (v=='A' or v=='E' or v=='I' or v=='O' or v=='U'):\n",
    "    print(v,'is vowel')\n",
    "else:\n",
    "    print(v,'is not vowel')\n"
   ]
  },
  {
   "cell_type": "code",
   "execution_count": 83,
   "id": "f2f13de7",
   "metadata": {},
   "outputs": [
    {
     "name": "stdout",
     "output_type": "stream",
     "text": [
      "enter the charecter:J\n",
      "J is uppercase alphabet\n"
     ]
    }
   ],
   "source": [
    "#find the particular charecter is a alphabet upper case or lower case or number\n",
    "\n",
    "a=input('enter the charecter:')\n",
    "if (a>='A' and a<='Z'):\n",
    "    print(a,'is uppercase alphabet')\n",
    "elif (a>='a' and a<='z'):\n",
    "    print(a,'is lowercase alphabet')\n",
    "elif (a>='0' and a<='9'):\n",
    "    print(a,'is number')\n"
   ]
  },
  {
   "cell_type": "code",
   "execution_count": 84,
   "id": "9b6bc531",
   "metadata": {},
   "outputs": [
    {
     "name": "stdout",
     "output_type": "stream",
     "text": [
      "enter the string:Lavanya Sree P\n",
      "total number of vowels - {'a': 3, 'e': 2, 'i': 0, 'o': 0, 'u': 0}\n"
     ]
    }
   ],
   "source": [
    "#count vowels in a string using python string of vowels\n",
    "vowels='aeiou'\n",
    "#enter an input string\n",
    "user_input=input('enter the string:')\n",
    "#convert string in case insensitive\n",
    "string=user_input.casefold()\n",
    "#create a dictionary with each vowel a key and value 0\n",
    "count_vowels={}.fromkeys(vowels, 0)\n",
    "#count the number of each vowels\n",
    "for x in string:\n",
    "    if x in count_vowels:\n",
    "        count_vowels[x]+= 1\n",
    "print('total number of vowels -',count_vowels)\n"
   ]
  },
  {
   "cell_type": "markdown",
   "id": "a74e0fa9",
   "metadata": {},
   "source": [
    "# DAY-11 (01-07-2023)\n"
   ]
  },
  {
   "cell_type": "code",
   "execution_count": 9,
   "id": "ca595976",
   "metadata": {},
   "outputs": [
    {
     "name": "stdout",
     "output_type": "stream",
     "text": [
      "enter the number7\n",
      "7 is a positive number\n"
     ]
    }
   ],
   "source": [
    "#If elif else statement\n",
    "\n",
    "#python program to check whether the given number is positive or not\n",
    "n=int(input('enter the number'))\n",
    "if n>0:\n",
    "    print(n,'is a positive number')\n",
    "elif n==0:\n",
    "    print(n,'is zero')\n",
    "else:\n",
    "    print(n,'is nrgative number')\n"
   ]
  },
  {
   "cell_type": "code",
   "execution_count": 10,
   "id": "d3e64797",
   "metadata": {},
   "outputs": [
    {
     "name": "stdout",
     "output_type": "stream",
     "text": [
      "enter the number:0\n",
      "0 is zero\n"
     ]
    }
   ],
   "source": [
    "#nested if - condition inside another condition\n",
    "#python program to check whether the given number is positive or not\n",
    "n=int(input('enter the number:'))\n",
    "if n>=0:\n",
    "    if n==0:\n",
    "        print(n,'is zero')\n",
    "    else:\n",
    "         print(n,'is positive')\n",
    "else:\n",
    "     print(n,'is negative')\n"
   ]
  },
  {
   "cell_type": "code",
   "execution_count": null,
   "id": "d5a04329",
   "metadata": {},
   "outputs": [],
   "source": [
    "#looping - it will execute in sequential order\n",
    "# For loop\n",
    "#syntax:\n",
    "for variable name in iteration:\n",
    "    body of the statement\n"
   ]
  },
  {
   "cell_type": "code",
   "execution_count": 12,
   "id": "c31315e5",
   "metadata": {},
   "outputs": [
    {
     "name": "stdout",
     "output_type": "stream",
     "text": [
      "11.7\n",
      "45\n",
      "78\n",
      "90\n",
      "84\n",
      "72\n"
     ]
    }
   ],
   "source": [
    "li=[11.7,45,78,90,84,72]\n",
    "for i in li:\n",
    "    print(i)\n"
   ]
  },
  {
   "cell_type": "code",
   "execution_count": 14,
   "id": "ed880a7c",
   "metadata": {},
   "outputs": [
    {
     "name": "stdout",
     "output_type": "stream",
     "text": [
      "0\n",
      "1\n",
      "2\n",
      "3\n",
      "4\n",
      "5\n",
      "6\n"
     ]
    }
   ],
   "source": [
    "#range function\n",
    "for n in range(7):\n",
    "    print(n)\n"
   ]
  },
  {
   "cell_type": "code",
   "execution_count": 15,
   "id": "2c58166b",
   "metadata": {},
   "outputs": [
    {
     "name": "stdout",
     "output_type": "stream",
     "text": [
      "5\n",
      "6\n",
      "7\n",
      "8\n",
      "9\n",
      "10\n",
      "11\n"
     ]
    }
   ],
   "source": [
    "for v in range(5,12):\n",
    "    print(v)\n"
   ]
  },
  {
   "cell_type": "code",
   "execution_count": 16,
   "id": "4f16f494",
   "metadata": {},
   "outputs": [
    {
     "name": "stdout",
     "output_type": "stream",
     "text": [
      "-4\n",
      "-3\n",
      "-2\n",
      "-1\n",
      "0\n",
      "1\n"
     ]
    }
   ],
   "source": [
    "for g in range(-4,2):\n",
    "    print(g)\n"
   ]
  },
  {
   "cell_type": "code",
   "execution_count": 17,
   "id": "6fc87132",
   "metadata": {},
   "outputs": [
    {
     "name": "stdout",
     "output_type": "stream",
     "text": [
      "5\n",
      "7\n",
      "9\n",
      "11\n",
      "13\n",
      "15\n"
     ]
    }
   ],
   "source": [
    "for j in range(5,17,2):\n",
    "    print(j)\n"
   ]
  },
  {
   "cell_type": "code",
   "execution_count": 18,
   "id": "bc661a3b",
   "metadata": {},
   "outputs": [
    {
     "name": "stdout",
     "output_type": "stream",
     "text": [
      "enter the number2\n",
      "0 * 2 = 0\n",
      "1 * 2 = 2\n",
      "2 * 2 = 4\n",
      "3 * 2 = 6\n",
      "4 * 2 = 8\n",
      "5 * 2 = 10\n",
      "6 * 2 = 12\n",
      "7 * 2 = 14\n",
      "8 * 2 = 16\n",
      "9 * 2 = 18\n",
      "10 * 2 = 20\n",
      "11 * 2 = 22\n",
      "12 * 2 = 24\n",
      "13 * 2 = 26\n",
      "14 * 2 = 28\n",
      "15 * 2 = 30\n",
      "16 * 2 = 32\n",
      "17 * 2 = 34\n",
      "18 * 2 = 36\n",
      "19 * 2 = 38\n"
     ]
    }
   ],
   "source": [
    "# To print the multiplication table using loop\n",
    "\n",
    "n=int(input('enter the number'))\n",
    "for i in range(20):\n",
    "    print(i,'*',n,'=',i*n)\n",
    "\n"
   ]
  },
  {
   "cell_type": "code",
   "execution_count": 19,
   "id": "692b52ca",
   "metadata": {},
   "outputs": [
    {
     "name": "stdout",
     "output_type": "stream",
     "text": [
      "enter Computer marks:95\n",
      "enter Physics marks:90\n",
      "enter Chemistry marks:98\n",
      "enter Maths marks:99\n",
      "distinction\n"
     ]
    }
   ],
   "source": [
    "#Grade system\n",
    "\n",
    "COMPUTER=int(input('enter Computer marks:'))\n",
    "PHYSICS=int(input('enter Physics marks:'))\n",
    "CHEMISTRY=int(input('enter Chemistry marks:'))\n",
    "MATHS=int(input('enter Maths marks:'))\n",
    "tot=COMPUTER+PHYSICS+CHEMISTRY+MATHS\n",
    "avg=tot/4\n",
    "if(avg >=90 and avg<=100):\n",
    "    print('distinction')\n",
    "elif (avg>=80 and avg<90):\n",
    "    print('A Grade')\n",
    "elif (avg>=70 and avg<80):\n",
    "    print('B Grade')\n",
    "elif (avg>=60 and avg<70):\n",
    "    print('C Grade')\n",
    "elif (avg>=50 and avg<60):\n",
    "    print('D Grade')\n",
    "else:\n",
    "    print('E Grade')\n",
    "\n"
   ]
  },
  {
   "cell_type": "markdown",
   "id": "9202a0f9",
   "metadata": {},
   "source": [
    "# DAY-12 (02-07-2023)\n"
   ]
  },
  {
   "cell_type": "code",
   "execution_count": 20,
   "id": "c823d956",
   "metadata": {},
   "outputs": [
    {
     "name": "stdout",
     "output_type": "stream",
     "text": [
      "Big apple\n",
      "Big pine apple\n",
      "tasty apple\n",
      "tasty pine apple\n"
     ]
    }
   ],
   "source": [
    "#Nested for loop\n",
    "s=['Big','tasty']\n",
    "f=['apple','pine apple']\n",
    "for i in s:\n",
    "    for j in f:\n",
    "        print(i,j)\n"
   ]
  },
  {
   "cell_type": "code",
   "execution_count": 21,
   "id": "d17bc53c",
   "metadata": {},
   "outputs": [
    {
     "name": "stdout",
     "output_type": "stream",
     "text": [
      "# # # # # # # \n",
      "# # # # # # # \n",
      "# # # # # # # \n",
      "# # # # # # # \n",
      "# # # # # # # \n",
      "# # # # # # # \n",
      "# # # # # # # \n"
     ]
    }
   ],
   "source": [
    "#write a program to print the following pattern\n",
    "for i in range(7):\n",
    "    for j in range(7):\n",
    "        print('#',end=' ')\n",
    "    print()\n"
   ]
  },
  {
   "cell_type": "code",
   "execution_count": 22,
   "id": "f44db659",
   "metadata": {},
   "outputs": [
    {
     "name": "stdout",
     "output_type": "stream",
     "text": [
      "\n",
      "* \n",
      "* * \n",
      "* * * \n",
      "* * * * \n",
      "* * * * * "
     ]
    }
   ],
   "source": [
    "for i in range(1,6):\n",
    "    print()\n",
    "    for j in range(i):\n",
    "        print('*',end=' ')\n"
   ]
  },
  {
   "cell_type": "code",
   "execution_count": 23,
   "id": "f1cc2b77",
   "metadata": {},
   "outputs": [
    {
     "name": "stdout",
     "output_type": "stream",
     "text": [
      "\n",
      "1 \n",
      "2 2 \n",
      "3 3 3 \n",
      "4 4 4 4 \n",
      "5 5 5 5 5 "
     ]
    }
   ],
   "source": [
    "for i in range(1,6):\n",
    "    print()\n",
    "    for j in range(i):\n",
    "        print(i,end=' ')\n"
   ]
  },
  {
   "cell_type": "code",
   "execution_count": 24,
   "id": "e607d583",
   "metadata": {},
   "outputs": [
    {
     "name": "stdout",
     "output_type": "stream",
     "text": [
      "\n",
      "1 \n",
      "1 2 \n",
      "1 2 3 \n",
      "1 2 3 4 \n",
      "1 2 3 4 5 "
     ]
    }
   ],
   "source": [
    "for i in range(1,6):\n",
    "    print('')\n",
    "    for j in range(1,i+1):\n",
    "        print(j,end=' ')\n"
   ]
  },
  {
   "cell_type": "code",
   "execution_count": null,
   "id": "55dbdbf2",
   "metadata": {},
   "outputs": [],
   "source": [
    "in C language\n",
    "for(i=0;1<10;i++)\n"
   ]
  },
  {
   "cell_type": "code",
   "execution_count": 25,
   "id": "5f1a90da",
   "metadata": {},
   "outputs": [
    {
     "name": "stdout",
     "output_type": "stream",
     "text": [
      "0\n",
      "1\n",
      "2\n",
      "3\n",
      "4\n",
      "5\n",
      "6\n",
      "7\n",
      "8\n",
      "9\n"
     ]
    }
   ],
   "source": [
    "#while loop in python - it will execute in sequential order\n",
    "i=0 #initialize the start value as 0\n",
    "while i<10: # condition\n",
    "    print(i)\n",
    "    i+=1 #increment(kinda step value)\n"
   ]
  },
  {
   "cell_type": "markdown",
   "id": "fb622314",
   "metadata": {},
   "source": [
    "# DAY-13(8-07-2023)\n"
   ]
  },
  {
   "cell_type": "code",
   "execution_count": 27,
   "id": "9cb6c244",
   "metadata": {},
   "outputs": [
    {
     "name": "stdout",
     "output_type": "stream",
     "text": [
      "enter the element to search:77\n",
      "77 element is found\n"
     ]
    }
   ],
   "source": [
    "#python program to search for an element in the list of elements\n",
    "\n",
    "li=[1,4,6,9,77,99,33]\n",
    "search=int(input('enter the element to search:'))\n",
    "for element in li:\n",
    "    if search==element:\n",
    "        print(search,'element is found')\n",
    "        break\n",
    "else:\n",
    "   print(search,'element is not found')\n",
    "\n"
   ]
  },
  {
   "cell_type": "code",
   "execution_count": 29,
   "id": "ef73bdb6",
   "metadata": {},
   "outputs": [
    {
     "name": "stdout",
     "output_type": "stream",
     "text": [
      "enter the element to search:77\n",
      "77 element is not found\n",
      "77 element is not found\n",
      "77 element is not found\n",
      "77 element is not found\n",
      "77 element is found\n",
      "77 element is not found\n",
      "77 element is not found\n"
     ]
    }
   ],
   "source": [
    "li=[1,4,6,9,77,99,33]\n",
    "search=int(input('enter the element to search:'))\n",
    "for element in li:\n",
    "    if search==element:\n",
    "        print(search,'element is found')\n",
    "        \n",
    "    else:\n",
    "       print(search,'element is not found')\n"
   ]
  },
  {
   "cell_type": "code",
   "execution_count": 30,
   "id": "70a6e479",
   "metadata": {},
   "outputs": [
    {
     "name": "stdout",
     "output_type": "stream",
     "text": [
      "0\n",
      "1\n",
      "2\n",
      "3\n",
      "4\n",
      "5\n",
      "6\n"
     ]
    }
   ],
   "source": [
    "#break\n",
    "for i in range(10):\n",
    "    if i==7:\n",
    "        break\n",
    "    print(i)\n",
    "    \n"
   ]
  },
  {
   "cell_type": "code",
   "execution_count": 31,
   "id": "beb700ad",
   "metadata": {},
   "outputs": [
    {
     "name": "stdout",
     "output_type": "stream",
     "text": [
      "0\n",
      "1\n",
      "2\n",
      "3\n",
      "4\n",
      "5\n",
      "6\n",
      "8\n",
      "9\n"
     ]
    }
   ],
   "source": [
    "#continue\n",
    "for i in range (10):\n",
    "    if i==7:\n",
    "        continue\n",
    "    print(i)\n"
   ]
  },
  {
   "cell_type": "code",
   "execution_count": 32,
   "id": "d3e984db",
   "metadata": {},
   "outputs": [
    {
     "name": "stdout",
     "output_type": "stream",
     "text": [
      "HAVE A NICE DAY\n"
     ]
    }
   ],
   "source": [
    "# function in python\n",
    "\n",
    "#print the 'HAVE A NICE DAY' using function\n",
    "def greet():\n",
    "    print('HAVE A NICE DAY')\n",
    "greet()\n"
   ]
  },
  {
   "cell_type": "code",
   "execution_count": 33,
   "id": "3cb3b704",
   "metadata": {},
   "outputs": [
    {
     "name": "stdout",
     "output_type": "stream",
     "text": [
      "the value is: 120\n",
      "the value is: 12\n"
     ]
    }
   ],
   "source": [
    "#python program to find the sum of two numbers\n",
    "#required argument\n",
    "#argument=a,b\n",
    "def add(a,b):\n",
    "    print('the value is:',a+b)\n",
    "add(50,70)\n",
    "add(5,7)\n"
   ]
  },
  {
   "cell_type": "code",
   "execution_count": 34,
   "id": "d5dbaf12",
   "metadata": {},
   "outputs": [],
   "source": [
    "#PEMDAS\n",
    "\n"
   ]
  },
  {
   "cell_type": "code",
   "execution_count": 42,
   "id": "5eaf6178",
   "metadata": {},
   "outputs": [
    {
     "name": "stdout",
     "output_type": "stream",
     "text": [
      "the value is: 2.0\n",
      "the value is: 8.0\n"
     ]
    }
   ],
   "source": [
    "#return function\n",
    "def div(x,y):\n",
    "    return x/y\n",
    "print('the value is:',div(8,4))\n",
    "print('the value is:',div(40,5))"
   ]
  },
  {
   "cell_type": "code",
   "execution_count": 43,
   "id": "c5f48342",
   "metadata": {},
   "outputs": [
    {
     "name": "stdout",
     "output_type": "stream",
     "text": [
      "the value is: 500.0\n",
      "the value is: 498.0\n"
     ]
    }
   ],
   "source": [
    "#default argument\n",
    "\n",
    "def bod(a,b,c=7):\n",
    "    print('the value is:',a/5*a+b-c)\n",
    "bod(50,7)\n",
    "bod(50,7,9)\n"
   ]
  },
  {
   "cell_type": "code",
   "execution_count": 44,
   "id": "f5740232",
   "metadata": {},
   "outputs": [
    {
     "name": "stdout",
     "output_type": "stream",
     "text": [
      "enter a number:8323\n",
      "eightthousand threehundred twenty three\n"
     ]
    }
   ],
   "source": [
    "#convert a number to its equivalent word using python\n",
    "num=int(input('enter a number:'))\n",
    "def number_to_word(num):\n",
    "    units=['zero','one','two','three','four','five','six','seven','eight','nine','ten','eleven','twelve','thirteen','fourteen','fifteen','sixteen','seventeen','eighteen','nineteen']\n",
    "    tens=['','','twenty','thirty','fourty','fifty','sixty','seventy','eighty','ninety']\n",
    "    if num<20:\n",
    "        return units[num]\n",
    "    elif num <100:\n",
    "        return tens[num//10] + (''if num % 10==0 else' '+ units[num%10])\n",
    "    elif num<1000:\n",
    "        return units[num//100] + 'hundred' + ('' if num%100==0 else' ' + number_to_word(num%100))\n",
    "    elif num<10000:\n",
    "        return units[num//1000] + 'thousand' + ('' if num%1000==0 else' ' + number_to_word(num%1000))\n",
    "    elif num<1000000:\n",
    "        return number_to_word(num//1000) + 'thousand' + ('' if num%1000==0 else ' ' +number_to_word(num%1000))\n",
    "    else:\n",
    "        return'number out of range'\n",
    "print(number_to_word(num))\n",
    "\n"
   ]
  },
  {
   "cell_type": "markdown",
   "id": "0f0a3891",
   "metadata": {},
   "source": [
    "# DAY - 14 JULY-9\n"
   ]
  },
  {
   "cell_type": "code",
   "execution_count": 47,
   "id": "cad98e40",
   "metadata": {},
   "outputs": [
    {
     "name": "stdout",
     "output_type": "stream",
     "text": [
      "enter the string:LAVANYA SREE P\n",
      "total number of vowels - {'a': 3, 'e': 2, 'i': 0, 'o': 0, 'u': 0}\n"
     ]
    }
   ],
   "source": [
    "#count vowels in a string using python string of vowels\n",
    "vowels='aeiou'\n",
    "#enter an input string\n",
    "user_input=input('enter the string:')\n",
    "#convert string in case insensitive\n",
    "string=user_input.casefold()\n",
    "#create a dictionary with each vowel a key and value 0\n",
    "count_vowels={}.fromkeys(vowels, 0)\n",
    "#count the number of each vowels\n",
    "for x in string:\n",
    "    if x in count_vowels:\n",
    "        count_vowels[x]+= 1\n",
    "print('total number of vowels -',count_vowels)\n"
   ]
  },
  {
   "cell_type": "markdown",
   "id": "73f1f68a",
   "metadata": {},
   "source": [
    "# DAY-15 JULY-15\n"
   ]
  },
  {
   "cell_type": "code",
   "execution_count": 51,
   "id": "eeee47bd",
   "metadata": {},
   "outputs": [
    {
     "name": "stdout",
     "output_type": "stream",
     "text": [
      "enter the number:50\n",
      "enter the number:70\n",
      "value of a and b is : 64.0\n"
     ]
    }
   ],
   "source": [
    "#RETURN FUNCTION\n",
    "\n",
    "#return Expression\n",
    "\n",
    "def arthmetic(a,b):\n",
    "    return a+b/5\n",
    "x=int(input('enter the number:'))\n",
    "y=int(input('enter the number:'))\n",
    "print('value of a and b is :',arthmetic(x,y))\n",
    "\n"
   ]
  },
  {
   "cell_type": "code",
   "execution_count": 52,
   "id": "81890ca4",
   "metadata": {},
   "outputs": [
    {
     "name": "stdout",
     "output_type": "stream",
     "text": [
      "value is: 72.0\n",
      "value is: 53.0\n"
     ]
    }
   ],
   "source": [
    "#USING DEFAULT ARGUMENT\n",
    "def div (x,y,z=70):\n",
    "    return(x/y)+z\n",
    "print('value is:',div(80,40))\n",
    "print('value is:',div(30,10,50))\n"
   ]
  },
  {
   "cell_type": "code",
   "execution_count": 53,
   "id": "633f13fe",
   "metadata": {},
   "outputs": [
    {
     "name": "stdout",
     "output_type": "stream",
     "text": [
      "my name is Lavanya Sree,have completed BSc AZB and coming from Chennai\n",
      "my name is Radha,have completed BSc Economics and coming from Madhura\n"
     ]
    }
   ],
   "source": [
    "#KEYWORD ARGUMENT\n",
    "\n",
    "def stud(name,degree,native):\n",
    "    print(f'my name is {name},have completed {degree} and coming from {native}')\n",
    "stud('Lavanya Sree','BSc AZB','Chennai')\n",
    "stud('Radha','BSc Economics','Madhura')\n",
    "\n"
   ]
  },
  {
   "cell_type": "code",
   "execution_count": 54,
   "id": "9ad03d36",
   "metadata": {},
   "outputs": [
    {
     "name": "stdout",
     "output_type": "stream",
     "text": [
      "my name is Lavanya Sree,have completed BSc AZB and coming from Chennai\n",
      "Im gettng salary of : 800000\n",
      "my name is Radha,have completed BSc Economics and coming from Madhura\n",
      "Im gettng salary of : 50000\n"
     ]
    }
   ],
   "source": [
    "# using default argument\n",
    "\n",
    "def stud(name,degree,native,salary=50000):\n",
    "    print(f'my name is {name},have completed {degree} and coming from {native}')\n",
    "    print('Im gettng salary of :',salary)\n",
    "stud('Lavanya Sree','BSc AZB','Chennai',800000)\n",
    "stud('Radha','BSc Economics','Madhura')\n",
    "\n"
   ]
  },
  {
   "cell_type": "code",
   "execution_count": 55,
   "id": "9210b583",
   "metadata": {},
   "outputs": [
    {
     "name": "stdout",
     "output_type": "stream",
     "text": [
      "I like to learn ('Bharatanatyam', 'carnativ music', 'Medical')\n"
     ]
    }
   ],
   "source": [
    "#ARBITARY OR VARIABLE LENGTH ARGUMENT-*,**\n",
    "\n",
    "def lang(*arg):\n",
    "    print('I like to learn',arg)\n",
    "lang('Bharatanatyam','carnativ music','Medical')\n",
    "\n"
   ]
  },
  {
   "cell_type": "code",
   "execution_count": 56,
   "id": "0ba60565",
   "metadata": {},
   "outputs": [
    {
     "name": "stdout",
     "output_type": "stream",
     "text": [
      "I like to learn Bharatanatyam\n",
      "I like to learn carnativ music\n",
      "I like to learn Medical\n"
     ]
    }
   ],
   "source": [
    "# to make it in seperate statement\n",
    "def lang(*arg):\n",
    "    for x in arg:\n",
    "        print('I like to learn',x)\n",
    "lang('Bharatanatyam','carnativ music','Medical')\n",
    "\n"
   ]
  },
  {
   "cell_type": "code",
   "execution_count": 57,
   "id": "bf70f019",
   "metadata": {},
   "outputs": [
    {
     "name": "stdout",
     "output_type": "stream",
     "text": [
      "Name Lavanya Sree\n",
      "Degree BSc AZB\n",
      "Role GOAT\n"
     ]
    }
   ],
   "source": [
    "#Dic  IN FUNCTION AND LOOP\n",
    "\n",
    "\n",
    "def student(**kargs):\n",
    "    for key,value in kargs.items():\n",
    "        print(key,value)\n",
    "student(Name='Lavanya Sree',Degree='BSc AZB',Role='GOAT')\n",
    "\n"
   ]
  },
  {
   "cell_type": "code",
   "execution_count": 58,
   "id": "d7fed1f3",
   "metadata": {},
   "outputs": [
    {
     "name": "stdout",
     "output_type": "stream",
     "text": [
      "Name == Lavanya Sree\n",
      "Degree == BSc AZB\n",
      "Role == GOAT\n"
     ]
    }
   ],
   "source": [
    "# to put symbols in between (use %s[s- denotes string] '%s == %s',%)   \n",
    "    \n",
    "def student(**kargs):\n",
    "    for key,value in kargs.items():\n",
    "        print('%s == %s'%(key,value))\n",
    "student(Name='Lavanya Sree',Degree='BSc AZB',Role='GOAT')\n",
    "\n"
   ]
  },
  {
   "cell_type": "code",
   "execution_count": 59,
   "id": "abe8e5ca",
   "metadata": {},
   "outputs": [
    {
     "name": "stdout",
     "output_type": "stream",
     "text": [
      "10 is a even number\n",
      "7 is a odd number\n"
     ]
    }
   ],
   "source": [
    "#A function test whether a number is even or odd\n",
    "def even_odd(num):\n",
    "    if num%2==0:\n",
    "        print(num,'is a even number')\n",
    "\n",
    "    else:\n",
    "        print(num,'is a odd number')\n",
    "even_odd(10)\n",
    "even_odd(7)\n",
    "\n"
   ]
  },
  {
   "cell_type": "markdown",
   "id": "7250f155",
   "metadata": {},
   "source": [
    "# DAY-16 JULY-16\n",
    "\n"
   ]
  },
  {
   "cell_type": "code",
   "execution_count": 61,
   "id": "4565ba12",
   "metadata": {},
   "outputs": [
    {
     "name": "stdout",
     "output_type": "stream",
     "text": [
      "value is: 46\n"
     ]
    }
   ],
   "source": [
    "def add (a,b):\n",
    "    return a+b\n",
    "print ('value is:',add (12,34))\n",
    "\n"
   ]
  },
  {
   "cell_type": "code",
   "execution_count": null,
   "id": "831af47a",
   "metadata": {},
   "outputs": [],
   "source": [
    "#LAMBDA FUNCTION\n",
    "#syntax:\n",
    "variable name=lambda arguments:expression\n",
    "x=variable name only used\n"
   ]
  },
  {
   "cell_type": "code",
   "execution_count": 63,
   "id": "54d1c093",
   "metadata": {},
   "outputs": [
    {
     "name": "stdout",
     "output_type": "stream",
     "text": [
      "value of a and b is: 132\n",
      "value of a and b is: 143\n",
      "value of a and b is: 154\n"
     ]
    }
   ],
   "source": [
    "x=lambda a,b:a+b\n",
    "print('value of a and b is:',x(55,77))\n",
    "print('value of a and b is:',x(44,99))\n",
    "print('value of a and b is:',x(88,66))\n",
    "\n"
   ]
  },
  {
   "cell_type": "code",
   "execution_count": 64,
   "id": "c78d362a",
   "metadata": {},
   "outputs": [
    {
     "name": "stdout",
     "output_type": "stream",
     "text": [
      "even number in the list (2, 4, 6, 8, 10, 22, 66)\n"
     ]
    }
   ],
   "source": [
    "#FILTER\n",
    "# find the odd or even number using lambda\n",
    "list=[1,2,3,4,6,5,7,8,10,33,22,66,99]\n",
    "even=tuple(filter(lambda x:x%2==0,list))\n",
    "print('even number in the list',even)\n"
   ]
  },
  {
   "cell_type": "code",
   "execution_count": 65,
   "id": "faf6c125",
   "metadata": {},
   "outputs": [
    {
     "name": "stdout",
     "output_type": "stream",
     "text": [
      "odd number in the list {1, 33, 3, 99, 5, 7}\n"
     ]
    }
   ],
   "source": [
    "odd=set(filter(lambda x:x%2==1,list))\n",
    "print('odd number in the list',odd)\n",
    "    \n"
   ]
  },
  {
   "cell_type": "code",
   "execution_count": 74,
   "id": "f21f4025",
   "metadata": {},
   "outputs": [
    {
     "name": "stdout",
     "output_type": "stream",
     "text": [
      "{0, 1, 2, 3, 4, 5, 6, 7, 8, 9, 10, 11, 12, 13, 14}\n"
     ]
    }
   ],
   "source": [
    "#MAP - to find square root\n",
    "l=set(range(15))\n",
    "print(l)"
   ]
  },
  {
   "cell_type": "code",
   "execution_count": 76,
   "id": "8c0f17cc",
   "metadata": {},
   "outputs": [
    {
     "name": "stdout",
     "output_type": "stream",
     "text": [
      "square os the list is {0, 1, 64, 121, 4, 36, 100, 196, 9, 169, 16, 49, 81, 144, 25}\n"
     ]
    }
   ],
   "source": [
    "#finding square of a number using map functiom\n",
    "\n",
    "l=[0, 1, 2, 3, 4, 5, 6, 7, 8, 9, 10, 11, 12, 13, 14]\n",
    "square=set(map(lambda a:a**2,l))\n",
    "print('square os the list is',square)\n",
    "\n"
   ]
  },
  {
   "cell_type": "code",
   "execution_count": 77,
   "id": "72b635ae",
   "metadata": {},
   "outputs": [
    {
     "name": "stdout",
     "output_type": "stream",
     "text": [
      "Help on class str in module builtins:\n",
      "\n",
      "class str(object)\n",
      " |  str(object='') -> str\n",
      " |  str(bytes_or_buffer[, encoding[, errors]]) -> str\n",
      " |  \n",
      " |  Create a new string object from the given object. If encoding or\n",
      " |  errors is specified, then the object must expose a data buffer\n",
      " |  that will be decoded using the given encoding and error handler.\n",
      " |  Otherwise, returns the result of object.__str__() (if defined)\n",
      " |  or repr(object).\n",
      " |  encoding defaults to sys.getdefaultencoding().\n",
      " |  errors defaults to 'strict'.\n",
      " |  \n",
      " |  Methods defined here:\n",
      " |  \n",
      " |  __add__(self, value, /)\n",
      " |      Return self+value.\n",
      " |  \n",
      " |  __contains__(self, key, /)\n",
      " |      Return key in self.\n",
      " |  \n",
      " |  __eq__(self, value, /)\n",
      " |      Return self==value.\n",
      " |  \n",
      " |  __format__(self, format_spec, /)\n",
      " |      Return a formatted version of the string as described by format_spec.\n",
      " |  \n",
      " |  __ge__(self, value, /)\n",
      " |      Return self>=value.\n",
      " |  \n",
      " |  __getattribute__(self, name, /)\n",
      " |      Return getattr(self, name).\n",
      " |  \n",
      " |  __getitem__(self, key, /)\n",
      " |      Return self[key].\n",
      " |  \n",
      " |  __getnewargs__(...)\n",
      " |  \n",
      " |  __gt__(self, value, /)\n",
      " |      Return self>value.\n",
      " |  \n",
      " |  __hash__(self, /)\n",
      " |      Return hash(self).\n",
      " |  \n",
      " |  __iter__(self, /)\n",
      " |      Implement iter(self).\n",
      " |  \n",
      " |  __le__(self, value, /)\n",
      " |      Return self<=value.\n",
      " |  \n",
      " |  __len__(self, /)\n",
      " |      Return len(self).\n",
      " |  \n",
      " |  __lt__(self, value, /)\n",
      " |      Return self<value.\n",
      " |  \n",
      " |  __mod__(self, value, /)\n",
      " |      Return self%value.\n",
      " |  \n",
      " |  __mul__(self, value, /)\n",
      " |      Return self*value.\n",
      " |  \n",
      " |  __ne__(self, value, /)\n",
      " |      Return self!=value.\n",
      " |  \n",
      " |  __repr__(self, /)\n",
      " |      Return repr(self).\n",
      " |  \n",
      " |  __rmod__(self, value, /)\n",
      " |      Return value%self.\n",
      " |  \n",
      " |  __rmul__(self, value, /)\n",
      " |      Return value*self.\n",
      " |  \n",
      " |  __sizeof__(self, /)\n",
      " |      Return the size of the string in memory, in bytes.\n",
      " |  \n",
      " |  __str__(self, /)\n",
      " |      Return str(self).\n",
      " |  \n",
      " |  capitalize(self, /)\n",
      " |      Return a capitalized version of the string.\n",
      " |      \n",
      " |      More specifically, make the first character have upper case and the rest lower\n",
      " |      case.\n",
      " |  \n",
      " |  casefold(self, /)\n",
      " |      Return a version of the string suitable for caseless comparisons.\n",
      " |  \n",
      " |  center(self, width, fillchar=' ', /)\n",
      " |      Return a centered string of length width.\n",
      " |      \n",
      " |      Padding is done using the specified fill character (default is a space).\n",
      " |  \n",
      " |  count(...)\n",
      " |      S.count(sub[, start[, end]]) -> int\n",
      " |      \n",
      " |      Return the number of non-overlapping occurrences of substring sub in\n",
      " |      string S[start:end].  Optional arguments start and end are\n",
      " |      interpreted as in slice notation.\n",
      " |  \n",
      " |  encode(self, /, encoding='utf-8', errors='strict')\n",
      " |      Encode the string using the codec registered for encoding.\n",
      " |      \n",
      " |      encoding\n",
      " |        The encoding in which to encode the string.\n",
      " |      errors\n",
      " |        The error handling scheme to use for encoding errors.\n",
      " |        The default is 'strict' meaning that encoding errors raise a\n",
      " |        UnicodeEncodeError.  Other possible values are 'ignore', 'replace' and\n",
      " |        'xmlcharrefreplace' as well as any other name registered with\n",
      " |        codecs.register_error that can handle UnicodeEncodeErrors.\n",
      " |  \n",
      " |  endswith(...)\n",
      " |      S.endswith(suffix[, start[, end]]) -> bool\n",
      " |      \n",
      " |      Return True if S ends with the specified suffix, False otherwise.\n",
      " |      With optional start, test S beginning at that position.\n",
      " |      With optional end, stop comparing S at that position.\n",
      " |      suffix can also be a tuple of strings to try.\n",
      " |  \n",
      " |  expandtabs(self, /, tabsize=8)\n",
      " |      Return a copy where all tab characters are expanded using spaces.\n",
      " |      \n",
      " |      If tabsize is not given, a tab size of 8 characters is assumed.\n",
      " |  \n",
      " |  find(...)\n",
      " |      S.find(sub[, start[, end]]) -> int\n",
      " |      \n",
      " |      Return the lowest index in S where substring sub is found,\n",
      " |      such that sub is contained within S[start:end].  Optional\n",
      " |      arguments start and end are interpreted as in slice notation.\n",
      " |      \n",
      " |      Return -1 on failure.\n",
      " |  \n",
      " |  format(...)\n",
      " |      S.format(*args, **kwargs) -> str\n",
      " |      \n",
      " |      Return a formatted version of S, using substitutions from args and kwargs.\n",
      " |      The substitutions are identified by braces ('{' and '}').\n",
      " |  \n",
      " |  format_map(...)\n",
      " |      S.format_map(mapping) -> str\n",
      " |      \n",
      " |      Return a formatted version of S, using substitutions from mapping.\n",
      " |      The substitutions are identified by braces ('{' and '}').\n",
      " |  \n",
      " |  index(...)\n",
      " |      S.index(sub[, start[, end]]) -> int\n",
      " |      \n",
      " |      Return the lowest index in S where substring sub is found,\n",
      " |      such that sub is contained within S[start:end].  Optional\n",
      " |      arguments start and end are interpreted as in slice notation.\n",
      " |      \n",
      " |      Raises ValueError when the substring is not found.\n",
      " |  \n",
      " |  isalnum(self, /)\n",
      " |      Return True if the string is an alpha-numeric string, False otherwise.\n",
      " |      \n",
      " |      A string is alpha-numeric if all characters in the string are alpha-numeric and\n",
      " |      there is at least one character in the string.\n",
      " |  \n",
      " |  isalpha(self, /)\n",
      " |      Return True if the string is an alphabetic string, False otherwise.\n",
      " |      \n",
      " |      A string is alphabetic if all characters in the string are alphabetic and there\n",
      " |      is at least one character in the string.\n",
      " |  \n",
      " |  isascii(self, /)\n",
      " |      Return True if all characters in the string are ASCII, False otherwise.\n",
      " |      \n",
      " |      ASCII characters have code points in the range U+0000-U+007F.\n",
      " |      Empty string is ASCII too.\n",
      " |  \n",
      " |  isdecimal(self, /)\n",
      " |      Return True if the string is a decimal string, False otherwise.\n",
      " |      \n",
      " |      A string is a decimal string if all characters in the string are decimal and\n",
      " |      there is at least one character in the string.\n",
      " |  \n",
      " |  isdigit(self, /)\n",
      " |      Return True if the string is a digit string, False otherwise.\n",
      " |      \n",
      " |      A string is a digit string if all characters in the string are digits and there\n",
      " |      is at least one character in the string.\n",
      " |  \n",
      " |  isidentifier(self, /)\n",
      " |      Return True if the string is a valid Python identifier, False otherwise.\n",
      " |      \n",
      " |      Call keyword.iskeyword(s) to test whether string s is a reserved identifier,\n",
      " |      such as \"def\" or \"class\".\n",
      " |  \n",
      " |  islower(self, /)\n",
      " |      Return True if the string is a lowercase string, False otherwise.\n",
      " |      \n",
      " |      A string is lowercase if all cased characters in the string are lowercase and\n",
      " |      there is at least one cased character in the string.\n",
      " |  \n",
      " |  isnumeric(self, /)\n",
      " |      Return True if the string is a numeric string, False otherwise.\n",
      " |      \n",
      " |      A string is numeric if all characters in the string are numeric and there is at\n",
      " |      least one character in the string.\n",
      " |  \n",
      " |  isprintable(self, /)\n",
      " |      Return True if the string is printable, False otherwise.\n",
      " |      \n",
      " |      A string is printable if all of its characters are considered printable in\n",
      " |      repr() or if it is empty.\n",
      " |  \n",
      " |  isspace(self, /)\n",
      " |      Return True if the string is a whitespace string, False otherwise.\n",
      " |      \n",
      " |      A string is whitespace if all characters in the string are whitespace and there\n",
      " |      is at least one character in the string.\n",
      " |  \n",
      " |  istitle(self, /)\n",
      " |      Return True if the string is a title-cased string, False otherwise.\n",
      " |      \n",
      " |      In a title-cased string, upper- and title-case characters may only\n",
      " |      follow uncased characters and lowercase characters only cased ones.\n",
      " |  \n",
      " |  isupper(self, /)\n",
      " |      Return True if the string is an uppercase string, False otherwise.\n",
      " |      \n",
      " |      A string is uppercase if all cased characters in the string are uppercase and\n",
      " |      there is at least one cased character in the string.\n",
      " |  \n",
      " |  join(self, iterable, /)\n",
      " |      Concatenate any number of strings.\n",
      " |      \n",
      " |      The string whose method is called is inserted in between each given string.\n",
      " |      The result is returned as a new string.\n",
      " |      \n",
      " |      Example: '.'.join(['ab', 'pq', 'rs']) -> 'ab.pq.rs'\n",
      " |  \n",
      " |  ljust(self, width, fillchar=' ', /)\n",
      " |      Return a left-justified string of length width.\n",
      " |      \n",
      " |      Padding is done using the specified fill character (default is a space).\n",
      " |  \n",
      " |  lower(self, /)\n",
      " |      Return a copy of the string converted to lowercase.\n",
      " |  \n",
      " |  lstrip(self, chars=None, /)\n",
      " |      Return a copy of the string with leading whitespace removed.\n",
      " |      \n",
      " |      If chars is given and not None, remove characters in chars instead.\n",
      " |  \n",
      " |  partition(self, sep, /)\n",
      " |      Partition the string into three parts using the given separator.\n",
      " |      \n",
      " |      This will search for the separator in the string.  If the separator is found,\n",
      " |      returns a 3-tuple containing the part before the separator, the separator\n",
      " |      itself, and the part after it.\n",
      " |      \n",
      " |      If the separator is not found, returns a 3-tuple containing the original string\n",
      " |      and two empty strings.\n",
      " |  \n",
      " |  removeprefix(self, prefix, /)\n",
      " |      Return a str with the given prefix string removed if present.\n",
      " |      \n",
      " |      If the string starts with the prefix string, return string[len(prefix):].\n",
      " |      Otherwise, return a copy of the original string.\n",
      " |  \n",
      " |  removesuffix(self, suffix, /)\n",
      " |      Return a str with the given suffix string removed if present.\n",
      " |      \n",
      " |      If the string ends with the suffix string and that suffix is not empty,\n",
      " |      return string[:-len(suffix)]. Otherwise, return a copy of the original\n",
      " |      string.\n",
      " |  \n",
      " |  replace(self, old, new, count=-1, /)\n",
      " |      Return a copy with all occurrences of substring old replaced by new.\n",
      " |      \n",
      " |        count\n",
      " |          Maximum number of occurrences to replace.\n",
      " |          -1 (the default value) means replace all occurrences.\n",
      " |      \n",
      " |      If the optional argument count is given, only the first count occurrences are\n",
      " |      replaced.\n",
      " |  \n",
      " |  rfind(...)\n",
      " |      S.rfind(sub[, start[, end]]) -> int\n",
      " |      \n",
      " |      Return the highest index in S where substring sub is found,\n",
      " |      such that sub is contained within S[start:end].  Optional\n",
      " |      arguments start and end are interpreted as in slice notation.\n",
      " |      \n",
      " |      Return -1 on failure.\n",
      " |  \n",
      " |  rindex(...)\n",
      " |      S.rindex(sub[, start[, end]]) -> int\n",
      " |      \n",
      " |      Return the highest index in S where substring sub is found,\n",
      " |      such that sub is contained within S[start:end].  Optional\n",
      " |      arguments start and end are interpreted as in slice notation.\n",
      " |      \n",
      " |      Raises ValueError when the substring is not found.\n",
      " |  \n",
      " |  rjust(self, width, fillchar=' ', /)\n",
      " |      Return a right-justified string of length width.\n",
      " |      \n",
      " |      Padding is done using the specified fill character (default is a space).\n",
      " |  \n",
      " |  rpartition(self, sep, /)\n",
      " |      Partition the string into three parts using the given separator.\n",
      " |      \n",
      " |      This will search for the separator in the string, starting at the end. If\n",
      " |      the separator is found, returns a 3-tuple containing the part before the\n",
      " |      separator, the separator itself, and the part after it.\n",
      " |      \n",
      " |      If the separator is not found, returns a 3-tuple containing two empty strings\n",
      " |      and the original string.\n",
      " |  \n",
      " |  rsplit(self, /, sep=None, maxsplit=-1)\n",
      " |      Return a list of the substrings in the string, using sep as the separator string.\n",
      " |      \n",
      " |        sep\n",
      " |          The separator used to split the string.\n",
      " |      \n",
      " |          When set to None (the default value), will split on any whitespace\n",
      " |          character (including \\\\n \\\\r \\\\t \\\\f and spaces) and will discard\n",
      " |          empty strings from the result.\n",
      " |        maxsplit\n",
      " |          Maximum number of splits (starting from the left).\n",
      " |          -1 (the default value) means no limit.\n",
      " |      \n",
      " |      Splitting starts at the end of the string and works to the front.\n",
      " |  \n",
      " |  rstrip(self, chars=None, /)\n",
      " |      Return a copy of the string with trailing whitespace removed.\n",
      " |      \n",
      " |      If chars is given and not None, remove characters in chars instead.\n",
      " |  \n",
      " |  split(self, /, sep=None, maxsplit=-1)\n",
      " |      Return a list of the substrings in the string, using sep as the separator string.\n",
      " |      \n",
      " |        sep\n",
      " |          The separator used to split the string.\n",
      " |      \n",
      " |          When set to None (the default value), will split on any whitespace\n",
      " |          character (including \\\\n \\\\r \\\\t \\\\f and spaces) and will discard\n",
      " |          empty strings from the result.\n",
      " |        maxsplit\n",
      " |          Maximum number of splits (starting from the left).\n",
      " |          -1 (the default value) means no limit.\n",
      " |      \n",
      " |      Note, str.split() is mainly useful for data that has been intentionally\n",
      " |      delimited.  With natural text that includes punctuation, consider using\n",
      " |      the regular expression module.\n",
      " |  \n",
      " |  splitlines(self, /, keepends=False)\n",
      " |      Return a list of the lines in the string, breaking at line boundaries.\n",
      " |      \n",
      " |      Line breaks are not included in the resulting list unless keepends is given and\n",
      " |      true.\n",
      " |  \n",
      " |  startswith(...)\n",
      " |      S.startswith(prefix[, start[, end]]) -> bool\n",
      " |      \n",
      " |      Return True if S starts with the specified prefix, False otherwise.\n",
      " |      With optional start, test S beginning at that position.\n",
      " |      With optional end, stop comparing S at that position.\n",
      " |      prefix can also be a tuple of strings to try.\n",
      " |  \n",
      " |  strip(self, chars=None, /)\n",
      " |      Return a copy of the string with leading and trailing whitespace removed.\n",
      " |      \n",
      " |      If chars is given and not None, remove characters in chars instead.\n",
      " |  \n",
      " |  swapcase(self, /)\n",
      " |      Convert uppercase characters to lowercase and lowercase characters to uppercase.\n",
      " |  \n",
      " |  title(self, /)\n",
      " |      Return a version of the string where each word is titlecased.\n",
      " |      \n",
      " |      More specifically, words start with uppercased characters and all remaining\n",
      " |      cased characters have lower case.\n",
      " |  \n",
      " |  translate(self, table, /)\n",
      " |      Replace each character in the string using the given translation table.\n",
      " |      \n",
      " |        table\n",
      " |          Translation table, which must be a mapping of Unicode ordinals to\n",
      " |          Unicode ordinals, strings, or None.\n",
      " |      \n",
      " |      The table must implement lookup/indexing via __getitem__, for instance a\n",
      " |      dictionary or list.  If this operation raises LookupError, the character is\n",
      " |      left untouched.  Characters mapped to None are deleted.\n",
      " |  \n",
      " |  upper(self, /)\n",
      " |      Return a copy of the string converted to uppercase.\n",
      " |  \n",
      " |  zfill(self, width, /)\n",
      " |      Pad a numeric string with zeros on the left, to fill a field of the given width.\n",
      " |      \n",
      " |      The string is never truncated.\n",
      " |  \n",
      " |  ----------------------------------------------------------------------\n",
      " |  Static methods defined here:\n",
      " |  \n",
      " |  __new__(*args, **kwargs) from builtins.type\n",
      " |      Create and return a new object.  See help(type) for accurate signature.\n",
      " |  \n",
      " |  maketrans(...)\n",
      " |      Return a translation table usable for str.translate().\n",
      " |      \n",
      " |      If there is only one argument, it must be a dictionary mapping Unicode\n",
      " |      ordinals (integers) or characters to Unicode ordinals, strings or None.\n",
      " |      Character keys will be then converted to ordinals.\n",
      " |      If there are two arguments, they must be strings of equal length, and\n",
      " |      in the resulting dictionary, each character in x will be mapped to the\n",
      " |      character at the same position in y. If there is a third argument, it\n",
      " |      must be a string, whose characters will be mapped to None in the result.\n",
      "\n",
      "None\n",
      "\n",
      "Here is a list of the Python keywords.  Enter any keyword to get more help.\n",
      "\n",
      "False               class               from                or\n",
      "None                continue            global              pass\n",
      "True                def                 if                  raise\n",
      "and                 del                 import              return\n",
      "as                  elif                in                  try\n",
      "assert              else                is                  while\n",
      "async               except              lambda              with\n",
      "await               finally             nonlocal            yield\n",
      "break               for                 not                 \n",
      "\n",
      "None\n"
     ]
    }
   ],
   "source": [
    "print(help(str))\n",
    "print(help('keywords'))\n"
   ]
  },
  {
   "cell_type": "code",
   "execution_count": 78,
   "id": "2f84634a",
   "metadata": {},
   "outputs": [
    {
     "name": "stdout",
     "output_type": "stream",
     "text": [
      "Help on built-in module math:\n",
      "\n",
      "NAME\n",
      "    math\n",
      "\n",
      "DESCRIPTION\n",
      "    This module provides access to the mathematical functions\n",
      "    defined by the C standard.\n",
      "\n",
      "FUNCTIONS\n",
      "    acos(x, /)\n",
      "        Return the arc cosine (measured in radians) of x.\n",
      "        \n",
      "        The result is between 0 and pi.\n",
      "    \n",
      "    acosh(x, /)\n",
      "        Return the inverse hyperbolic cosine of x.\n",
      "    \n",
      "    asin(x, /)\n",
      "        Return the arc sine (measured in radians) of x.\n",
      "        \n",
      "        The result is between -pi/2 and pi/2.\n",
      "    \n",
      "    asinh(x, /)\n",
      "        Return the inverse hyperbolic sine of x.\n",
      "    \n",
      "    atan(x, /)\n",
      "        Return the arc tangent (measured in radians) of x.\n",
      "        \n",
      "        The result is between -pi/2 and pi/2.\n",
      "    \n",
      "    atan2(y, x, /)\n",
      "        Return the arc tangent (measured in radians) of y/x.\n",
      "        \n",
      "        Unlike atan(y/x), the signs of both x and y are considered.\n",
      "    \n",
      "    atanh(x, /)\n",
      "        Return the inverse hyperbolic tangent of x.\n",
      "    \n",
      "    cbrt(x, /)\n",
      "        Return the cube root of x.\n",
      "    \n",
      "    ceil(x, /)\n",
      "        Return the ceiling of x as an Integral.\n",
      "        \n",
      "        This is the smallest integer >= x.\n",
      "    \n",
      "    comb(n, k, /)\n",
      "        Number of ways to choose k items from n items without repetition and without order.\n",
      "        \n",
      "        Evaluates to n! / (k! * (n - k)!) when k <= n and evaluates\n",
      "        to zero when k > n.\n",
      "        \n",
      "        Also called the binomial coefficient because it is equivalent\n",
      "        to the coefficient of k-th term in polynomial expansion of the\n",
      "        expression (1 + x)**n.\n",
      "        \n",
      "        Raises TypeError if either of the arguments are not integers.\n",
      "        Raises ValueError if either of the arguments are negative.\n",
      "    \n",
      "    copysign(x, y, /)\n",
      "        Return a float with the magnitude (absolute value) of x but the sign of y.\n",
      "        \n",
      "        On platforms that support signed zeros, copysign(1.0, -0.0)\n",
      "        returns -1.0.\n",
      "    \n",
      "    cos(x, /)\n",
      "        Return the cosine of x (measured in radians).\n",
      "    \n",
      "    cosh(x, /)\n",
      "        Return the hyperbolic cosine of x.\n",
      "    \n",
      "    degrees(x, /)\n",
      "        Convert angle x from radians to degrees.\n",
      "    \n",
      "    dist(p, q, /)\n",
      "        Return the Euclidean distance between two points p and q.\n",
      "        \n",
      "        The points should be specified as sequences (or iterables) of\n",
      "        coordinates.  Both inputs must have the same dimension.\n",
      "        \n",
      "        Roughly equivalent to:\n",
      "            sqrt(sum((px - qx) ** 2.0 for px, qx in zip(p, q)))\n",
      "    \n",
      "    erf(x, /)\n",
      "        Error function at x.\n",
      "    \n",
      "    erfc(x, /)\n",
      "        Complementary error function at x.\n",
      "    \n",
      "    exp(x, /)\n",
      "        Return e raised to the power of x.\n",
      "    \n",
      "    exp2(x, /)\n",
      "        Return 2 raised to the power of x.\n",
      "    \n",
      "    expm1(x, /)\n",
      "        Return exp(x)-1.\n",
      "        \n",
      "        This function avoids the loss of precision involved in the direct evaluation of exp(x)-1 for small x.\n",
      "    \n",
      "    fabs(x, /)\n",
      "        Return the absolute value of the float x.\n",
      "    \n",
      "    factorial(n, /)\n",
      "        Find n!.\n",
      "        \n",
      "        Raise a ValueError if x is negative or non-integral.\n",
      "    \n",
      "    floor(x, /)\n",
      "        Return the floor of x as an Integral.\n",
      "        \n",
      "        This is the largest integer <= x.\n",
      "    \n",
      "    fmod(x, y, /)\n",
      "        Return fmod(x, y), according to platform C.\n",
      "        \n",
      "        x % y may differ.\n",
      "    \n",
      "    frexp(x, /)\n",
      "        Return the mantissa and exponent of x, as pair (m, e).\n",
      "        \n",
      "        m is a float and e is an int, such that x = m * 2.**e.\n",
      "        If x is 0, m and e are both 0.  Else 0.5 <= abs(m) < 1.0.\n",
      "    \n",
      "    fsum(seq, /)\n",
      "        Return an accurate floating point sum of values in the iterable seq.\n",
      "        \n",
      "        Assumes IEEE-754 floating point arithmetic.\n",
      "    \n",
      "    gamma(x, /)\n",
      "        Gamma function at x.\n",
      "    \n",
      "    gcd(*integers)\n",
      "        Greatest Common Divisor.\n",
      "    \n",
      "    hypot(...)\n",
      "        hypot(*coordinates) -> value\n",
      "        \n",
      "        Multidimensional Euclidean distance from the origin to a point.\n",
      "        \n",
      "        Roughly equivalent to:\n",
      "            sqrt(sum(x**2 for x in coordinates))\n",
      "        \n",
      "        For a two dimensional point (x, y), gives the hypotenuse\n",
      "        using the Pythagorean theorem:  sqrt(x*x + y*y).\n",
      "        \n",
      "        For example, the hypotenuse of a 3/4/5 right triangle is:\n",
      "        \n",
      "            >>> hypot(3.0, 4.0)\n",
      "            5.0\n",
      "    \n",
      "    isclose(a, b, *, rel_tol=1e-09, abs_tol=0.0)\n",
      "        Determine whether two floating point numbers are close in value.\n",
      "        \n",
      "          rel_tol\n",
      "            maximum difference for being considered \"close\", relative to the\n",
      "            magnitude of the input values\n",
      "          abs_tol\n",
      "            maximum difference for being considered \"close\", regardless of the\n",
      "            magnitude of the input values\n",
      "        \n",
      "        Return True if a is close in value to b, and False otherwise.\n",
      "        \n",
      "        For the values to be considered close, the difference between them\n",
      "        must be smaller than at least one of the tolerances.\n",
      "        \n",
      "        -inf, inf and NaN behave similarly to the IEEE 754 Standard.  That\n",
      "        is, NaN is not close to anything, even itself.  inf and -inf are\n",
      "        only close to themselves.\n",
      "    \n",
      "    isfinite(x, /)\n",
      "        Return True if x is neither an infinity nor a NaN, and False otherwise.\n",
      "    \n",
      "    isinf(x, /)\n",
      "        Return True if x is a positive or negative infinity, and False otherwise.\n",
      "    \n",
      "    isnan(x, /)\n",
      "        Return True if x is a NaN (not a number), and False otherwise.\n",
      "    \n",
      "    isqrt(n, /)\n",
      "        Return the integer part of the square root of the input.\n",
      "    \n",
      "    lcm(*integers)\n",
      "        Least Common Multiple.\n",
      "    \n",
      "    ldexp(x, i, /)\n",
      "        Return x * (2**i).\n",
      "        \n",
      "        This is essentially the inverse of frexp().\n",
      "    \n",
      "    lgamma(x, /)\n",
      "        Natural logarithm of absolute value of Gamma function at x.\n",
      "    \n",
      "    log(...)\n",
      "        log(x, [base=math.e])\n",
      "        Return the logarithm of x to the given base.\n",
      "        \n",
      "        If the base not specified, returns the natural logarithm (base e) of x.\n",
      "    \n",
      "    log10(x, /)\n",
      "        Return the base 10 logarithm of x.\n",
      "    \n",
      "    log1p(x, /)\n",
      "        Return the natural logarithm of 1+x (base e).\n",
      "        \n",
      "        The result is computed in a way which is accurate for x near zero.\n",
      "    \n",
      "    log2(x, /)\n",
      "        Return the base 2 logarithm of x.\n",
      "    \n",
      "    modf(x, /)\n",
      "        Return the fractional and integer parts of x.\n",
      "        \n",
      "        Both results carry the sign of x and are floats.\n",
      "    \n",
      "    nextafter(x, y, /)\n",
      "        Return the next floating-point value after x towards y.\n",
      "    \n",
      "    perm(n, k=None, /)\n",
      "        Number of ways to choose k items from n items without repetition and with order.\n",
      "        \n",
      "        Evaluates to n! / (n - k)! when k <= n and evaluates\n",
      "        to zero when k > n.\n",
      "        \n",
      "        If k is not specified or is None, then k defaults to n\n",
      "        and the function returns n!.\n",
      "        \n",
      "        Raises TypeError if either of the arguments are not integers.\n",
      "        Raises ValueError if either of the arguments are negative.\n",
      "    \n",
      "    pow(x, y, /)\n",
      "        Return x**y (x to the power of y).\n",
      "    \n",
      "    prod(iterable, /, *, start=1)\n",
      "        Calculate the product of all the elements in the input iterable.\n",
      "        \n",
      "        The default start value for the product is 1.\n",
      "        \n",
      "        When the iterable is empty, return the start value.  This function is\n",
      "        intended specifically for use with numeric values and may reject\n",
      "        non-numeric types.\n",
      "    \n",
      "    radians(x, /)\n",
      "        Convert angle x from degrees to radians.\n",
      "    \n",
      "    remainder(x, y, /)\n",
      "        Difference between x and the closest integer multiple of y.\n",
      "        \n",
      "        Return x - n*y where n*y is the closest integer multiple of y.\n",
      "        In the case where x is exactly halfway between two multiples of\n",
      "        y, the nearest even value of n is used. The result is always exact.\n",
      "    \n",
      "    sin(x, /)\n",
      "        Return the sine of x (measured in radians).\n",
      "    \n",
      "    sinh(x, /)\n",
      "        Return the hyperbolic sine of x.\n",
      "    \n",
      "    sqrt(x, /)\n",
      "        Return the square root of x.\n",
      "    \n",
      "    tan(x, /)\n",
      "        Return the tangent of x (measured in radians).\n",
      "    \n",
      "    tanh(x, /)\n",
      "        Return the hyperbolic tangent of x.\n",
      "    \n",
      "    trunc(x, /)\n",
      "        Truncates the Real x to the nearest Integral toward 0.\n",
      "        \n",
      "        Uses the __trunc__ magic method.\n",
      "    \n",
      "    ulp(x, /)\n",
      "        Return the value of the least significant bit of the float x.\n",
      "\n",
      "DATA\n",
      "    e = 2.718281828459045\n",
      "    inf = inf\n",
      "    nan = nan\n",
      "    pi = 3.141592653589793\n",
      "    tau = 6.283185307179586\n",
      "\n",
      "FILE\n",
      "    (built-in)\n",
      "\n",
      "\n",
      "None\n"
     ]
    }
   ],
   "source": [
    "# math module\n",
    "print(help('math'))\n",
    "\n"
   ]
  },
  {
   "cell_type": "code",
   "execution_count": 79,
   "id": "47dc1938",
   "metadata": {},
   "outputs": [
    {
     "name": "stdout",
     "output_type": "stream",
     "text": [
      "7.0\n"
     ]
    }
   ],
   "source": [
    "import math\n",
    "print(math.sqrt(49))\n"
   ]
  },
  {
   "cell_type": "code",
   "execution_count": 80,
   "id": "0252a202",
   "metadata": {},
   "outputs": [
    {
     "name": "stdout",
     "output_type": "stream",
     "text": [
      "4.0\n"
     ]
    }
   ],
   "source": [
    "from math import sqrt\n",
    "print(sqrt (16))\n"
   ]
  },
  {
   "cell_type": "code",
   "execution_count": 81,
   "id": "6c71141b",
   "metadata": {},
   "outputs": [
    {
     "name": "stdout",
     "output_type": "stream",
     "text": [
      "value is 55\n"
     ]
    }
   ],
   "source": [
    "#functools-module : only 2 values added but just like sum totally every number is added    \n",
    "\n",
    "l=[1,2,3,4,5,6,7,8,9,10]\n",
    "from functools import reduce\n",
    "result=reduce(lambda x,y:x+y,l)\n",
    "print('value is',result)\n",
    "\n"
   ]
  },
  {
   "cell_type": "markdown",
   "id": "b4f0892a",
   "metadata": {},
   "source": [
    "# DAY-17  JULY-22\n"
   ]
  },
  {
   "cell_type": "code",
   "execution_count": 84,
   "id": "e14dd24b",
   "metadata": {},
   "outputs": [
    {
     "data": {
      "text/plain": [
       "True"
      ]
     },
     "execution_count": 84,
     "metadata": {},
     "output_type": "execute_result"
    }
   ],
   "source": [
    "#RECURSIVE FUNCTION-call by itselffunction\n",
    "\n",
    "#factorial- n*fact(n-1)\n",
    "n=5\n",
    "5*4*3*2*1==120\n"
   ]
  },
  {
   "cell_type": "code",
   "execution_count": 85,
   "id": "9221df79",
   "metadata": {},
   "outputs": [
    {
     "name": "stdout",
     "output_type": "stream",
     "text": [
      "enter the factor number:7\n",
      "factor of x is: 5040\n"
     ]
    }
   ],
   "source": [
    "#find the factorial of a number using recursive function\n",
    "def fact(n):\n",
    "    if n==0 or n==1:\n",
    "        return 1\n",
    "    else:\n",
    "        return n*fact(n-1)\n",
    "x=int(input('enter the factor number:'))\n",
    "print('factor of x is:',fact(x))\n"
   ]
  },
  {
   "cell_type": "code",
   "execution_count": 86,
   "id": "c33385f4",
   "metadata": {},
   "outputs": [
    {
     "name": "stdout",
     "output_type": "stream",
     "text": [
      "factorial of a number: 5040\n"
     ]
    }
   ],
   "source": [
    "import math as m\n",
    "print('factorial of a number:',m.factorial(7))\n",
    "\n"
   ]
  },
  {
   "cell_type": "code",
   "execution_count": 87,
   "id": "5a80d1d6",
   "metadata": {},
   "outputs": [
    {
     "name": "stdout",
     "output_type": "stream",
     "text": [
      "ceil value is: 71\n",
      "floor valueis: 70\n"
     ]
    }
   ],
   "source": [
    "#CEIL AND FLOOR FUNCTION\n",
    "print('ceil value is:',m.ceil(70.77))\n",
    "print('floor valueis:',m.floor(70.77))\n",
    "\n"
   ]
  },
  {
   "cell_type": "code",
   "execution_count": 88,
   "id": "ab31128a",
   "metadata": {},
   "outputs": [
    {
     "name": "stdout",
     "output_type": "stream",
     "text": [
      "Remainder value is: 0.0\n",
      "Remainder value is: 1.0\n"
     ]
    }
   ],
   "source": [
    "#REMAINDER\n",
    "print('Remainder value is:',m.remainder(6,3))\n",
    "print('Remainder value is:',m.remainder(7,3))\n"
   ]
  },
  {
   "cell_type": "code",
   "execution_count": 89,
   "id": "32a5eb4b",
   "metadata": {},
   "outputs": [
    {
     "name": "stdout",
     "output_type": "stream",
     "text": [
      "GCD of a number: 12\n"
     ]
    }
   ],
   "source": [
    "from math import*\n",
    "#GCD-greatest commom divisor\n",
    "print('GCD of a number:',gcd(24,12))\n",
    "\n"
   ]
  },
  {
   "cell_type": "code",
   "execution_count": 90,
   "id": "42dce61b",
   "metadata": {},
   "outputs": [
    {
     "name": "stdout",
     "output_type": "stream",
     "text": [
      "sum of value is: 28.0\n"
     ]
    }
   ],
   "source": [
    "print('sum of value is:',fsum([1,2,3,4,5,6,7]) )\n",
    "\n"
   ]
  },
  {
   "cell_type": "code",
   "execution_count": 91,
   "id": "091453df",
   "metadata": {},
   "outputs": [
    {
     "name": "stdout",
     "output_type": "stream",
     "text": [
      "sine value is: 0.0\n",
      "cos value is: 1.0\n",
      "tan value is: 0.0\n",
      "asine value is: 0.0\n"
     ]
    }
   ],
   "source": [
    "from math import*\n",
    "\n",
    "#TRIGNOMETRIC FFUNCTION\n",
    "print('sine value is:',sin(0))\n",
    "print('cos value is:',cos(0))\n",
    "print('tan value is:',tan(0))\n",
    "print('asine value is:',asin(0))\n",
    "\n"
   ]
  },
  {
   "cell_type": "code",
   "execution_count": 92,
   "id": "4ba1c8f0",
   "metadata": {},
   "outputs": [
    {
     "name": "stdout",
     "output_type": "stream",
     "text": [
      "Not a Number: nan\n",
      "infinity is: inf\n",
      "Tau value is: 6.283185307179586\n",
      "pi value is: 3.141592653589793\n",
      "Euler value is: 2.718281828459045\n"
     ]
    }
   ],
   "source": [
    "# CONSTANT FUNCTIONS\n",
    "print('Not a Number:',nan)\n",
    "print('infinity is:',inf)\n",
    "print('Tau value is:',tau)\n",
    "print('pi value is:',pi)\n",
    "print('Euler value is:',e)\n"
   ]
  },
  {
   "cell_type": "code",
   "execution_count": 93,
   "id": "4f71bf3d",
   "metadata": {},
   "outputs": [
    {
     "name": "stdout",
     "output_type": "stream",
     "text": [
      "(9.219544457292887+0j)\n"
     ]
    }
   ],
   "source": [
    "import cmath\n",
    "print(cmath.sqrt(85))\n",
    "\n"
   ]
  },
  {
   "cell_type": "code",
   "execution_count": 94,
   "id": "8b38a8b0",
   "metadata": {},
   "outputs": [
    {
     "name": "stdout",
     "output_type": "stream",
     "text": [
      "enter the radius os the circle:7\n",
      "area of circle is: 153.93804002589985\n"
     ]
    }
   ],
   "source": [
    "#area of circle\n",
    "r=int(input('enter the radius os the circle:'))\n",
    "import math \n",
    "print('area of circle is:',math.pi*r**2)\n",
    "\n"
   ]
  },
  {
   "cell_type": "code",
   "execution_count": 95,
   "id": "3995d617",
   "metadata": {},
   "outputs": [
    {
     "name": "stdout",
     "output_type": "stream",
     "text": [
      "enter the radius os the circle:7\n",
      "circumference of the circle: 43.982297150257104\n"
     ]
    }
   ],
   "source": [
    "#circumference of the circle\n",
    "r=int(input('enter the radius os the circle:'))\n",
    "import math \n",
    "print('circumference of the circle:',2*math.pi*r)\n"
   ]
  },
  {
   "cell_type": "markdown",
   "id": "0fa0e4ac",
   "metadata": {},
   "source": [
    "# DAY-18 JULY 23\n"
   ]
  },
  {
   "cell_type": "code",
   "execution_count": 97,
   "id": "11404039",
   "metadata": {},
   "outputs": [
    {
     "name": "stdout",
     "output_type": "stream",
     "text": [
      "Random value is: 0.3346839237892345\n"
     ]
    }
   ],
   "source": [
    "#RANDOM MODULE\n",
    "import random\n",
    "ran=random.random()#ans in float\n",
    "print('Random value is:',ran)\n",
    "\n"
   ]
  },
  {
   "cell_type": "code",
   "execution_count": 98,
   "id": "0a6c112a",
   "metadata": {},
   "outputs": [
    {
     "name": "stdout",
     "output_type": "stream",
     "text": [
      "Random value is: 0.32383276483316237\n"
     ]
    }
   ],
   "source": [
    "#same random\n",
    "random.seed(7)#random value will not get changed\n",
    "ran=random.random()#ans in float\n",
    "print('Random value is:',ran)\n"
   ]
  },
  {
   "cell_type": "code",
   "execution_count": 99,
   "id": "b7c3979c",
   "metadata": {},
   "outputs": [
    {
     "name": "stdout",
     "output_type": "stream",
     "text": [
      "19\n",
      "55\n"
     ]
    }
   ],
   "source": [
    "import random\n",
    "#random range\n",
    "print(random.randrange(77))\n",
    "\n",
    "print(random.randrange(5,77))\n",
    "\n"
   ]
  },
  {
   "cell_type": "code",
   "execution_count": 100,
   "id": "c6cee6ba",
   "metadata": {},
   "outputs": [
    {
     "name": "stdout",
     "output_type": "stream",
     "text": [
      "46\n",
      "-64\n"
     ]
    }
   ],
   "source": [
    "import random\n",
    "#random in int\n",
    "\n",
    "ran7=random.randint(5,50)\n",
    "print(ran7)\n",
    "\n",
    "ran5=random.randint(-70,-5)\n",
    "print(ran5)\n"
   ]
  },
  {
   "cell_type": "code",
   "execution_count": null,
   "id": "7ab0ec28",
   "metadata": {},
   "outputs": [],
   "source": [
    "# import random\n",
    "#random choice\n",
    "Colours=['sky blue','pink','red','black','green']\n",
    "print(random.choice(Colours))\n",
    "\n"
   ]
  },
  {
   "cell_type": "code",
   "execution_count": 109,
   "id": "ec6ff072",
   "metadata": {},
   "outputs": [
    {
     "name": "stdout",
     "output_type": "stream",
     "text": [
      "{0, 1, 2, 3, 4, 5, 6, 7, 8, 9, 10, 11, 12, 13, 14, 15, 16}\n"
     ]
    }
   ],
   "source": [
    "import random\n",
    "#shuffle set\n",
    "lis=set(range(17))\n",
    "print(lis)\n"
   ]
  },
  {
   "cell_type": "code",
   "execution_count": 108,
   "id": "bd9e4f58",
   "metadata": {},
   "outputs": [
    {
     "name": "stdout",
     "output_type": "stream",
     "text": [
      "[10, 5, 2, 9, 7, 4, 0, 12, 8, 11, 3, 14, 13, 16, 15, 1, 6]\n"
     ]
    }
   ],
   "source": [
    "lis=[0, 1, 2, 3, 4, 5, 6, 7, 8, 9, 10, 11, 12, 13, 14, 15, 16]\n",
    "random.shuffle(lis)\n",
    "print(lis)\n"
   ]
  },
  {
   "cell_type": "markdown",
   "id": "45375733",
   "metadata": {},
   "source": [
    "# DAY-19 JULY-29\n"
   ]
  },
  {
   "cell_type": "code",
   "execution_count": null,
   "id": "7484b084",
   "metadata": {},
   "outputs": [],
   "source": [
    "#syntax:\n",
    "open('File path name','Modes of operation')\n"
   ]
  },
  {
   "cell_type": "code",
   "execution_count": 1,
   "id": "4d86d0f2",
   "metadata": {},
   "outputs": [
    {
     "name": "stdout",
     "output_type": "stream",
     "text": [
      "File Handling\n",
      "\n",
      ">>fie handling is an important part of any web application\n",
      ">>python has a several functions for creating, reading, updating, and deleting files\n",
      "\n",
      "\n"
     ]
    }
   ],
   "source": [
    "f=open('D:\\\\python programming\\\\text.txt','r')\n",
    "print(f.read())\n"
   ]
  },
  {
   "cell_type": "markdown",
   "id": "bab92bb2",
   "metadata": {},
   "source": [
    "# DAY-20 JULY-30"
   ]
  },
  {
   "cell_type": "code",
   "execution_count": 1,
   "id": "0a9a9019",
   "metadata": {},
   "outputs": [
    {
     "name": "stdout",
     "output_type": "stream",
     "text": [
      "Hello Good Evening\n",
      "Hello \n",
      "Good Evening \n",
      "Have a Nice Day\n"
     ]
    }
   ],
   "source": [
    "#FILE HANDLING\n",
    "\n",
    "#\\n- next time\n",
    "\n",
    "print('Hello','Good Evening')\n",
    "\n",
    "print('Hello','\\nGood Evening','\\nHave a Nice Day')\n"
   ]
  },
  {
   "cell_type": "code",
   "execution_count": 2,
   "id": "a60b38a3",
   "metadata": {},
   "outputs": [
    {
     "name": "stdout",
     "output_type": "stream",
     "text": [
      "Hello \tGood Evening \tHave a Nice Day\n"
     ]
    }
   ],
   "source": [
    "#\\t- tab space\n",
    "\n",
    "print('Hello','\\tGood Evening','\\tHave a Nice Day')\n",
    "\n"
   ]
  },
  {
   "cell_type": "code",
   "execution_count": 1,
   "id": "50866073",
   "metadata": {},
   "outputs": [
    {
     "name": "stdout",
     "output_type": "stream",
     "text": [
      "159\n"
     ]
    }
   ],
   "source": [
    "#w- open a file and write\n",
    "\n",
    "w=open('D:\\\\python programming\\\\w-text.txt','w')\n",
    "print(w.write('w- used to write content in the file. for 1st time opening the file we can use w but to write again in the same file we should not use (w) instead use append-a'))\n",
    "w.close()\n"
   ]
  },
  {
   "cell_type": "code",
   "execution_count": 2,
   "id": "3d45ff5f",
   "metadata": {},
   "outputs": [
    {
     "name": "stdout",
     "output_type": "stream",
     "text": [
      "138\n"
     ]
    }
   ],
   "source": [
    "#w- use a-append to use add new content in the alreary existing file, \\n to print content in next line\n",
    "\n",
    "w=open('D:\\\\python programming\\\\w-text.txt','a')\n",
    "print(w.write('\\nuse a-append to add new content in the alreary existing file .if we use w it will remove the content that is already existing in the file'))\n",
    "w.close()            \n",
    "              \n",
    "              \n"
   ]
  },
  {
   "cell_type": "code",
   "execution_count": 3,
   "id": "d84c17a2",
   "metadata": {},
   "outputs": [
    {
     "name": "stdout",
     "output_type": "stream",
     "text": [
      "\n",
      "49\n"
     ]
    }
   ],
   "source": [
    "# r+ , w+ - both read & write operation\n",
    "\n",
    "f=open('D:\\\\python programming\\\\r-text.txt','w+')\n",
    "print(f.read())\n",
    "print(f.write('\\nboth r+ & w+ is used to read and write operation'))\n",
    "f.close() \n"
   ]
  },
  {
   "cell_type": "code",
   "execution_count": 22,
   "id": "6d59b96f",
   "metadata": {},
   "outputs": [
    {
     "name": "stdout",
     "output_type": "stream",
     "text": [
      "student data,,,,\n",
      "\"s,no\",name,roll no,score,grade\n",
      "1,Lavanya Sree,A216201,9.5,O\n",
      "2,Anusuya,A216202,9.9,O\n",
      "3,Meera,A216203,9.8,O\n",
      "4,Monisha,A216204,9,O\n",
      "5,Shalini,A216205,9,O\n",
      "6,Rakshitha,A216206,8.5,D\n",
      "7,Kavitha,A216207,9.4,O\n",
      "8,Najim,A216208,8.8,D\n",
      "9,Komathi,A216209,9.3,O\n",
      "10,Madhu,A216210,9.9,O\n",
      "11,Keerthi sri,A216211,9.7,O\n",
      "12,Sharon,A216212,8.2,D\n",
      "13,Sofia,A216213,9,O\n",
      "\n"
     ]
    }
   ],
   "source": [
    "# How to read and write the CSV file (Common Seperated Value)\n",
    "#excel is used in csv mode because it will menimise storage\n",
    "f=open('D:\\\\python programming\\\\r.xls.csv','r')\n",
    "print(f.read())\n"
   ]
  },
  {
   "cell_type": "markdown",
   "id": "0dd86b47",
   "metadata": {},
   "source": [
    "# DAY-21 AUG-5\n"
   ]
  },
  {
   "cell_type": "code",
   "execution_count": 4,
   "id": "b054d69d",
   "metadata": {},
   "outputs": [],
   "source": [
    "#importing the csv file\n",
    "\n",
    "import csv\n",
    "#Giving the column value in list\n",
    "colum=['s.no','Name','Department','Rank']\n",
    "\n",
    "#Creating the list for row values\n",
    "rows=[1,'Anu','Bio Informatics','1'],[2,'Meera','Genetics','3'],[3,'Shalini','CS','5']\n",
    "with open ('D:\\\\python programming\\\\w.xls.csv','w') as e:\n",
    "    #Creating the csv file\n",
    "    writer=csv.writer(e)\n",
    "    #writing fields in the csv file\n",
    "    writer.writerow(colum)\n",
    "    #writing row values in the csv file\n",
    "    writer.writerows(rows)   \n",
    "\n"
   ]
  },
  {
   "cell_type": "code",
   "execution_count": 5,
   "id": "5968baa9",
   "metadata": {},
   "outputs": [],
   "source": [
    "# copy content of 1 file to another file\n",
    "\n",
    "with open ('D:\\\\python programming\\\\w-text.txt','r') as firstfile,open('D:\\\\python programming\\\\sec.txt','a') as secondfile:\n",
    "#read content from first file\n",
    "    for line in firstfile:\n",
    "        #append content to second file\n",
    "        secondfile.write(line)\n",
    "\n"
   ]
  },
  {
   "cell_type": "code",
   "execution_count": 4,
   "id": "c28a2a4f",
   "metadata": {},
   "outputs": [
    {
     "name": "stdout",
     "output_type": "stream",
     "text": [
      "['w-', 'used', 'to', 'write', 'content', 'in', 'the', 'file.', 'for', '1st', 'time', 'opening', 'the', 'file', 'we', 'can', 'use', 'w', 'but', 'to', 'write', 'again', 'in', 'the', 'same', 'file', 'we', 'should', 'not', 'use', '(w)', 'instead', 'use', 'append-a']\n",
      "['use', 'a-append', 'to', 'add', 'new', 'content', 'in', 'the', 'alreary', 'existing', 'file', '.if', 'we', 'use', 'w', 'it', 'will', 'remove', 'the', 'content', 'that', 'is', 'already', 'existing', 'in', 'the', 'file']\n"
     ]
    }
   ],
   "source": [
    "#split file\n",
    "\n",
    "with open ('D:\\\\python programming\\\\w-text.txt','r') as file:\n",
    "    data=file.readlines()\n",
    "    for line in data:\n",
    "        word=line.split()\n",
    "        print(word)\n"
   ]
  },
  {
   "cell_type": "code",
   "execution_count": 5,
   "id": "bbec071a",
   "metadata": {},
   "outputs": [
    {
     "name": "stdout",
     "output_type": "stream",
     "text": [
      "                                  2023\n",
      "\n",
      "      January                   February                   March\n",
      "Mo Tu We Th Fr Sa Su      Mo Tu We Th Fr Sa Su      Mo Tu We Th Fr Sa Su\n",
      "                   1             1  2  3  4  5             1  2  3  4  5\n",
      " 2  3  4  5  6  7  8       6  7  8  9 10 11 12       6  7  8  9 10 11 12\n",
      " 9 10 11 12 13 14 15      13 14 15 16 17 18 19      13 14 15 16 17 18 19\n",
      "16 17 18 19 20 21 22      20 21 22 23 24 25 26      20 21 22 23 24 25 26\n",
      "23 24 25 26 27 28 29      27 28                     27 28 29 30 31\n",
      "30 31\n",
      "\n",
      "       April                      May                       June\n",
      "Mo Tu We Th Fr Sa Su      Mo Tu We Th Fr Sa Su      Mo Tu We Th Fr Sa Su\n",
      "                1  2       1  2  3  4  5  6  7                1  2  3  4\n",
      " 3  4  5  6  7  8  9       8  9 10 11 12 13 14       5  6  7  8  9 10 11\n",
      "10 11 12 13 14 15 16      15 16 17 18 19 20 21      12 13 14 15 16 17 18\n",
      "17 18 19 20 21 22 23      22 23 24 25 26 27 28      19 20 21 22 23 24 25\n",
      "24 25 26 27 28 29 30      29 30 31                  26 27 28 29 30\n",
      "\n",
      "        July                     August                  September\n",
      "Mo Tu We Th Fr Sa Su      Mo Tu We Th Fr Sa Su      Mo Tu We Th Fr Sa Su\n",
      "                1  2          1  2  3  4  5  6                   1  2  3\n",
      " 3  4  5  6  7  8  9       7  8  9 10 11 12 13       4  5  6  7  8  9 10\n",
      "10 11 12 13 14 15 16      14 15 16 17 18 19 20      11 12 13 14 15 16 17\n",
      "17 18 19 20 21 22 23      21 22 23 24 25 26 27      18 19 20 21 22 23 24\n",
      "24 25 26 27 28 29 30      28 29 30 31               25 26 27 28 29 30\n",
      "31\n",
      "\n",
      "      October                   November                  December\n",
      "Mo Tu We Th Fr Sa Su      Mo Tu We Th Fr Sa Su      Mo Tu We Th Fr Sa Su\n",
      "                   1             1  2  3  4  5                   1  2  3\n",
      " 2  3  4  5  6  7  8       6  7  8  9 10 11 12       4  5  6  7  8  9 10\n",
      " 9 10 11 12 13 14 15      13 14 15 16 17 18 19      11 12 13 14 15 16 17\n",
      "16 17 18 19 20 21 22      20 21 22 23 24 25 26      18 19 20 21 22 23 24\n",
      "23 24 25 26 27 28 29      27 28 29 30               25 26 27 28 29 30 31\n",
      "30 31\n",
      "\n"
     ]
    }
   ],
   "source": [
    "#calendar module\n",
    "\n",
    "import calendar\n",
    "print(calendar.calendar(2023))\n"
   ]
  },
  {
   "cell_type": "code",
   "execution_count": 6,
   "id": "e3964cc3",
   "metadata": {},
   "outputs": [
    {
     "name": "stdout",
     "output_type": "stream",
     "text": [
      "Enter the month:3\n",
      "Enter the year:2077\n",
      "     March 2077\n",
      "Mo Tu We Th Fr Sa Su\n",
      " 1  2  3  4  5  6  7\n",
      " 8  9 10 11 12 13 14\n",
      "15 16 17 18 19 20 21\n",
      "22 23 24 25 26 27 28\n",
      "29 30 31\n",
      "\n"
     ]
    }
   ],
   "source": [
    "# Month calendar\n",
    "month=int(input('Enter the month:'))\n",
    "year=int(input('Enter the year:'))\n",
    "print(calendar.month(year,month))\n"
   ]
  },
  {
   "cell_type": "code",
   "execution_count": 7,
   "id": "356bd5a8",
   "metadata": {},
   "outputs": [
    {
     "name": "stdout",
     "output_type": "stream",
     "text": [
      "2023-08-05 18:10:39.971930\n"
     ]
    }
   ],
   "source": [
    "# Date Time module- we can access the day, month and year information\n",
    "\n",
    "from datetime import*\n",
    "dtm=datetime.now()\n",
    "print(dtm)\n"
   ]
  },
  {
   "cell_type": "code",
   "execution_count": 8,
   "id": "315f4cc6",
   "metadata": {},
   "outputs": [
    {
     "name": "stdout",
     "output_type": "stream",
     "text": [
      "2077-07-05 17:05:00\n"
     ]
    }
   ],
   "source": [
    "# date time combine\n",
    "\n",
    "d= date (2077,7,5)\n",
    "t= time (17,5)\n",
    "dt= datetime.combine(d,t)\n",
    "print(dt)\n"
   ]
  },
  {
   "cell_type": "code",
   "execution_count": 9,
   "id": "5735f4b6",
   "metadata": {},
   "outputs": [
    {
     "name": "stdout",
     "output_type": "stream",
     "text": [
      "2023-08-05\n",
      "05,Aug,23\n",
      "08/05/23,August,2023\n"
     ]
    }
   ],
   "source": [
    "td=date.today()\n",
    "print(td)\n",
    "\n",
    "\n",
    "# Format the td and convert into string\n",
    "\n",
    "string= td.strftime('%d,%b,%y')\n",
    "print(string)\n",
    "\n",
    "string=td.strftime('%D,%B,%Y')\n",
    "print(string)\n"
   ]
  },
  {
   "cell_type": "markdown",
   "id": "9c990999",
   "metadata": {},
   "source": [
    "# DAY-22 AUG-6"
   ]
  },
  {
   "cell_type": "code",
   "execution_count": 2,
   "id": "2d8a1d95",
   "metadata": {},
   "outputs": [],
   "source": [
    "# ModuleNotFoundError\n",
    "\n",
    "import math \n"
   ]
  },
  {
   "cell_type": "code",
   "execution_count": 14,
   "id": "0a5ba9ae",
   "metadata": {},
   "outputs": [
    {
     "ename": "AttributeError",
     "evalue": "'tuple' object has no attribute 'append'",
     "output_type": "error",
     "traceback": [
      "\u001b[1;31m---------------------------------------------------------------------------\u001b[0m",
      "\u001b[1;31mAttributeError\u001b[0m                            Traceback (most recent call last)",
      "Cell \u001b[1;32mIn[14], line 4\u001b[0m\n\u001b[0;32m      1\u001b[0m \u001b[38;5;66;03m# AttributeError\u001b[39;00m\n\u001b[0;32m      3\u001b[0m \u001b[38;5;28mtuple\u001b[39m\u001b[38;5;241m=\u001b[39m(\u001b[38;5;241m1\u001b[39m,\u001b[38;5;241m2\u001b[39m,\u001b[38;5;241m3\u001b[39m,\u001b[38;5;241m4\u001b[39m,\u001b[38;5;241m5\u001b[39m)\n\u001b[1;32m----> 4\u001b[0m \u001b[38;5;28mtuple\u001b[39m\u001b[38;5;241m.\u001b[39mappend(\u001b[38;5;241m7\u001b[39m)\n",
      "\u001b[1;31mAttributeError\u001b[0m: 'tuple' object has no attribute 'append'"
     ]
    }
   ],
   "source": [
    "# AttributeError\n",
    "\n",
    "tuple=(1,2,3,4,5)\n",
    "tuple.append(7)\n"
   ]
  },
  {
   "cell_type": "code",
   "execution_count": 12,
   "id": "2db89f4e",
   "metadata": {},
   "outputs": [
    {
     "name": "stdout",
     "output_type": "stream",
     "text": [
      "[1, 2, 3, 4, 5, 7]\n"
     ]
    }
   ],
   "source": [
    "li=[1,2,3,4,5]\n",
    "li.append(7)\n",
    "print(li)"
   ]
  },
  {
   "cell_type": "code",
   "execution_count": 16,
   "id": "af53ae43",
   "metadata": {},
   "outputs": [
    {
     "name": "stdout",
     "output_type": "stream",
     "text": [
      "Enter the number x:3\n",
      "Enter the number y:0\n"
     ]
    },
    {
     "ename": "ZeroDivisionError",
     "evalue": "division by zero",
     "output_type": "error",
     "traceback": [
      "\u001b[1;31m---------------------------------------------------------------------------\u001b[0m",
      "\u001b[1;31mZeroDivisionError\u001b[0m                         Traceback (most recent call last)",
      "Cell \u001b[1;32mIn[16], line 5\u001b[0m\n\u001b[0;32m      3\u001b[0m x\u001b[38;5;241m=\u001b[39m \u001b[38;5;28mint\u001b[39m(\u001b[38;5;28minput\u001b[39m(\u001b[38;5;124m'\u001b[39m\u001b[38;5;124mEnter the number x:\u001b[39m\u001b[38;5;124m'\u001b[39m))\n\u001b[0;32m      4\u001b[0m y\u001b[38;5;241m=\u001b[39m \u001b[38;5;28mint\u001b[39m(\u001b[38;5;28minput\u001b[39m(\u001b[38;5;124m'\u001b[39m\u001b[38;5;124mEnter the number y:\u001b[39m\u001b[38;5;124m'\u001b[39m))\n\u001b[1;32m----> 5\u001b[0m \u001b[38;5;28mprint\u001b[39m(x\u001b[38;5;241m/\u001b[39my)\n",
      "\u001b[1;31mZeroDivisionError\u001b[0m: division by zero"
     ]
    }
   ],
   "source": [
    "#ZeroDivisionError\n",
    "\n",
    "x= int(input('Enter the number x:'))\n",
    "y= int(input('Enter the number y:'))\n",
    "print(x/y)"
   ]
  },
  {
   "cell_type": "code",
   "execution_count": 17,
   "id": "fbce47b3",
   "metadata": {},
   "outputs": [
    {
     "name": "stdout",
     "output_type": "stream",
     "text": [
      "Enter the number x:2\n",
      "Enter the number y:0\n",
      "Error Occured\n"
     ]
    }
   ],
   "source": [
    "# except - Error\n",
    "try:\n",
    "    x= int(input('Enter the number x:'))\n",
    "    y= int(input('Enter the number y:'))\n",
    "    print(x/y)\n",
    "except:\n",
    "    print('Error Occured')\n",
    "\n"
   ]
  },
  {
   "cell_type": "code",
   "execution_count": 6,
   "id": "ab434847",
   "metadata": {},
   "outputs": [
    {
     "name": "stdout",
     "output_type": "stream",
     "text": [
      "Enter the number x:70\n",
      "Enter the number y:0\n",
      "division by zero\n"
     ]
    }
   ],
   "source": [
    "try:\n",
    "    x= int(input('Enter the number x:'))\n",
    "    y= int(input('Enter the number y:'))\n",
    "    print(x/y)\n",
    "except ZeroDivisionError as z:\n",
    "    print(z)\n"
   ]
  },
  {
   "cell_type": "code",
   "execution_count": 7,
   "id": "cb6997ed",
   "metadata": {},
   "outputs": [
    {
     "name": "stdout",
     "output_type": "stream",
     "text": [
      "Enter the number x:70\n",
      "Enter the number y:7\n",
      "name 'a' is not defined\n"
     ]
    }
   ],
   "source": [
    "#NameError  \n",
    "\n",
    "try:\n",
    "    x= int(input('Enter the number x:'))\n",
    "    y= int(input('Enter the number y:'))\n",
    "    print(x/a)\n",
    "except NameError as n:\n",
    "    print(n)"
   ]
  },
  {
   "cell_type": "code",
   "execution_count": 8,
   "id": "47db19d0",
   "metadata": {},
   "outputs": [
    {
     "name": "stdout",
     "output_type": "stream",
     "text": [
      "Enter the number x:70\n",
      "Enter the number y:0\n",
      "division by zero\n"
     ]
    }
   ],
   "source": [
    "# How to handle multiple Error\n",
    "\n",
    "try:\n",
    "    x= int(input('Enter the number x:'))\n",
    "    y= int(input('Enter the number y:'))\n",
    "    print(x/y)\n",
    "except ZeroDivisionError as z:\n",
    "    print(z)\n",
    "except NameError as n:\n",
    "    print(n)\n"
   ]
  },
  {
   "cell_type": "code",
   "execution_count": 9,
   "id": "440a9f00",
   "metadata": {},
   "outputs": [
    {
     "name": "stdout",
     "output_type": "stream",
     "text": [
      "Enter the number x:70\n",
      "Enter the number y:7\n",
      "name 'a' is not defined\n"
     ]
    }
   ],
   "source": [
    "try:\n",
    "    x= int(input('Enter the number x:'))\n",
    "    y= int(input('Enter the number y:'))\n",
    "    print(x/a)\n",
    "except ZeroDivisionError as z:\n",
    "    print(z)\n",
    "except NameError as n:\n",
    "    print(n)\n",
    "\n"
   ]
  },
  {
   "cell_type": "code",
   "execution_count": 10,
   "id": "01e22e4b",
   "metadata": {},
   "outputs": [
    {
     "name": "stdout",
     "output_type": "stream",
     "text": [
      "Enter the number x:70\n",
      "Enter the number y:7\n",
      "10.0\n"
     ]
    }
   ],
   "source": [
    "try:\n",
    "    x= int(input('Enter the number x:'))\n",
    "    y= int(input('Enter the number y:'))\n",
    "    print(x/y)\n",
    "except ZeroDivisionError as z:\n",
    "    print(z)\n",
    "except NameError as n:\n",
    "    print(n)\n",
    "\n"
   ]
  },
  {
   "cell_type": "code",
   "execution_count": 11,
   "id": "41006bb9",
   "metadata": {},
   "outputs": [
    {
     "name": "stdout",
     "output_type": "stream",
     "text": [
      "7.5\n",
      "11\n",
      "[12, 3, 45, 56, 78, 7.5, 90, 78, 50, 70.77, 99]\n",
      "2\n"
     ]
    }
   ],
   "source": [
    "# How to handle the error in the list\n",
    "\n",
    "l=[12,3,45,56,78,7.5,90,78]\n",
    "try:\n",
    "    l.append(50)\n",
    "    l.extend([70.77,99])\n",
    "    print(l[5])\n",
    "except IndexError as i:\n",
    "    print(i)\n",
    "else:\n",
    "    print(len(l))\n",
    "finally:\n",
    "    print(l)\n",
    "    print(l.count(78))"
   ]
  },
  {
   "cell_type": "code",
   "execution_count": 12,
   "id": "b2257453",
   "metadata": {},
   "outputs": [
    {
     "name": "stdout",
     "output_type": "stream",
     "text": [
      "list index out of range\n",
      "[12, 3, 45, 56, 78, 7.5, 90, 78, 50, 70.77, 99]\n",
      "2\n"
     ]
    }
   ],
   "source": [
    "# How to handle the error in the list\n",
    "\n",
    "l=[12,3,45,56,78,7.5,90,78]\n",
    "try:\n",
    "    l.append(50)\n",
    "    l.extend([70.77,99])\n",
    "    print(l[20])\n",
    "except IndexError as i:\n",
    "    print(i)\n",
    "else:\n",
    "    print(len(l))\n",
    "finally:\n",
    "    print(l)\n",
    "    print(l.count(78))\n",
    "\n"
   ]
  },
  {
   "cell_type": "code",
   "execution_count": 13,
   "id": "82353d02",
   "metadata": {},
   "outputs": [
    {
     "name": "stdout",
     "output_type": "stream",
     "text": [
      "w- used to write content in the file. for 1st time opening the file we can use w but to write again in the same file we should not use (w) instead use append-a\n",
      "use a-append to add new content in the alreary existing file .if we use w it will remove the content that is already existing in the file\n"
     ]
    }
   ],
   "source": [
    "# How to handle the error in file handling\n",
    "\n",
    "try:\n",
    "    with open('D:\\\\python programming\\\\w-text.txt','r') as f:\n",
    "              print(f.read())\n",
    "except IOError as o:\n",
    "    print(o)\n"
   ]
  },
  {
   "cell_type": "code",
   "execution_count": 14,
   "id": "36643a97",
   "metadata": {},
   "outputs": [
    {
     "name": "stdout",
     "output_type": "stream",
     "text": [
      "[Errno 2] No such file or directory: 'D:\\\\python programming\\\\G-text.txt'\n"
     ]
    }
   ],
   "source": [
    "try:\n",
    "    with open('D:\\\\python programming\\\\G-text.txt','r') as f:\n",
    "              print(f.read())\n",
    "except IOError as o:\n",
    "    print(o)\n"
   ]
  },
  {
   "cell_type": "code",
   "execution_count": 15,
   "id": "db594e49",
   "metadata": {},
   "outputs": [
    {
     "name": "stdout",
     "output_type": "stream",
     "text": [
      "Enter the number x:7\n",
      "Factorial of the number x is: 5040\n"
     ]
    }
   ],
   "source": [
    "# How to handle error in math module\n",
    "\n",
    "import math\n",
    "x=int(input('Enter the number x:'))\n",
    "try:\n",
    "    y=math.factorial(x)\n",
    "    print('Factorial of the number x is:',y)\n",
    "except ValueError as arg:\n",
    "    print(arg)\n",
    "except NameError as n:\n",
    "    print(n)"
   ]
  },
  {
   "cell_type": "code",
   "execution_count": 16,
   "id": "910eca90",
   "metadata": {},
   "outputs": [
    {
     "name": "stdout",
     "output_type": "stream",
     "text": [
      "Enter the number x:-7\n",
      "factorial() not defined for negative values\n"
     ]
    }
   ],
   "source": [
    "x=int(input('Enter the number x:'))\n",
    "try:\n",
    "    y=math.factorial(x)\n",
    "    print('Factorial of the number x is:',y)\n",
    "except ValueError as arg:\n",
    "    print(arg)\n",
    "except NameError as n:\n",
    "    print(n)"
   ]
  },
  {
   "cell_type": "code",
   "execution_count": 17,
   "id": "908d5149",
   "metadata": {},
   "outputs": [
    {
     "name": "stdout",
     "output_type": "stream",
     "text": [
      "Enter the number x:7\n",
      "name 'Y' is not defined\n"
     ]
    }
   ],
   "source": [
    "x=int(input('Enter the number x:'))\n",
    "try:\n",
    "    y=math.factorial(x)\n",
    "    print('Factorial of the number x is:',Y)\n",
    "except ValueError as arg:\n",
    "    print(arg)\n",
    "except NameError as n:\n",
    "    print(n)"
   ]
  },
  {
   "cell_type": "code",
   "execution_count": 18,
   "id": "c2eceab2",
   "metadata": {},
   "outputs": [
    {
     "name": "stdout",
     "output_type": "stream",
     "text": [
      "Enter the values:70+5/2\n",
      "72.5\n"
     ]
    }
   ],
   "source": [
    "# eval - Evaluate\n",
    "\n",
    "x=eval(input('Enter the values:'))\n",
    "print(x)"
   ]
  },
  {
   "cell_type": "code",
   "execution_count": 19,
   "id": "6c55e748",
   "metadata": {},
   "outputs": [
    {
     "name": "stdout",
     "output_type": "stream",
     "text": [
      "True\n"
     ]
    }
   ],
   "source": [
    "x=7\n",
    "print(eval('x==7'))"
   ]
  },
  {
   "cell_type": "code",
   "execution_count": 20,
   "id": "c9f2fac9",
   "metadata": {},
   "outputs": [
    {
     "name": "stdout",
     "output_type": "stream",
     "text": [
      "Enter the value:5*8-45+190\n",
      "The value is 185\n"
     ]
    }
   ],
   "source": [
    "# A python program to handle the syntax error given by eval() function\n",
    "\n",
    "try:\n",
    "    e=eval(input('Enter the value:'))\n",
    "except SyntaxError:\n",
    "    print('SyntaxError')\n",
    "else:\n",
    "    print('The value is',e)\n"
   ]
  },
  {
   "cell_type": "code",
   "execution_count": 21,
   "id": "9f9db84e",
   "metadata": {},
   "outputs": [
    {
     "name": "stdout",
     "output_type": "stream",
     "text": [
      "Enter the value:45 90,04.8-45/45\n",
      "SyntaxError\n"
     ]
    }
   ],
   "source": [
    "try:\n",
    "    e=eval(input('Enter the value:'))\n",
    "except SyntaxError:\n",
    "    print('SyntaxError')\n",
    "else:\n",
    "    print('The value is',e)\n",
    "\n"
   ]
  },
  {
   "cell_type": "code",
   "execution_count": 7,
   "id": "b65b8584",
   "metadata": {},
   "outputs": [],
   "source": [
    "# OS module - Operating system\n",
    "\n",
    "import os\n",
    "\n",
    "# mkdir - going to make the directory(Folder)\n",
    "\n",
    "os.mkdir('D:\\\\Empty')\n"
   ]
  },
  {
   "cell_type": "code",
   "execution_count": 8,
   "id": "9e28bb07",
   "metadata": {},
   "outputs": [
    {
     "data": {
      "text/plain": [
       "'C:\\\\Users\\\\ELCOT\\\\Desktop\\\\Python Anaconda'"
      ]
     },
     "execution_count": 8,
     "metadata": {},
     "output_type": "execute_result"
    }
   ],
   "source": [
    "# getcwd - get the name of the current working directory\n",
    "\n",
    "os.getcwd()\n"
   ]
  },
  {
   "cell_type": "code",
   "execution_count": 9,
   "id": "d2a9ffc8",
   "metadata": {},
   "outputs": [],
   "source": [
    "# rmdir - its going to remove the directory\n",
    "\n",
    "os.rmdir('D:\\\\Empty')\n"
   ]
  },
  {
   "cell_type": "code",
   "execution_count": 10,
   "id": "3f8b82a7",
   "metadata": {},
   "outputs": [],
   "source": [
    "os.rename('D:\\\\python programming\\\\sec.txt','D:\\\\python programming\\\\ABC.txt')\n"
   ]
  },
  {
   "cell_type": "code",
   "execution_count": 11,
   "id": "7e4d314e",
   "metadata": {},
   "outputs": [],
   "source": [
    "os.remove('D:\\\\python programming\\\\ABC.txt')\n"
   ]
  },
  {
   "cell_type": "markdown",
   "id": "1556c725",
   "metadata": {},
   "source": [
    "# DAY-23 AUG-12"
   ]
  },
  {
   "cell_type": "code",
   "execution_count": 1,
   "id": "1b4f91ae",
   "metadata": {},
   "outputs": [],
   "source": [
    "#OOPs - class is a key word. class is a collection of object"
   ]
  },
  {
   "cell_type": "code",
   "execution_count": 17,
   "id": "84b8fcbb",
   "metadata": {},
   "outputs": [],
   "source": [
    "# Function in python"
   ]
  },
  {
   "cell_type": "code",
   "execution_count": null,
   "id": "7897019f",
   "metadata": {},
   "outputs": [],
   "source": [
    "def is a key word for function"
   ]
  },
  {
   "cell_type": "code",
   "execution_count": 2,
   "id": "2356d4e0",
   "metadata": {},
   "outputs": [
    {
     "name": "stdout",
     "output_type": "stream",
     "text": [
      "The maximum number is: 90\n"
     ]
    }
   ],
   "source": [
    "# Function Program\n",
    "\n",
    "\n",
    "def find_max(x,y,z):\n",
    "    max_number = max(x,y,z)\n",
    "    return max_number\n",
    "\n",
    "maximum = find_max(56,78,90)\n",
    "print('The maximum number is:',maximum)\n"
   ]
  },
  {
   "cell_type": "code",
   "execution_count": 3,
   "id": "f10746f5",
   "metadata": {},
   "outputs": [
    {
     "name": "stdout",
     "output_type": "stream",
     "text": [
      "67\n"
     ]
    }
   ],
   "source": [
    "# write a python function to find the max of three numbers\n",
    "\n",
    "def max_of_two(a,b):\n",
    "    if a>b:\n",
    "        return a\n",
    "    return b\n",
    "def max_of_three(a,b,c):\n",
    "    return max_of_two(a, max_of_two(b,c))\n",
    "print(max_of_three(23,45,67))\n"
   ]
  },
  {
   "cell_type": "code",
   "execution_count": 4,
   "id": "195ec43e",
   "metadata": {},
   "outputs": [
    {
     "name": "stdout",
     "output_type": "stream",
     "text": [
      "153\n"
     ]
    }
   ],
   "source": [
    "# write a python function to sum all the numbers in a list.\n",
    "\n",
    "def sum(numbers):\n",
    "    total = 0\n",
    "    for x in numbers:\n",
    "        total+= x\n",
    "    return total\n",
    "print(sum((2,5,7,8,9,45,77)))\n",
    "\n"
   ]
  },
  {
   "cell_type": "code",
   "execution_count": 5,
   "id": "0673e0a0",
   "metadata": {},
   "outputs": [
    {
     "name": "stdout",
     "output_type": "stream",
     "text": [
      "original string: Battle Through The Heaven\n",
      "No. of upper case characters :  4\n",
      "No. of lowere case characters :  18\n"
     ]
    }
   ],
   "source": [
    "\n",
    "# write a python function that accepts a string and calculate the number of upper case letters\n",
    "# and lower case letters\n",
    "\n",
    "def string_test(s):\n",
    "    d = {'UPPER_CASE':0, 'LOWER_CASE':0}\n",
    "    for c in s:\n",
    "        if c.isupper():\n",
    "            d['UPPER_CASE']+=1\n",
    "        elif c.islower():\n",
    "            d['LOWER_CASE']+=1\n",
    "        else:\n",
    "            pass\n",
    "    print ('original string:',s)\n",
    "    print('No. of upper case characters : ',d['UPPER_CASE'])\n",
    "    print('No. of lowere case characters : ',d['LOWER_CASE'])\n",
    "    \n",
    "string_test('Battle Through The Heaven')\n"
   ]
  },
  {
   "cell_type": "code",
   "execution_count": 7,
   "id": "a0541ae1",
   "metadata": {},
   "outputs": [
    {
     "name": "stdout",
     "output_type": "stream",
     "text": [
      "5040\n"
     ]
    }
   ],
   "source": [
    "# write a python function to calculate the factorial of a number\n",
    "\n",
    "def factorial(n):\n",
    "    result = 1\n",
    "    for i in range(1, n+1):\n",
    "        result *=i\n",
    "    return result\n",
    "print(factorial(7))\n",
    "\n"
   ]
  },
  {
   "cell_type": "code",
   "execution_count": 8,
   "id": "edbb800f",
   "metadata": {},
   "outputs": [
    {
     "name": "stdout",
     "output_type": "stream",
     "text": [
      "True\n"
     ]
    }
   ],
   "source": [
    "# write a python function to check whether a given number is prime.\n",
    "\n",
    "\n",
    "def is_prime(n):\n",
    "    if n<2:\n",
    "        return False\n",
    "    for i in range(2, int(n**0.5) + 1):\n",
    "        if n%i ==0:\n",
    "            return False\n",
    "    return True\n",
    "print(is_prime(11))\n"
   ]
  },
  {
   "cell_type": "code",
   "execution_count": 9,
   "id": "4b29f5c1",
   "metadata": {},
   "outputs": [
    {
     "name": "stdout",
     "output_type": "stream",
     "text": [
      "nahCnihS\n"
     ]
    }
   ],
   "source": [
    "# write a python fumction function to reverse a string\n",
    "\n",
    "def reverse_string(s):\n",
    "    return s[::-1]\n",
    "print(reverse_string('ShinChan'))\n",
    "\n"
   ]
  },
  {
   "cell_type": "code",
   "execution_count": 10,
   "id": "824ff8de",
   "metadata": {},
   "outputs": [
    {
     "name": "stdout",
     "output_type": "stream",
     "text": [
      "270\n"
     ]
    }
   ],
   "source": [
    "# write a python function to find the sum of all elementys in a list\n",
    "\n",
    "def sum_list(l):\n",
    "    total = 0\n",
    "    for num in l:\n",
    "        total += num\n",
    "    return total\n",
    "print (sum_list([12,34,56,78,90]))\n",
    "\n"
   ]
  },
  {
   "cell_type": "code",
   "execution_count": 11,
   "id": "a765fa6a",
   "metadata": {},
   "outputs": [
    {
     "name": "stdout",
     "output_type": "stream",
     "text": [
      "5\n"
     ]
    }
   ],
   "source": [
    "# write a python function to count the number of vowels in a string\n",
    "\n",
    "def count_vowels(s):\n",
    "    vowels = 'aeiouAEIOU'\n",
    "    count = 0\n",
    "    for char in s:\n",
    "        if char in vowels:\n",
    "            count += 1\n",
    "    return count\n",
    "print (count_vowels('Enter Backspace'))\n"
   ]
  },
  {
   "cell_type": "code",
   "execution_count": 12,
   "id": "81c4584d",
   "metadata": {},
   "outputs": [
    {
     "name": "stdout",
     "output_type": "stream",
     "text": [
      "250\n"
     ]
    }
   ],
   "source": [
    "# write a python function to sum all even number in a list\n",
    "\n",
    "def sum_even_numbers(list):\n",
    "    even_sum= 0\n",
    "    for num in list:\n",
    "        if num%2==0:\n",
    "            even_sum += num\n",
    "    return even_sum\n",
    "print(sum_even_numbers([12,23,34,45,56,67,45,33,44,24,80]))\n",
    "\n"
   ]
  },
  {
   "cell_type": "code",
   "execution_count": 13,
   "id": "8bf76535",
   "metadata": {},
   "outputs": [
    {
     "name": "stdout",
     "output_type": "stream",
     "text": [
      "ppl s gd fr Hlth\n"
     ]
    }
   ],
   "source": [
    "# write a function to remove vowels from the string\n",
    "\n",
    "def remove_vowels(string):\n",
    "    vowels = 'aeiouAEIOU'\n",
    "    new_string = ''\n",
    "    for char in string:\n",
    "        if char.lower() not in vowels:\n",
    "            new_string += char\n",
    "    return new_string\n",
    "print(remove_vowels('Apple is good for Health'))\n",
    "\n"
   ]
  },
  {
   "cell_type": "code",
   "execution_count": 14,
   "id": "ce85bf04",
   "metadata": {},
   "outputs": [
    {
     "name": "stdout",
     "output_type": "stream",
     "text": [
      "['Butter', 'Dynamite']\n"
     ]
    }
   ],
   "source": [
    "# filter long list\n",
    "\n",
    "def filter_long_string(s):\n",
    "    long_string = []\n",
    "    for string in s:\n",
    "        if len(string)>4:\n",
    "            long_string.append(string)\n",
    "    return long_string\n",
    "print(filter_long_string(['bun','jam','Butter','Dynamite']))\n",
    "\n"
   ]
  },
  {
   "cell_type": "code",
   "execution_count": 16,
   "id": "5cba28e1",
   "metadata": {},
   "outputs": [
    {
     "name": "stdout",
     "output_type": "stream",
     "text": [
      "55\n"
     ]
    }
   ],
   "source": [
    "# pic out the 2nd largest number\n",
    "\n",
    "def second_largest(l):\n",
    "    largest = None\n",
    "    second_largest = None\n",
    "    for num in l:\n",
    "        if largest is None or num > largest:\n",
    "            second_largest = largest\n",
    "            largest = num\n",
    "        elif second_largest is None or num>second_largest:\n",
    "            second_largest = num\n",
    "    return second_largest\n",
    "print (second_largest([12,45,55,77]))\n",
    "\n"
   ]
  },
  {
   "cell_type": "markdown",
   "id": "6019b22b",
   "metadata": {},
   "source": [
    "# DAY-24 AUG-13"
   ]
  },
  {
   "cell_type": "code",
   "execution_count": 1,
   "id": "fcb3c17b",
   "metadata": {},
   "outputs": [
    {
     "name": "stdout",
     "output_type": "stream",
     "text": [
      "I want Chudi in  Black colour with size  XL\n",
      "{'dressname': 'Chudi', 'dresscolour': 'Black', 'dresssize': 'XL'}\n"
     ]
    }
   ],
   "source": [
    "# Create Empty class\n",
    "\n",
    "class dress:\n",
    "    pass\n",
    "\n",
    "# d - object for class name dress\n",
    "d=dress() \n",
    "d.dressname = 'Chudi'\n",
    "d.dresscolour = 'Black'\n",
    "d.dresssize = 'XL'\n",
    "\n",
    "print('I want', d.dressname,'in ', d.dresscolour,'colour with size ',d.dresssize)\n",
    "\n",
    "print(d.__dict__)\n",
    "\n"
   ]
  },
  {
   "cell_type": "code",
   "execution_count": 2,
   "id": "b033e0b9",
   "metadata": {},
   "outputs": [
    {
     "name": "stdout",
     "output_type": "stream",
     "text": [
      "I got a Samsung Galaxy phone model S21 in a Black colour\n"
     ]
    }
   ],
   "source": [
    "# how to declare variable inside the class\n",
    "\n",
    "class phone:\n",
    "    phonename = 'Samsung Galaxy'\n",
    "    model = 'S21'\n",
    "    colour = 'Black'\n",
    "ph = phone()\n",
    "print(f'I got a {ph.phonename} phone model {ph.model} in a {ph.colour} colour')\n",
    "\n"
   ]
  },
  {
   "cell_type": "code",
   "execution_count": 3,
   "id": "05afeaeb",
   "metadata": {},
   "outputs": [
    {
     "name": "stdout",
     "output_type": "stream",
     "text": [
      "My fav k-pop group is BTS.And their fandom name is ARMY\n"
     ]
    }
   ],
   "source": [
    "# Method declaration\n",
    "\n",
    "class fan:\n",
    "    def __init__(self,group,fan):\n",
    "        self.g=group\n",
    "        self.f=fan\n",
    "    def display (self):\n",
    "        print(f'My fav k-pop group is {self.g}.And their fandom name is {self.f}')\n",
    "f = fan('BTS','ARMY')\n",
    "f.display()\n"
   ]
  },
  {
   "cell_type": "code",
   "execution_count": 4,
   "id": "aabef9b2",
   "metadata": {},
   "outputs": [
    {
     "name": "stdout",
     "output_type": "stream",
     "text": [
      "My dog name is Bam\n",
      "My dog name is Tan\n"
     ]
    }
   ],
   "source": [
    "# Creating class and objects with methods\n",
    "\n",
    "class dog:\n",
    "    attr1 = 'Mammal'\n",
    "    def __init__(self,name):\n",
    "        self.n = name\n",
    "    def speak(self):\n",
    "        print('My dog name is {}'.format(self.n))\n",
    "Bam = dog('Bam')\n",
    "Tan = dog('Tan')\n",
    "Bam.speak()\n",
    "Tan.speak()\n"
   ]
  },
  {
   "cell_type": "markdown",
   "id": "9b91faeb",
   "metadata": {},
   "source": [
    "# DAY-25 AUG-19"
   ]
  },
  {
   "cell_type": "code",
   "execution_count": 2,
   "id": "a7e3190f",
   "metadata": {},
   "outputs": [
    {
     "name": "stdout",
     "output_type": "stream",
     "text": [
      "Enter the number x:5\n",
      "Enter the number y:7\n",
      "sum of 5 and 7 is 12\n"
     ]
    }
   ],
   "source": [
    "# sum of two no:\n",
    "\n",
    "class add:\n",
    "    #Method Declaration\n",
    "    def __init__(self,x,y):\n",
    "        self.x=x\n",
    "        self.y=y\n",
    "    def display (self):\n",
    "        print(f'sum of {self.x} and {self.y} is {self.x+self.y}')\n",
    "x=int(input('Enter the number x:'))\n",
    "y=int(input('Enter the number y:'))\n",
    "ad=add(x,y)\n",
    "ad.display()\n"
   ]
  },
  {
   "cell_type": "code",
   "execution_count": null,
   "id": "230f5935",
   "metadata": {},
   "outputs": [],
   "source": [
    "# class div:\n",
    "    #Method Declaration\n",
    "    def __init__(self,x,y):\n",
    "        self.x=x\n",
    "        self.y=y\n",
    "    def display (self):\n",
    "        print(f'sum of {self.x} and {self.y} is {self.x /self.y}')\n",
    "x=int(input('Enter the number x:'))\n",
    "y=int(input('Enter the number y:'))\n",
    "ad=div(x,y)\n",
    "ad.display()\n"
   ]
  },
  {
   "cell_type": "markdown",
   "id": "40716faa",
   "metadata": {},
   "source": [
    "# INHERITANCE"
   ]
  },
  {
   "cell_type": "markdown",
   "id": "0816813f",
   "metadata": {},
   "source": [
    "# Single Inheritance"
   ]
  },
  {
   "cell_type": "code",
   "execution_count": 3,
   "id": "0bf7219b",
   "metadata": {},
   "outputs": [
    {
     "name": "stdout",
     "output_type": "stream",
     "text": [
      "My name is Lavanya Sree My Father name is Rajan, and Mother name is Vijey Lakshmi\n"
     ]
    }
   ],
   "source": [
    "class parent:\n",
    "    def __init__(self,Fname,Mname):\n",
    "        self.F = Fname\n",
    "        self.M = Mname\n",
    "    def show (self):\n",
    "        print(f'My Father name is {self.F}, and my Mother name is {self.M}')\n",
    "\n",
    "class child(parent):\n",
    "    def __init__(self,Fname,Mname,Dname):\n",
    "        self.F = Fname\n",
    "        self.M = Mname\n",
    "        self.D = Dname\n",
    "    def display(self):\n",
    "        print(f'My name is {self.D} My Father name is {self.F}, and Mother name is {self.M}')\n",
    "ch=child('Rajan','Vijey Lakshmi','Lavanya Sree')\n",
    "ch.display()"
   ]
  },
  {
   "cell_type": "markdown",
   "id": "1b49fe15",
   "metadata": {},
   "source": [
    "# Multiple Inheritance"
   ]
  },
  {
   "cell_type": "code",
   "execution_count": 4,
   "id": "94f8bb6a",
   "metadata": {},
   "outputs": [
    {
     "name": "stdout",
     "output_type": "stream",
     "text": [
      "This is parent class 1\n",
      "This is parent class 2\n",
      "This is child class inherited from parent1 and parent2\n"
     ]
    }
   ],
   "source": [
    "class parent1:\n",
    "    def method1(self):\n",
    "        print ('This is parent class 1')\n",
    "class parent2:\n",
    "    def method2(self):\n",
    "        print('This is parent class 2')\n",
    "class child (parent1,parent2):\n",
    "    def method3(self):\n",
    "        print ('This is child class inherited from parent1 and parent2')\n",
    "\n",
    "ch = child()\n",
    "ch.method1()\n",
    "ch.method2()\n",
    "ch.method3()"
   ]
  },
  {
   "cell_type": "markdown",
   "id": "3faebf49",
   "metadata": {},
   "source": [
    "# DAY - 26 AUG-26"
   ]
  },
  {
   "cell_type": "markdown",
   "id": "a3cc06dc",
   "metadata": {},
   "source": [
    "# MULTIPLE INHERITANCE"
   ]
  },
  {
   "cell_type": "code",
   "execution_count": 1,
   "id": "9f2b94b4",
   "metadata": {},
   "outputs": [
    {
     "name": "stdout",
     "output_type": "stream",
     "text": [
      "My Grand Father name is Shiva, My Father name is Krishna, And My name is Vinayak\n"
     ]
    }
   ],
   "source": [
    "class parent():\n",
    "    def __init__(self,gname):\n",
    "        self.gn=gname\n",
    "class child1(parent):\n",
    "    def __init__(self,fname):\n",
    "        self.fn=fname\n",
    "\n",
    "class child2 (child1):\n",
    "    def __init__(self,sname,fname,gname):\n",
    "        self.gn=gname\n",
    "        self.fn=fname\n",
    "        self.sn=sname\n",
    "    def display (self):\n",
    "        print (f'My Grand Father name is {self.gn}, My Father name is {self.fn}, And My name is {self.sn}')\n",
    "ch=child2('Vinayak','Krishna','Shiva')\n",
    "ch.display()"
   ]
  },
  {
   "cell_type": "code",
   "execution_count": 2,
   "id": "6db06b87",
   "metadata": {},
   "outputs": [
    {
     "name": "stdout",
     "output_type": "stream",
     "text": [
      "This function is in parent class.\n",
      "This function is in child class 1.\n",
      "This function is in parent class.\n",
      "This function is in child class 2.\n"
     ]
    }
   ],
   "source": [
    "class parent:\n",
    "    def func1(self):\n",
    "        print('This function is in parent class.')\n",
    "\n",
    "class child1 (parent):\n",
    "    def func2(self):\n",
    "        print('This function is in child class 1.')\n",
    "\n",
    "class child2 (parent):\n",
    "    def func3(self):\n",
    "        print('This function is in child class 2.')\n",
    "\n",
    "\n",
    "ch1=child1()\n",
    "ch2=child2()\n",
    "ch1.func1()\n",
    "ch1.func2()\n",
    "ch2.func1()\n",
    "ch2.func3()"
   ]
  },
  {
   "cell_type": "code",
   "execution_count": 3,
   "id": "7729ce5f",
   "metadata": {},
   "outputs": [
    {
     "name": "stdout",
     "output_type": "stream",
     "text": [
      "This function is in parent class.\n",
      "This function is in child class 1.\n",
      "This function is in parent class.\n",
      "This function is in child class 2.\n",
      "This function is in child class 1.\n"
     ]
    }
   ],
   "source": [
    "class parent:\n",
    "    def func1(self):\n",
    "        print('This function is in parent class.')\n",
    "\n",
    "class child1 (parent):\n",
    "    def func2(self):\n",
    "        print('This function is in child class 1.')\n",
    "\n",
    "class child2 (child1):\n",
    "    def func3(self):\n",
    "        print('This function is in child class 2.')\n",
    "\n",
    "\n",
    "ch1=child1()\n",
    "ch2=child2()\n",
    "ch1.func1()\n",
    "ch1.func2()\n",
    "ch2.func1()\n",
    "ch2.func3()\n",
    "ch2.func2()"
   ]
  },
  {
   "cell_type": "markdown",
   "id": "1ff8f1cc",
   "metadata": {},
   "source": [
    "# HIERARCHIAL INHERITANCE"
   ]
  },
  {
   "cell_type": "code",
   "execution_count": 4,
   "id": "2bfaa5fe",
   "metadata": {},
   "outputs": [
    {
     "name": "stdout",
     "output_type": "stream",
     "text": [
      "Lavanya Sree\n",
      "520000\n",
      "My name is Lavanya Sree, 20 years old, My salary is 50000\n",
      "My name is Anusuya, 23 years old, My salary is 520000\n"
     ]
    }
   ],
   "source": [
    "class worker():\n",
    "    def __init__ (self,name,age,salary):\n",
    "        self.name = name\n",
    "        self.age = age\n",
    "        self.salary = salary\n",
    "\n",
    "\n",
    "class worker1(worker):\n",
    "    def  __init__ (self,name,age,salary):\n",
    "        self.name = name\n",
    "        self.age = age\n",
    "        self.salary = salary\n",
    "\n",
    "\n",
    "class worker2(worker1):\n",
    "    def  __init__ (self,name,age,salary):\n",
    "        self.name = name\n",
    "        self.age = age\n",
    "        self.salary = salary\n",
    "w1 = worker('Lavanya Sree',20,50000)\n",
    "w2 = worker ('Anusuya',23,520000)\n",
    "\n",
    "print(w1.name)\n",
    "print(w2.salary)\n",
    "\n",
    "print(f'My name is {w1.name}, {w1.age} years old, My salary is {w1.salary}')\n",
    "\n",
    "print(f'My name is {w2.name}, {w2.age} years old, My salary is {w2.salary}')"
   ]
  },
  {
   "cell_type": "markdown",
   "id": "0e2c10c0",
   "metadata": {},
   "source": [
    "# HYBRID INHERITANCE"
   ]
  },
  {
   "cell_type": "code",
   "execution_count": 5,
   "id": "2f461a10",
   "metadata": {},
   "outputs": [
    {
     "name": "stdout",
     "output_type": "stream",
     "text": [
      "Enter the number a:70\n",
      "Enter the number b:7\n",
      "Addition of a & b is 77\n",
      "Subtraction of a & b is 63\n",
      "Multiplication of a & b is 490\n",
      "division of a & b is 10.0\n"
     ]
    }
   ],
   "source": [
    "class Arith:\n",
    "    def __init__ (self,a,b):\n",
    "        self.a = a\n",
    "        self.b = b\n",
    "class cal1 (Arith):\n",
    "    def add (self):\n",
    "        return self.a+self.b\n",
    "class cal2 (cal1):\n",
    "    def sub (self):\n",
    "        return self.a-self.b\n",
    "class cal3 (cal2):\n",
    "    def mul (self):\n",
    "        return self.a*self.b\n",
    "class cal4 (cal3):\n",
    "    def div (self):\n",
    "        return self.a/self.b\n",
    "a=int(input('Enter the number a:'))\n",
    "b=int(input('Enter the number b:'))\n",
    "cal=cal4(a,b)\n",
    "\n",
    "print(f'Addition of a & b is {cal.add()}')\n",
    "print(f'Subtraction of a & b is {cal.sub()}')\n",
    "print(f'Multiplication of a & b is {cal.mul()}')\n",
    "print(f'division of a & b is {cal.div()}')"
   ]
  },
  {
   "cell_type": "code",
   "execution_count": 6,
   "id": "c4748563",
   "metadata": {},
   "outputs": [
    {
     "name": "stdout",
     "output_type": "stream",
     "text": [
      "This function is in school.\n",
      "This function is mainly for student2.\n",
      "This function is mainly for student1.\n",
      "This function is mainly for student3.\n"
     ]
    }
   ],
   "source": [
    "class school:\n",
    "    def func1(self):\n",
    "        print('This function is in school.')\n",
    "class student1(school):\n",
    "    def func2(self):\n",
    "        print('This function is mainly for student1.')\n",
    "class student2(student1):\n",
    "    def func3(self):\n",
    "        print('This function is mainly for student2.')\n",
    "class student3(student2):\n",
    "    def func4(self):\n",
    "        print('This function is mainly for student3.')\n",
    "\n",
    "\n",
    "st=student3()\n",
    "st.func1()\n",
    "st.func3()\n",
    "st.func2()\n",
    "st.func4()"
   ]
  },
  {
   "cell_type": "markdown",
   "id": "4b2dcd6e",
   "metadata": {},
   "source": [
    "# DAY-27 AUG-27"
   ]
  },
  {
   "cell_type": "markdown",
   "id": "bce3afce",
   "metadata": {},
   "source": [
    "# POLYMORPHISM"
   ]
  },
  {
   "cell_type": "code",
   "execution_count": 1,
   "id": "0d42a978",
   "metadata": {},
   "outputs": [
    {
     "name": "stdout",
     "output_type": "stream",
     "text": [
      "New Delhi is the capital city of India\n",
      "Hindi is the National Language of India\n",
      "India is The Developing Country\n",
      "Washington is the Capital city of USA\n",
      "English is the commonly used Language\n",
      "USA is Developed Country\n"
     ]
    }
   ],
   "source": [
    "class India:\n",
    "    def Capital(self):\n",
    "        print('New Delhi is the capital city of India')\n",
    "    def Language(self):\n",
    "        print('Hindi is the National Language of India')\n",
    "    def Type(self):\n",
    "        print('India is The Developing Country')\n",
    "class USA:\n",
    "    def Capital(self):\n",
    "        print('Washington is the Capital city of USA')\n",
    "    def Language(self):\n",
    "        print('English is the commonly used Language')\n",
    "    def Type(self):\n",
    "        print('USA is Developed Country')\n",
    "Ind = India()\n",
    "USA =USA()\n",
    "for country in (Ind,USA):\n",
    "    country.Capital()\n",
    "    country.Language()\n",
    "    country.Type()"
   ]
  },
  {
   "cell_type": "markdown",
   "id": "a8582732",
   "metadata": {},
   "source": [
    "# ENCAPSULATION(HIDE THE INFO - INTERNAL FUNCNALITY)"
   ]
  },
  {
   "cell_type": "code",
   "execution_count": 2,
   "id": "cf2daa28",
   "metadata": {},
   "outputs": [
    {
     "name": "stdout",
     "output_type": "stream",
     "text": [
      "My name is Lavanya Sree am getting salary of 70000, and My Account no is 1234567891007\n"
     ]
    }
   ],
   "source": [
    "class Bank:\n",
    "    def __init__(self,name,Accno,salary):\n",
    "        self.n = name\n",
    "        self.acc = Accno\n",
    "        self.salary = salary\n",
    "    def display(self):\n",
    "        print(f'My name is {self.n} am getting salary of {self.salary}, and My Account no is {self.acc}')\n",
    "B = Bank('Lavanya Sree',1234567891007,70000)\n",
    "B.display()"
   ]
  },
  {
   "cell_type": "code",
   "execution_count": 3,
   "id": "b0df4a4b",
   "metadata": {},
   "outputs": [
    {
     "name": "stdout",
     "output_type": "stream",
     "text": [
      "My name is Lavanya Sree am getting salary of 70000\n"
     ]
    },
    {
     "ename": "AttributeError",
     "evalue": "'Bank' object has no attribute 'acc'",
     "output_type": "error",
     "traceback": [
      "\u001b[1;31m---------------------------------------------------------------------------\u001b[0m",
      "\u001b[1;31mAttributeError\u001b[0m                            Traceback (most recent call last)",
      "Cell \u001b[1;32mIn[3], line 12\u001b[0m\n\u001b[0;32m     10\u001b[0m         \u001b[38;5;28mprint\u001b[39m(\u001b[38;5;124mf\u001b[39m\u001b[38;5;124m'\u001b[39m\u001b[38;5;124mMy Account no is \u001b[39m\u001b[38;5;132;01m{\u001b[39;00m\u001b[38;5;28mself\u001b[39m\u001b[38;5;241m.\u001b[39macc\u001b[38;5;132;01m}\u001b[39;00m\u001b[38;5;124m'\u001b[39m)\n\u001b[0;32m     11\u001b[0m B \u001b[38;5;241m=\u001b[39m Bank(\u001b[38;5;124m'\u001b[39m\u001b[38;5;124mLavanya Sree\u001b[39m\u001b[38;5;124m'\u001b[39m,\u001b[38;5;241m1234567891007\u001b[39m,\u001b[38;5;241m70000\u001b[39m)\n\u001b[1;32m---> 12\u001b[0m B\u001b[38;5;241m.\u001b[39mdisplay()\n",
      "Cell \u001b[1;32mIn[3], line 10\u001b[0m, in \u001b[0;36mBank.display\u001b[1;34m(self)\u001b[0m\n\u001b[0;32m      8\u001b[0m \u001b[38;5;28;01mdef\u001b[39;00m \u001b[38;5;21mdisplay\u001b[39m(\u001b[38;5;28mself\u001b[39m):\n\u001b[0;32m      9\u001b[0m     \u001b[38;5;28mprint\u001b[39m(\u001b[38;5;124mf\u001b[39m\u001b[38;5;124m'\u001b[39m\u001b[38;5;124mMy name is \u001b[39m\u001b[38;5;132;01m{\u001b[39;00m\u001b[38;5;28mself\u001b[39m\u001b[38;5;241m.\u001b[39mn\u001b[38;5;132;01m}\u001b[39;00m\u001b[38;5;124m am getting salary of \u001b[39m\u001b[38;5;132;01m{\u001b[39;00m\u001b[38;5;28mself\u001b[39m\u001b[38;5;241m.\u001b[39msalary\u001b[38;5;132;01m}\u001b[39;00m\u001b[38;5;124m'\u001b[39m)\n\u001b[1;32m---> 10\u001b[0m     \u001b[38;5;28mprint\u001b[39m(\u001b[38;5;124mf\u001b[39m\u001b[38;5;124m'\u001b[39m\u001b[38;5;124mMy Account no is \u001b[39m\u001b[38;5;132;01m{\u001b[39;00m\u001b[38;5;28mself\u001b[39m\u001b[38;5;241m.\u001b[39macc\u001b[38;5;132;01m}\u001b[39;00m\u001b[38;5;124m'\u001b[39m)\n",
      "\u001b[1;31mAttributeError\u001b[0m: 'Bank' object has no attribute 'acc'"
     ]
    }
   ],
   "source": [
    "# HIDE .__\n",
    "\n",
    "class Bank:\n",
    "    def __init__(self,name,Accno,salary):\n",
    "        self.n = name\n",
    "        self.__acc = Accno # HIDE INFO NY .__\n",
    "        self.salary = salary\n",
    "    def display(self):\n",
    "        print(f'My name is {self.n} am getting salary of {self.salary}')\n",
    "        print(f'My Account no is {self.acc}')\n",
    "B = Bank('Lavanya Sree',1234567891007,70000)\n",
    "B.display()\n"
   ]
  },
  {
   "cell_type": "markdown",
   "id": "a4eac773",
   "metadata": {},
   "source": [
    "#  ABSTRACTION - ABC - Abstract Bsae Class"
   ]
  },
  {
   "cell_type": "code",
   "execution_count": 3,
   "id": "d3dc1727",
   "metadata": {},
   "outputs": [
    {
     "name": "stdout",
     "output_type": "stream",
     "text": [
      "Hyundai gives the mileage of 27 kmpl\n",
      "BMW gives the mileage of 25 kmpl\n"
     ]
    }
   ],
   "source": [
    "from abc import ABC, abstractmethod\n",
    "class car (ABC):\n",
    "    def mileage(self):\n",
    "        pass\n",
    "class Hyundai(car):\n",
    "    def mileage(self):\n",
    "        print('Hyundai gives the mileage of 27 kmpl')\n",
    "class BMW(car):\n",
    "    def mileage(self):\n",
    "        print('BMW gives the mileage of 25 kmpl')\n",
    "H = Hyundai()\n",
    "H.mileage()\n",
    "\n",
    "B = BMW()\n",
    "B.mileage()"
   ]
  },
  {
   "cell_type": "code",
   "execution_count": null,
   "id": "08b79af0",
   "metadata": {},
   "outputs": [
    {
     "data": {
      "text/plain": [
       "True"
      ]
     },
     "execution_count": 5,
     "metadata": {},
     "output_type": "execute_result"
    }
   ],
   "source": [
    "# SUBCLASS\n",
    "\n",
    "class parent:\n",
    "    def mother(self):\n",
    "        print('My Mother name is: Vijey Lakshmi')\n",
    "class child(parent):\n",
    "    def son (self):\n",
    "        print('Son name is : Danoj Kumar')\n",
    "issubclass(child,parent)\n",
    "\n"
   ]
  },
  {
   "cell_type": "code",
   "execution_count": null,
   "id": "50b98c3f",
   "metadata": {},
   "outputs": [
    {
     "data": {
      "text/plain": [
       "False"
      ]
     },
     "execution_count": 6,
     "metadata": {},
     "output_type": "execute_result"
    }
   ],
   "source": [
    "class parent:\n",
    "    def mother(self):\n",
    "        print('My Mother name is: Vijey Lakshmi')\n",
    "class child():\n",
    "    def son (self):\n",
    "        print('Son name is : Danoj Kumar')\n",
    "issubclass(child,parent)\n",
    "\n"
   ]
  },
  {
   "cell_type": "markdown",
   "id": "deec5730",
   "metadata": {},
   "source": [
    "# DAY - 28 SEP - 2"
   ]
  },
  {
   "cell_type": "code",
   "execution_count": null,
   "id": "dc7354ce",
   "metadata": {},
   "outputs": [
    {
     "name": "stdout",
     "output_type": "stream",
     "text": [
      "The object value is: 5\n",
      "The count of object created is: 1\n",
      "The object value is: 7\n",
      "The count of object created is: 2\n",
      "The object value is: 77\n",
      "The count of object created is: 3\n"
     ]
    }
   ],
   "source": [
    "# program to illustrate class variable to keep count of number of object created\n",
    "\n",
    "class sample:\n",
    "    num = 0 # initialize the value as 0\n",
    "    def __init__(self,vrbls):\n",
    "        sample.num +=1\n",
    "        self.vrbls = vrbls\n",
    "        print('The object value is:',self.vrbls)\n",
    "        print('The count of object created is:',self.num)\n",
    "v1 = sample(5)\n",
    "v2 = sample(7)\n",
    "v3 = sample(77)"
   ]
  },
  {
   "cell_type": "code",
   "execution_count": null,
   "id": "ada99b51",
   "metadata": {},
   "outputs": [
    {
     "name": "stdout",
     "output_type": "stream",
     "text": [
      "Inside Constructor\n",
      "Object Initialized\n",
      "I want Vennila falvour icecream\n",
      "Inside Destructor\n",
      "Object Destroyed\n",
      "Inside Constructor\n",
      "Object Initialized\n",
      "I want Chocolate falvour icecream\n"
     ]
    },
    {
     "ename": "NameError",
     "evalue": "name 'f1' is not defined",
     "output_type": "error",
     "traceback": [
      "\u001b[1;31m---------------------------------------------------------------------------\u001b[0m",
      "\u001b[1;31mNameError\u001b[0m                                 Traceback (most recent call last)",
      "Cell \u001b[1;32mIn[2], line 27\u001b[0m\n\u001b[0;32m     25\u001b[0m f2 \u001b[38;5;241m=\u001b[39m icecream(\u001b[38;5;124m'\u001b[39m\u001b[38;5;124mChocolate falvour\u001b[39m\u001b[38;5;124m'\u001b[39m)\n\u001b[0;32m     26\u001b[0m f2\u001b[38;5;241m.\u001b[39mshow()\n\u001b[1;32m---> 27\u001b[0m f1\u001b[38;5;241m.\u001b[39mshow()\n",
      "\u001b[1;31mNameError\u001b[0m: name 'f1' is not defined"
     ]
    }
   ],
   "source": [
    "# CONSTRUCTOR & DESTRUCTOR IN OOPS\n",
    "\n",
    "\n",
    "class icecream:\n",
    "\n",
    "    # CONSTRUCTOR\n",
    "    def __init__(self,flavour):\n",
    "        print('Inside Constructor')\n",
    "        self.flavour = flavour\n",
    "        print('Object Initialized')\n",
    "    def show(self):\n",
    "        print(f'I want {self.flavour} icecream')\n",
    "\n",
    "\n",
    "\n",
    "    # DESTRUCTOR   \n",
    "    def __del__(self):\n",
    "        print('Inside Destructor')\n",
    "        print('Object Destroyed')\n",
    "# create object\n",
    "f1 = icecream('Vennila falvour')\n",
    "f1.show()\n",
    "# destroy object\n",
    "del f1\n",
    "f2 = icecream('Chocolate falvour')\n",
    "f2.show()\n",
    "f1.show()\n"
   ]
  },
  {
   "cell_type": "code",
   "execution_count": null,
   "id": "3e99941e",
   "metadata": {},
   "outputs": [
    {
     "name": "stdout",
     "output_type": "stream",
     "text": [
      "Enter the number a:23\n",
      "Enter the number y:34\n",
      "57\n"
     ]
    },
    {
     "ename": "TypeError",
     "evalue": "unsupported operand type(s) for +: 'calculation' and 'calculation'",
     "output_type": "error",
     "traceback": [
      "\u001b[1;31m---------------------------------------------------------------------------\u001b[0m",
      "\u001b[1;31mTypeError\u001b[0m                                 Traceback (most recent call last)",
      "Cell \u001b[1;32mIn[3], line 11\u001b[0m\n\u001b[0;32m      9\u001b[0m cal\u001b[38;5;241m=\u001b[39mcalculation(a,b)\n\u001b[0;32m     10\u001b[0m \u001b[38;5;28mprint\u001b[39m(cal\u001b[38;5;241m.\u001b[39madd())\n\u001b[1;32m---> 11\u001b[0m \u001b[38;5;28mprint\u001b[39m(cal\u001b[38;5;241m+\u001b[39mcal)\n",
      "\u001b[1;31mTypeError\u001b[0m: unsupported operand type(s) for +: 'calculation' and 'calculation'"
     ]
    }
   ],
   "source": [
    "class calculation:\n",
    "    def __init__(self,a,b):\n",
    "        self.a = a\n",
    "        self.b = b\n",
    "    def add(self):\n",
    "        return self.a+self.b\n",
    "a=int(input('Enter the number a:'))\n",
    "b=int(input('Enter the number y:'))\n",
    "cal=calculation(a,b)\n",
    "print(cal.add())\n",
    "print(cal+cal)\n",
    "\n"
   ]
  },
  {
   "cell_type": "code",
   "execution_count": null,
   "id": "3d54a591",
   "metadata": {},
   "outputs": [
    {
     "name": "stdout",
     "output_type": "stream",
     "text": [
      "Rnter the number x:70\n",
      "Enter the number y:5\n",
      "The Addition of x and y is: 75\n",
      "The Multiplication of x and y is: 350\n",
      "The division of x and y is: 14.0\n",
      "The Modulus of x and y is: 0\n"
     ]
    }
   ],
   "source": [
    "# OPERATOR OVERLOADING\n",
    "\n",
    "class calculation:\n",
    "    def __init__(self,x,y):\n",
    "        self.x=x\n",
    "        self.y=y\n",
    "    def __add__(self,other):\n",
    "        return self.x+other.y\n",
    "x=int(input('Rnter the number x:'))\n",
    "y=int(input('Enter the number y:'))\n",
    "cal=calculation(x,y)\n",
    "print('The Addition of x and y is:',cal+cal)\n",
    "print('The Multiplication of x and y is:',cal.x*cal.y)\n",
    "print('The division of x and y is:',cal.x/cal.y)\n",
    "print('The Modulus of x and y is:',cal.x%cal.y)\n",
    "\n"
   ]
  },
  {
   "cell_type": "code",
   "execution_count": null,
   "id": "e5fef25a",
   "metadata": {},
   "outputs": [
    {
     "name": "stdout",
     "output_type": "stream",
     "text": [
      "The BMW k7 is starting.\n",
      "The BMW k7 is stopping.\n",
      "The Hyundai Jk26 is starting.\n",
      "The Hyundai Jk26 is stopping.\n",
      "The battery capacity of Hyundai Jk26 is 100.\n"
     ]
    }
   ],
   "source": [
    "class car:\n",
    "    def __init__(self,make,model):\n",
    "        self.make= make\n",
    "        self.model= model\n",
    "    def start(self):\n",
    "        print(f'The {self.make} {self.model} is starting.')\n",
    "    def stop(self):\n",
    "        print(f'The {self.make} {self.model} is stopping.')\n",
    "\n",
    "\n",
    "class ElectricCar(car):\n",
    "    def __init__(self,make,model,battery_capacity):\n",
    "        super().__init__(make, model)\n",
    "        self.battery_capacity = battery_capacity\n",
    "    def start(self):\n",
    "        print(f'The {self.make} {self.model} is starting.')\n",
    "    def display_battery_capacity(self):\n",
    "        print(f'The battery capacity of {self.make} {self.model} is {self.battery_capacity}.')\n",
    "my_car = car('BMW','k7')\n",
    "my_car.start()\n",
    "my_car.stop()\n",
    "\n",
    "my_electric_car = ElectricCar('Hyundai','Jk26',100)\n",
    "my_electric_car.start()\n",
    "my_electric_car.stop()\n",
    "my_electric_car.display_battery_capacity()\n",
    "\n",
    "\n"
   ]
  },
  {
   "cell_type": "code",
   "execution_count": null,
   "id": "bcb34c0f",
   "metadata": {},
   "outputs": [
    {
     "name": "stdout",
     "output_type": "stream",
     "text": [
      "5000 deposited in your account. New balance: 155000\n",
      "500 withdraw from your account. New balance: 154500\n",
      "Your current balance is: 154500\n"
     ]
    }
   ],
   "source": [
    "class BankAccount:\n",
    "    def __init__(self,name,balance):\n",
    "        self.name = name\n",
    "        self.balance = balance\n",
    "\n",
    "    def deposit(self,amount):\n",
    "        self.balance += amount\n",
    "        print(f'{amount} deposited in your account. New balance: {self.balance}')\n",
    "    def withdraw (self, amount):\n",
    "        if self.balance >= amount:\n",
    "            self.balance -= amount\n",
    "            print(f'{amount} withdraw from your account. New balance: {self.balance}')\n",
    "        else:\n",
    "            print('Insufficient funds.')\n",
    "    def display_balance(self):\n",
    "        print(f'Your current balance is: {self.balance}')\n",
    "# CREATE AN OBJECT OF THE BANK ACCOUNT CLASS\n",
    "\n",
    "account = BankAccount('LS',150000)\n",
    "\n",
    "# DEPOSIT 5000 IN THE ACCCOUNT\n",
    "account.deposit(5000)\n",
    "\n",
    "# WITHDREAW 500 FROPM THE ACCOUNT\n",
    "account.withdraw(500)\n",
    "\n",
    "# DISPLAY THE CURRENT BALANCE\n",
    "account.display_balance()"
   ]
  },
  {
   "cell_type": "markdown",
   "id": "72f9535d",
   "metadata": {},
   "source": [
    "# DAY =29 SEP -3"
   ]
  },
  {
   "cell_type": "code",
   "execution_count": null,
   "id": "6f9fd2b0",
   "metadata": {},
   "outputs": [
    {
     "name": "stdout",
     "output_type": "stream",
     "text": [
      "Enter the number:49\n",
      "square root of 49.0 is 7.00\n"
     ]
    }
   ],
   "source": [
    "# A PYTHON PROGRAM TO CREATE A STATIC METHOD THAT CALCULATION THE SQUARE ROOT OF A GIVEN NUMBER\n",
    "\n",
    "import math\n",
    "\n",
    "class square:\n",
    "    # Static method declaration\n",
    "    def calculation(x):\n",
    "        result=math.sqrt(x)\n",
    "        return result\n",
    "# Accept a number from keyboard\n",
    "num= float(input('Enter the number:'))\n",
    "sq=square.calculation(num)\n",
    "print(f'square root of {num} is {sq:.2f}')\n",
    "\n"
   ]
  },
  {
   "cell_type": "code",
   "execution_count": null,
   "id": "fca02e3b",
   "metadata": {},
   "outputs": [
    {
     "name": "stdout",
     "output_type": "stream",
     "text": [
      "Enter TWO measures:5 7 \n",
      "Area of square is= 25.0\n",
      "Area of Rectangle is= 35.0\n"
     ]
    }
   ],
   "source": [
    "# A python program to access base class construct and method in the sub class using super().\n",
    "# super(). = Value Inherited\n",
    "\n",
    "\n",
    "class square:\n",
    "    def __init__(self,x):\n",
    "        self.x=x\n",
    "    def area (self):\n",
    "        print('Area of square is=',self.x*self.x)\n",
    "class rectangle(square):\n",
    "    def __init__(self,x,y):\n",
    "        super().__init__(x)\n",
    "        self.y=y\n",
    "    def area(self):\n",
    "        super().area()\n",
    "        print('Area of Rectangle is=',self.x*self.y)\n",
    "a,b=[float(x) for x in input('Enter TWO measures:').split()]\n",
    "r=rectangle(a,b)\n",
    "r.area()\n"
   ]
  },
  {
   "cell_type": "code",
   "execution_count": null,
   "id": "2925ea21",
   "metadata": {},
   "outputs": [
    {
     "name": "stdout",
     "output_type": "stream",
     "text": [
      "Mahabharat has more pages\n"
     ]
    }
   ],
   "source": [
    "# A python program to overload greater that(>) operator to make it act on class objects\n",
    "#gt-(>), lt-(<)\n",
    "\n",
    "class Ramayan:\n",
    "    def __init__(self,pages):\n",
    "        self.pg = pages\n",
    "    def __gt__(self,other):\n",
    "        return self.pg>other.pg\n",
    "\n",
    "class Mahabharat:\n",
    "    def __init__(self,pages):\n",
    "        self.pg=pages\n",
    "Ram = Ramayan(1200)\n",
    "Mah = Mahabharat(2000)\n",
    "\n",
    "if (Ram>Mah):\n",
    "    print('Ramayan has more pages')\n",
    "else:\n",
    "    print('Mahabharat has more pages')\n",
    "\n"
   ]
  },
  {
   "cell_type": "markdown",
   "id": "f5a7317d",
   "metadata": {},
   "source": [
    "# DAY -30  SEP- 9"
   ]
  },
  {
   "cell_type": "code",
   "execution_count": null,
   "id": "9a10b977",
   "metadata": {},
   "outputs": [
    {
     "name": "stdout",
     "output_type": "stream",
     "text": [
      "<re.Match object; span=(6, 11), match='Mango'>\n",
      "Mango\n"
     ]
    }
   ],
   "source": [
    "# REULAR EXPRESSION\n",
    "\n",
    "import re\n",
    "\n",
    "# SEARCH\n",
    "\n",
    "str='Apple Mango Pappya'\n",
    "s= re.search(r'Mango',str)\n",
    "print(s)\n",
    "if s:\n",
    "    print(s.group())"
   ]
  },
  {
   "cell_type": "code",
   "execution_count": null,
   "id": "c706795e",
   "metadata": {},
   "outputs": [
    {
     "name": "stdout",
     "output_type": "stream",
     "text": [
      "<re.Match object; span=(0, 7), match='Straive'> Starts with 'Straive'\n"
     ]
    }
   ],
   "source": [
    "# START OF STRiNG(^) - REGULAR EXPRESSION \n",
    "str='Straive company looks good'\n",
    "y=re.search(r'^Straive',str)\n",
    "\n",
    "if y:\n",
    "    print(y,\"\\n Starts with 'Straive'\")\n",
    "else:\n",
    "    print(y,\"\\n Does not starts with 'Straive'\")\n",
    "\n"
   ]
  },
  {
   "cell_type": "code",
   "execution_count": null,
   "id": "b23376b6",
   "metadata": {},
   "outputs": [
    {
     "name": "stdout",
     "output_type": "stream",
     "text": [
      "None Does not starts with 'Straive'\n"
     ]
    }
   ],
   "source": [
    "str='Straive company looks good'\n",
    "y=re.search(r'^StraivE',str)\n",
    "\n",
    "if y:\n",
    "    print(y,\"\\n Starts with 'Straive'\")\n",
    "else:\n",
    "    print(y,\"\\n Does not starts with 'Straive'\")\n",
    "\n"
   ]
  },
  {
   "cell_type": "code",
   "execution_count": null,
   "id": "9cb88a34",
   "metadata": {},
   "outputs": [
    {
     "name": "stdout",
     "output_type": "stream",
     "text": [
      "<re.Match object; span=(22, 26), match='good'> Ends with 'good'\n"
     ]
    }
   ],
   "source": [
    "# END OF STRING($) - REGULAR RXPRESSION\n",
    "\n",
    "str='Straive company looks good'\n",
    "y=re.search(r'good$',str)\n",
    "\n",
    "if y:\n",
    "    print(y,\"\\n Ends with 'good'\")\n",
    "else:\n",
    "    print(y,\"\\n Does not Ends with 'good'\")\n",
    "\n"
   ]
  },
  {
   "cell_type": "code",
   "execution_count": null,
   "id": "011877ed",
   "metadata": {},
   "outputs": [
    {
     "name": "stdout",
     "output_type": "stream",
     "text": [
      "<re.Match object; span=(0, 7), match='Malabar'> \n",
      " str starts with 'Malabar'\n"
     ]
    }
   ],
   "source": [
    "# SEARCH USING IGNORECASE METHOD\n",
    "\n",
    "str='Malabar Gold & Diamonds'\n",
    "igr=re.search(r'^malabar',str,re.IGNORECASE)\n",
    "if igr:\n",
    "    print(igr,\"\\n str starts with 'Malabar'\")\n",
    "else:\n",
    "    print(igr,\"\\n str does not starts with 'Malabar'\")\n"
   ]
  },
  {
   "cell_type": "code",
   "execution_count": null,
   "id": "5c892a51",
   "metadata": {},
   "outputs": [
    {
     "name": "stdout",
     "output_type": "stream",
     "text": [
      "['85', '84', '98']\n",
      "['Jk', 'Jin', 'V']\n"
     ]
    }
   ],
   "source": [
    "# A python program to create a regular expression to retrive marks and names from a given string\n",
    "# {2} - number occurence\n",
    "#\\d- decimal, \\n - newe line, \\r - read\n",
    "# findall- brings particular charecters\n",
    "\n",
    "str='Jk got 85 points, Jin got 84 points and the winner of the game is V he got 98 points'\n",
    "points=re.findall('\\d{2}',str)\n",
    "print(points)\n",
    "\n",
    "\n",
    "names=re.findall('[A-Z][a-z]*',str)\n",
    "print(names)\n"
   ]
  },
  {
   "cell_type": "code",
   "execution_count": null,
   "id": "41056765",
   "metadata": {},
   "outputs": [
    {
     "name": "stdout",
     "output_type": "stream",
     "text": [
      "['5pm ', '6pm ', ' 8AM']\n"
     ]
    }
   ],
   "source": [
    "str='The programm will be held on Dec 7th at 5pm or 6pm or 8PM or 8AM'\n",
    "t=re.findall(r'\\dpm | \\dAM',str)\n",
    "print(t)\n"
   ]
  },
  {
   "cell_type": "markdown",
   "id": "25e34a87",
   "metadata": {},
   "source": [
    "# DAY - 31 SEP - 10"
   ]
  },
  {
   "cell_type": "code",
   "execution_count": null,
   "id": "8a51fe8e",
   "metadata": {},
   "outputs": [
    {
     "name": "stdout",
     "output_type": "stream",
     "text": [
      "['En']\n"
     ]
    }
   ],
   "source": [
    "# REGULAR EXPRESSION\n",
    "\n",
    "# r - RAW INPUT\n",
    "import re\n",
    "s= 'English Tamil'\n",
    "r=re.findall(r'^En',s)\n",
    "print(r)\n",
    "  "
   ]
  },
  {
   "cell_type": "code",
   "execution_count": null,
   "id": "0d4be300",
   "metadata": {},
   "outputs": [
    {
     "name": "stdout",
     "output_type": "stream",
     "text": [
      "[]\n"
     ]
    }
   ],
   "source": [
    "s= 'English Tamil'\n",
    "r=re.findall(r'^EN',s)\n",
    "print(r)\n",
    "\n"
   ]
  },
  {
   "cell_type": "code",
   "execution_count": null,
   "id": "deb7a610",
   "metadata": {},
   "outputs": [
    {
     "name": "stdout",
     "output_type": "stream",
     "text": [
      "The string starts with 'En'\n"
     ]
    }
   ],
   "source": [
    "s= 'English Tamil'\n",
    "r=re.findall(r'^En',s)\n",
    "if r:\n",
    "    print(\"The string starts with 'En'\")\n",
    "else:\n",
    "    print(\"The string does not starts with 'En'\")\n",
    "\n"
   ]
  },
  {
   "cell_type": "code",
   "execution_count": null,
   "id": "01fe05c5",
   "metadata": {},
   "outputs": [
    {
     "name": "stdout",
     "output_type": "stream",
     "text": [
      "The ends starts with 'l'\n"
     ]
    }
   ],
   "source": [
    "s= 'English Tamil'\n",
    "r=re.findall(r'l$',s)\n",
    "if r:\n",
    "    print(\"The ends starts with 'l'\")\n",
    "else:\n",
    "    print(\"The string does not ends with 'l'\")\n",
    "\n"
   ]
  },
  {
   "cell_type": "code",
   "execution_count": null,
   "id": "e8b0bca6",
   "metadata": {},
   "outputs": [
    {
     "name": "stdout",
     "output_type": "stream",
     "text": [
      "<re.Match object; span=(5, 8), match='oil'> \n",
      " The particular string is Available\n"
     ]
    }
   ],
   "source": [
    "# A python program to create a regular expression to search whether a given string is ending with particular word or not\n",
    "\n",
    "s='Hair oil'\n",
    "r=re.search(r'oil',s)\n",
    "if r:\n",
    "    print(r,\"\\n The particular string is Available\")\n",
    "else:\n",
    "    print(\" The particular string id Not Available\")\n"
   ]
  },
  {
   "cell_type": "code",
   "execution_count": null,
   "id": "74911d54",
   "metadata": {},
   "outputs": [
    {
     "name": "stdout",
     "output_type": "stream",
     "text": [
      "['Apple', 'Mango', 'Grape']\n"
     ]
    }
   ],
   "source": [
    "# \\b - REPRESENTS THE BEGINING AND ENDING OF THE STRING\n",
    "pattern=re.compile(r'\\b\\w{5}\\b')\n",
    "r=pattern.findall('Apple,Mango,Watermelon,Grape')\n",
    "print(r)\n",
    "\n"
   ]
  },
  {
   "cell_type": "code",
   "execution_count": null,
   "id": "e2207be1",
   "metadata": {},
   "outputs": [
    {
     "name": "stdout",
     "output_type": "stream",
     "text": [
      "['Apple', 'Mango', 'Water', 'melon', 'Grape']\n"
     ]
    }
   ],
   "source": [
    "pattern=re.compile(r'\\b\\w{5}\\b')\n",
    "r=pattern.findall('Apple,Mango,Water melon,Grape')\n",
    "print(r)\n",
    "\n"
   ]
  },
  {
   "cell_type": "code",
   "execution_count": null,
   "id": "7cbc2580",
   "metadata": {},
   "outputs": [
    {
     "name": "stdout",
     "output_type": "stream",
     "text": [
      "['Watermelon']\n"
     ]
    }
   ],
   "source": [
    "pattern=re.compile(r'\\b\\w{10}\\b')\n",
    "r=pattern.findall('Apple,Mango,Watermelon,Grape')\n",
    "print(r)\n"
   ]
  },
  {
   "cell_type": "code",
   "execution_count": null,
   "id": "4ef47613",
   "metadata": {},
   "outputs": [
    {
     "name": "stdout",
     "output_type": "stream",
     "text": [
      "<re.Match object; span=(6, 13), match='Almonds'> \n",
      " string ends with 'Almonds'\n"
     ]
    }
   ],
   "source": [
    "# A python program to create a regular expression to search at the ending a string by ignoring the case\n",
    "\n",
    "from re import*\n",
    "\n",
    "s='Dates Almonds'\n",
    "r=search(r'almonDs$',s,IGNORECASE)\n",
    "if r:\n",
    "    print(r,\"\\n string ends with 'Almonds'\")\n",
    "else:\n",
    "    print(r,\"\\n string does ends with 'Almonds'\")\n",
    "\n"
   ]
  },
  {
   "cell_type": "code",
   "execution_count": null,
   "id": "7408b15d",
   "metadata": {},
   "outputs": [
    {
     "name": "stdout",
     "output_type": "stream",
     "text": [
      "None\n",
      "None\n",
      "None\n"
     ]
    }
   ],
   "source": [
    "# Python program to creat a regex that reads - Email id's from a text file\n",
    "import re\n",
    "\n",
    "fs=open('D:\\\\python programming\\\\Regex.txt','r')\n",
    "for line in fs:\n",
    "    rs=re.search(r'\\s+@\\s.+',line)\n",
    "    print(rs)\n",
    "fs.close()\n",
    "\n"
   ]
  },
  {
   "cell_type": "code",
   "execution_count": null,
   "id": "a51e595c",
   "metadata": {},
   "outputs": [
    {
     "name": "stdout",
     "output_type": "stream",
     "text": [
      "My mother tongue is Telugu\n"
     ]
    }
   ],
   "source": [
    "# Python program to create a regular expression to replace a string with a new string\n",
    "\n",
    "import re\n",
    "s='My mother tongue is Malayalam'\n",
    "r=re.sub(r'Malayalam','Telugu',s)\n",
    "print(r)\n",
    "\n"
   ]
  },
  {
   "cell_type": "code",
   "execution_count": null,
   "id": "5ea321e7",
   "metadata": {},
   "outputs": [
    {
     "name": "stdout",
     "output_type": "stream",
     "text": [
      "<re.Match object; span=(5, 11), match='Biscut'>\n",
      "<re.Match object; span=(0, 6), match='Biscut'>\n",
      "['Biscut', 'Biscut']\n",
      "<re.Match object; span=(5, 11), match='Biscut'>\n",
      "<re.Match object; span=(40, 46), match='Biscut'>\n"
     ]
    }
   ],
   "source": [
    "print(re.search(\"Biscut\",\"Oreo Biscuts taste better than Good day Biscut\"))\n",
    "print(re.match(\"Biscut\",\"Biscuts taste's good\"))\n",
    "print(re.findall(\"Biscut\",\"Oreo Biscuts taste better than Good day Biscut\"))\n",
    "for match in re.finditer(\"Biscut\",\"Oreo Biscuts taste better than Good day Biscut\"):\n",
    "    print(match)\n"
   ]
  },
  {
   "cell_type": "code",
   "execution_count": null,
   "id": "e4f6638f",
   "metadata": {},
   "outputs": [
    {
     "name": "stdout",
     "output_type": "stream",
     "text": [
      "\t Look at there.there is a \n",
      " SQUIRREL\n",
      "\\t Look at there.there is a \\n SQUIRREL\n"
     ]
    }
   ],
   "source": [
    "# DISPLAY RAW STRING\n",
    "# \\t - tab space , \\n - new line \n",
    "\n",
    "print(\"\\t Look at there.there is a \\n SQUIRREL\")\n",
    "print(r\"\\t Look at there.there is a \\n SQUIRREL\")\n",
    "\n"
   ]
  },
  {
   "cell_type": "code",
   "execution_count": null,
   "id": "47bf7db2",
   "metadata": {},
   "outputs": [],
   "source": []
  }
 ],
 "metadata": {
  "kernelspec": {
   "display_name": "Python 3 (ipykernel)",
   "language": "python",
   "name": "python3"
  },
  "language_info": {
   "codemirror_mode": {
    "name": "ipython",
    "version": 3
   },
   "file_extension": ".py",
   "mimetype": "text/x-python",
   "name": "python",
   "nbconvert_exporter": "python",
   "pygments_lexer": "ipython3",
   "version": "3.11.5"
  }
 },
 "nbformat": 4,
 "nbformat_minor": 5
}
